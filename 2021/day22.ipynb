{
 "cells": [
  {
   "cell_type": "code",
   "execution_count": 1,
   "id": "5653ba3e",
   "metadata": {
    "ExecuteTime": {
     "end_time": "2021-12-22T20:25:47.931224Z",
     "start_time": "2021-12-22T20:25:47.926702Z"
    }
   },
   "outputs": [],
   "source": [
    "from pathlib import Path"
   ]
  },
  {
   "cell_type": "code",
   "execution_count": 2,
   "id": "dac53ea5",
   "metadata": {
    "ExecuteTime": {
     "end_time": "2021-12-22T20:25:48.053936Z",
     "start_time": "2021-12-22T20:25:48.047513Z"
    }
   },
   "outputs": [],
   "source": [
    "lines = Path(\"day22.txt\").read_text().splitlines()\n",
    "steps = [(tok[0] == 'on', [tuple([int(r) for r in t[2:].split(\"..\")]) for t in tok[1].split(\",\")])\n",
    "         for line in lines for tok in [line.split()]]"
   ]
  },
  {
   "cell_type": "markdown",
   "id": "5149c46a",
   "metadata": {
    "deletable": false,
    "editable": false,
    "run_control": {
     "frozen": true
    }
   },
   "source": [
    "## Part 1"
   ]
  },
  {
   "cell_type": "code",
   "execution_count": 3,
   "id": "222d47eb",
   "metadata": {
    "ExecuteTime": {
     "end_time": "2021-12-22T20:25:49.340916Z",
     "start_time": "2021-12-22T20:25:48.719932Z"
    }
   },
   "outputs": [
    {
     "data": {
      "text/plain": [
       "648681"
      ]
     },
     "execution_count": 3,
     "metadata": {},
     "output_type": "execute_result"
    }
   ],
   "source": [
    "cubes = set()\n",
    "for on, ((x0, x1), (y0, y1), (z0, z1)) in steps:\n",
    "    for x in range(max(x0, -50), min(x1, 50) + 1):\n",
    "        for y in range(max(y0, -50), min(y1, 50) + 1):\n",
    "            for z in range(max(z0, -50), min(z1, 50) + 1):\n",
    "                if on:\n",
    "                    cubes.add((x, y, z))\n",
    "                elif (x, y, z) in cubes:\n",
    "                    cubes.remove((x, y, z))\n",
    "\n",
    "len(cubes)"
   ]
  },
  {
   "cell_type": "markdown",
   "id": "da42a279",
   "metadata": {
    "deletable": false,
    "editable": false,
    "run_control": {
     "frozen": true
    }
   },
   "source": [
    "## Part 2"
   ]
  },
  {
   "cell_type": "code",
   "execution_count": 5,
   "id": "55c3d336",
   "metadata": {
    "ExecuteTime": {
     "end_time": "2021-12-22T20:27:05.170426Z",
     "start_time": "2021-12-22T20:27:01.385322Z"
    }
   },
   "outputs": [
    {
     "data": {
      "text/plain": [
       "1302784472088899"
      ]
     },
     "execution_count": 5,
     "metadata": {},
     "output_type": "execute_result"
    }
   ],
   "source": [
    "def prod(x):\n",
    "    p = 1\n",
    "    for x in x: p *= x\n",
    "    return p\n",
    "\n",
    "def sizes(c):\n",
    "    return [max(b - a + 1, 0) for a, b in c]\n",
    "\n",
    "def size(c):\n",
    "    return prod(sizes(c))\n",
    "\n",
    "def intersect(c0, c1):\n",
    "    return [(max(a[0], b[0]), min(a[1], b[1])) for a, b in zip(c0, c1)]\n",
    "\n",
    "def difference(c0, c1):\n",
    "    # optimize the difference for an empty intersection\n",
    "    if size(i := intersect(c0, c1)) == 0:\n",
    "        return [c0]\n",
    "    \n",
    "    (ix0, ix1), (iy0, iy1), (iz0, iz1) = i\n",
    "    (cx0, cx1), (cy0, cy1), (cz0, cz1) = c0\n",
    "    \n",
    "    # create candidate difference cuboids\n",
    "    # . a pair along the x-axis on either side of the subtrahend\n",
    "    # . a pair along the y-axis, except for the cells in the first pair\n",
    "    # . finally a pair along the z-axis, to cap off the difference\n",
    "    cs = [\n",
    "        ((cx0, ix0 - 1), (cy0, cy1), (cz0, cz1)),\n",
    "        ((ix1 + 1, cx1), (cy0, cy1), (cz0, cz1)),\n",
    "        ((ix0, ix1), (cy0, iy0 - 1), (cz0, cz1)),\n",
    "        ((ix0, ix1), (iy1 + 1, cy1), (cz0, cz1)),\n",
    "        ((ix0, ix1), (iy0, iy1), (cz0, iz0 - 1)),\n",
    "        ((ix0, ix1), (iy0, iy1), (iz1 + 1, cz1)),\n",
    "    ]\n",
    "    \n",
    "    # ignore any empty/invalid cuboids\n",
    "    return [c for c in cs if size(c) > 0]\n",
    "\n",
    "cubes = []\n",
    "for on, c in steps:\n",
    "    # for either on/off steps, remove the indicated cuboids from all existing\n",
    "    cubes = sum((difference(o, c) for o in cubes), start=[])\n",
    "    \n",
    "    # if turning on, we now know that the new cuboid has no\n",
    "    # intersection with any existing, so simply add it\n",
    "    if on:\n",
    "        cubes.append(c)\n",
    "\n",
    "sum(size(c) for c in cubes)"
   ]
  },
  {
   "cell_type": "code",
   "execution_count": null,
   "id": "c2bdbee0",
   "metadata": {},
   "outputs": [],
   "source": []
  }
 ],
 "metadata": {
  "kernelspec": {
   "display_name": "Python 3 (ipykernel)",
   "language": "python",
   "name": "python3"
  },
  "language_info": {
   "codemirror_mode": {
    "name": "ipython",
    "version": 3
   },
   "file_extension": ".py",
   "mimetype": "text/x-python",
   "name": "python",
   "nbconvert_exporter": "python",
   "pygments_lexer": "ipython3",
   "version": "3.10.0"
  }
 },
 "nbformat": 4,
 "nbformat_minor": 5
}
