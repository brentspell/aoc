{
 "cells": [
  {
   "cell_type": "code",
   "execution_count": 91,
   "id": "5653ba3e",
   "metadata": {
    "ExecuteTime": {
     "end_time": "2021-12-20T15:08:36.894425Z",
     "start_time": "2021-12-20T15:08:36.891654Z"
    }
   },
   "outputs": [],
   "source": [
    "from collections import defaultdict\n",
    "from pathlib import Path"
   ]
  },
  {
   "cell_type": "code",
   "execution_count": 113,
   "id": "dac53ea5",
   "metadata": {
    "ExecuteTime": {
     "end_time": "2021-12-20T15:16:48.397508Z",
     "start_time": "2021-12-20T15:16:48.394105Z"
    }
   },
   "outputs": [],
   "source": [
    "data = Path(\"day20.txt\").read_text().splitlines()\n",
    "algorithm = data[0]\n",
    "image = data[2:]"
   ]
  },
  {
   "cell_type": "code",
   "execution_count": 134,
   "id": "abfbc1b0",
   "metadata": {
    "ExecuteTime": {
     "end_time": "2021-12-20T15:23:50.416409Z",
     "start_time": "2021-12-20T15:23:50.409016Z"
    }
   },
   "outputs": [],
   "source": [
    "def default(n):\n",
    "    # algorithm[0] and algorithm[-1] determines whether the default for pixels \n",
    "    # outside the tracked image area flip every turn\n",
    "    return algorithm[0] == \"#\" and algorithm[-1] == \".\" and n % 2 == 0\n",
    "\n",
    "def simulate(iterations):\n",
    "    # construct the original sparse image state\n",
    "    input_ = defaultdict(bool)\n",
    "    for i in range(len(image)):\n",
    "        for j in range(len(image[i])):\n",
    "            input_[(i, j)] = image[i][j] == \"#\"\n",
    "    \n",
    "    # compute the new image for each enhancement iteration\n",
    "    # we must explicitly track an additional row/column of pixels (the margin)\n",
    "    # at each iteration, and all other pixels are maintained via the\n",
    "    # collection default\n",
    "    margin = 0\n",
    "    for n in range(iterations):\n",
    "        margin += 1\n",
    "        output = defaultdict(lambda n=n: default(n))\n",
    "        for i in range(-margin, len(image) + margin):\n",
    "            for j in range(-margin, len(image[0]) + margin):\n",
    "                address = \"\".join(str(int(input_[(p, q)])) \n",
    "                                  for p in range(i - 1, i + 2) \n",
    "                                  for q in range(j - 1, j + 2))\n",
    "                output[(i, j)] = algorithm[int(address, base=2)] == \"#\"\n",
    "        input_ = output\n",
    "\n",
    "    return sum(output.values())"
   ]
  },
  {
   "cell_type": "markdown",
   "id": "5149c46a",
   "metadata": {
    "deletable": false,
    "editable": false,
    "run_control": {
     "frozen": true
    }
   },
   "source": [
    "## Part 1"
   ]
  },
  {
   "cell_type": "code",
   "execution_count": 135,
   "id": "222d47eb",
   "metadata": {
    "ExecuteTime": {
     "end_time": "2021-12-20T15:23:50.963367Z",
     "start_time": "2021-12-20T15:23:50.856002Z"
    }
   },
   "outputs": [
    {
     "data": {
      "text/plain": [
       "5419"
      ]
     },
     "execution_count": 135,
     "metadata": {},
     "output_type": "execute_result"
    }
   ],
   "source": [
    "simulate(2)"
   ]
  },
  {
   "cell_type": "markdown",
   "id": "da42a279",
   "metadata": {
    "deletable": false,
    "editable": false,
    "run_control": {
     "frozen": true
    }
   },
   "source": [
    "## Part 2"
   ]
  },
  {
   "cell_type": "code",
   "execution_count": 136,
   "id": "db672ff4",
   "metadata": {
    "ExecuteTime": {
     "end_time": "2021-12-20T15:23:56.709007Z",
     "start_time": "2021-12-20T15:23:51.504302Z"
    }
   },
   "outputs": [
    {
     "data": {
      "text/plain": [
       "17325"
      ]
     },
     "execution_count": 136,
     "metadata": {},
     "output_type": "execute_result"
    }
   ],
   "source": [
    "simulate(50)"
   ]
  },
  {
   "cell_type": "code",
   "execution_count": null,
   "id": "422fef7d",
   "metadata": {},
   "outputs": [],
   "source": []
  }
 ],
 "metadata": {
  "kernelspec": {
   "display_name": "Python 3 (ipykernel)",
   "language": "python",
   "name": "python3"
  },
  "language_info": {
   "codemirror_mode": {
    "name": "ipython",
    "version": 3
   },
   "file_extension": ".py",
   "mimetype": "text/x-python",
   "name": "python",
   "nbconvert_exporter": "python",
   "pygments_lexer": "ipython3",
   "version": "3.10.0"
  }
 },
 "nbformat": 4,
 "nbformat_minor": 5
}
