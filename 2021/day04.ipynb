{
 "cells": [
  {
   "cell_type": "code",
   "execution_count": 24,
   "id": "5653ba3e",
   "metadata": {
    "ExecuteTime": {
     "end_time": "2021-12-04T14:20:54.972376Z",
     "start_time": "2021-12-04T14:20:54.969496Z"
    }
   },
   "outputs": [],
   "source": [
    "from pathlib import Path\n",
    "import numpy as np"
   ]
  },
  {
   "cell_type": "code",
   "execution_count": 32,
   "id": "c3af2e21",
   "metadata": {
    "ExecuteTime": {
     "end_time": "2021-12-04T14:21:41.675573Z",
     "start_time": "2021-12-04T14:21:41.672272Z"
    }
   },
   "outputs": [],
   "source": [
    "lines = Path(\"day04.txt\").read_text().splitlines()"
   ]
  },
  {
   "cell_type": "markdown",
   "id": "5149c46a",
   "metadata": {
    "deletable": false,
    "editable": false,
    "run_control": {
     "frozen": true
    }
   },
   "source": [
    "## Part 1"
   ]
  },
  {
   "cell_type": "code",
   "execution_count": 53,
   "id": "21e1aa01",
   "metadata": {
    "ExecuteTime": {
     "end_time": "2021-12-04T14:33:43.072420Z",
     "start_time": "2021-12-04T14:33:43.030956Z"
    }
   },
   "outputs": [
    {
     "data": {
      "text/plain": [
       "54275"
      ]
     },
     "execution_count": 53,
     "metadata": {},
     "output_type": "execute_result"
    }
   ],
   "source": [
    "draws = [int(s) for s in lines[0].split(\",\")]\n",
    "boards = [np.array([[int(c) for c in r.split()] for r in lines[i:][:5]])\n",
    "          for i in range(2, len(lines), 6)]\n",
    "\n",
    "for draw, board in ((d, b) for d in draws for b in boards):\n",
    "    board[board == draw] = -1\n",
    "    if (board == -1).all(0).any() or (board == -1).all(1).any():\n",
    "        break\n",
    "\n",
    "draw * board[board >= 0].sum()\n"
   ]
  },
  {
   "cell_type": "markdown",
   "id": "da42a279",
   "metadata": {
    "deletable": false,
    "editable": false,
    "run_control": {
     "frozen": true
    }
   },
   "source": [
    "## Part 2"
   ]
  },
  {
   "cell_type": "code",
   "execution_count": 54,
   "id": "b503c2e6",
   "metadata": {
    "ExecuteTime": {
     "end_time": "2021-12-04T14:33:43.720419Z",
     "start_time": "2021-12-04T14:33:43.646760Z"
    }
   },
   "outputs": [
    {
     "data": {
      "text/plain": [
       "13158"
      ]
     },
     "execution_count": 54,
     "metadata": {},
     "output_type": "execute_result"
    }
   ],
   "source": [
    "draws = [int(s) for s in lines[0].split(\",\")]\n",
    "boards = [np.array([[int(c) for c in r.split()] for r in lines[i:][:5]])\n",
    "          for i in range(2, len(lines), 6)]\n",
    "\n",
    "for draw in draws:\n",
    "    for board in boards.copy():\n",
    "        board[board == draw] = -1\n",
    "        if (board == -1).all(0).any() or (board == -1).all(1).any():\n",
    "            boards = [b for b in boards if b is not board]\n",
    "    if len(boards) == 0:\n",
    "        break\n",
    "\n",
    "draw * board[board >= 0].sum()\n"
   ]
  },
  {
   "cell_type": "code",
   "execution_count": null,
   "id": "36d7aa8b",
   "metadata": {},
   "outputs": [],
   "source": []
  }
 ],
 "metadata": {
  "kernelspec": {
   "display_name": "Python 3 (ipykernel)",
   "language": "python",
   "name": "python3"
  },
  "language_info": {
   "codemirror_mode": {
    "name": "ipython",
    "version": 3
   },
   "file_extension": ".py",
   "mimetype": "text/x-python",
   "name": "python",
   "nbconvert_exporter": "python",
   "pygments_lexer": "ipython3",
   "version": "3.10.0"
  }
 },
 "nbformat": 4,
 "nbformat_minor": 5
}
