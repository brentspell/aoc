{
 "cells": [
  {
   "cell_type": "code",
   "execution_count": 16,
   "id": "5653ba3e",
   "metadata": {
    "ExecuteTime": {
     "end_time": "2021-12-28T13:22:20.754532Z",
     "start_time": "2021-12-28T13:22:20.751703Z"
    }
   },
   "outputs": [],
   "source": [
    "import heapq\n",
    "from pathlib import Path"
   ]
  },
  {
   "cell_type": "code",
   "execution_count": 17,
   "id": "d26d6f88",
   "metadata": {
    "ExecuteTime": {
     "end_time": "2021-12-28T13:22:20.962811Z",
     "start_time": "2021-12-28T13:22:20.958986Z"
    }
   },
   "outputs": [],
   "source": [
    "ENERGY = dict(A=1, B=10, C=100, D=1000)\n",
    "TARGETS = {\"A\": 3, \"B\": 5, \"C\": 7, \"D\": 9}\n",
    "\n",
    "data = Path(\"day23.txt\").read_text()"
   ]
  },
  {
   "cell_type": "code",
   "execution_count": 21,
   "id": "c68b3404",
   "metadata": {
    "ExecuteTime": {
     "end_time": "2021-12-28T13:24:44.756927Z",
     "start_time": "2021-12-28T13:24:44.742157Z"
    }
   },
   "outputs": [],
   "source": [
    "\n",
    "def parse(string):\n",
    "    return {(i, j): c\n",
    "            for i, l in enumerate(string.splitlines()) \n",
    "            for j, c in enumerate(l)\n",
    "            if c in \"ABCD\"}\n",
    "\n",
    "def render(state):\n",
    "    height = max(k[0] for k in state.keys())\n",
    "    return \"\\n\".join(\"\".join(state.get((i, j), \n",
    "                                       \".\" if i == 1 and j in range(1, 12) \n",
    "                                           or i in range(1, height + 1) and j in {3, 5, 7, 9} \n",
    "                                       else \"#\") \n",
    "                             for j in range(13)) \n",
    "                     for i in range(height + 2))\n",
    "\n",
    "def update(state, old, new, value):\n",
    "    state = state.copy()\n",
    "    state.pop(old)\n",
    "    state[new] = value\n",
    "    return state\n",
    "\n",
    "def expand(queue, done, state, cost):\n",
    "    state = render(state)\n",
    "    if cost < done.get(state, 1e6):\n",
    "        done[state] = cost\n",
    "        heapq.heappush(queue, (cost, state))\n",
    "\n",
    "def solve(state, depth):\n",
    "    done = {}\n",
    "    queue = [(0, state)]\n",
    "    while queue:\n",
    "        # basic dijkstra, pull next cheapest state off the heap\n",
    "        cost, state = heapq.heappop(queue)\n",
    "        state = parse(state)\n",
    "\n",
    "        # if we have rearranged all the amphipods, return the cheapest cost\n",
    "        if all(state.get((i, j)) == a for a, j in TARGETS.items() for i in range(2, depth + 2)):\n",
    "            return cost\n",
    "\n",
    "        # attempt to expand the search for all amphipods\n",
    "        for (i, j), a in state.items():\n",
    "            pcost = cost\n",
    "            p = i\n",
    "            \n",
    "            # first, see if this amphipod can leave its current room\n",
    "            # the amphipod will stay put if there are any others blocking\n",
    "            # it or if it has reached its final destination\n",
    "            if i > 1 and all((k, j) not in state for k in range(2, i)):\n",
    "                if j != TARGETS[a] or not all(state.get((k, j), a) == a for k in range(2, depth + 2)):\n",
    "                    p = 1\n",
    "                    pcost += abs(p - i) * ENERGY[a]\n",
    "\n",
    "            # if we are in the hallway, move left/right until stopped\n",
    "            if p == 1:\n",
    "                for qs in [range(j - 1, 0, -1), range(j + 1, 12)]:\n",
    "                    for q in qs:\n",
    "                        # if we have reached another amphipod, stop\n",
    "                        if (p, q) in state:\n",
    "                            break\n",
    "                            \n",
    "                        # if we are just entering the hallway (rule 3), \n",
    "                        # expand the search in all non-doorway steps\n",
    "                        if i > 1 and q not in {3, 5, 7, 9}:\n",
    "                            expand(queue, \n",
    "                                   done, \n",
    "                                   update(state, (i, j), (p, q), a),\n",
    "                                   pcost + abs(q - j) * ENERGY[a])\n",
    "                        \n",
    "                        # if we have reached our destination room\n",
    "                        # and it only contains its target amphipods,\n",
    "                        # move into it\n",
    "                        if q == TARGETS[a] and all(state.get((k, q), a) == a for k in range(2, depth + 2)):\n",
    "                            t = max(k for k in range(2, depth + 2) if (k, q) not in state)\n",
    "                            expand(queue,\n",
    "                                   done,\n",
    "                                   update(state, (i, j), (t, q), a),\n",
    "                                   pcost + (abs(t - 1) + abs(q - j)) * ENERGY[a])\n"
   ]
  },
  {
   "cell_type": "markdown",
   "id": "5149c46a",
   "metadata": {
    "deletable": false,
    "editable": false,
    "run_control": {
     "frozen": true
    }
   },
   "source": [
    "## Part 1"
   ]
  },
  {
   "cell_type": "code",
   "execution_count": 22,
   "id": "fc7e3082",
   "metadata": {
    "ExecuteTime": {
     "end_time": "2021-12-28T13:24:54.390129Z",
     "start_time": "2021-12-28T13:24:45.367469Z"
    }
   },
   "outputs": [
    {
     "data": {
      "text/plain": [
       "11516"
      ]
     },
     "execution_count": 22,
     "metadata": {},
     "output_type": "execute_result"
    }
   ],
   "source": [
    "solve(data, depth=2)"
   ]
  },
  {
   "cell_type": "markdown",
   "id": "da42a279",
   "metadata": {
    "deletable": false,
    "editable": false,
    "run_control": {
     "frozen": true
    }
   },
   "source": [
    "## Part 2"
   ]
  },
  {
   "cell_type": "code",
   "execution_count": 23,
   "id": "52f8ad42",
   "metadata": {
    "ExecuteTime": {
     "end_time": "2021-12-28T13:25:07.301063Z",
     "start_time": "2021-12-28T13:24:54.392346Z"
    }
   },
   "outputs": [
    {
     "data": {
      "text/plain": [
       "40272"
      ]
     },
     "execution_count": 23,
     "metadata": {},
     "output_type": "execute_result"
    }
   ],
   "source": [
    "data2 = render(parse(\"\\n\".join(data.splitlines()[:3] + \n",
    "                               [\"  #D#C#B#A#\", \n",
    "                                \"  #D#B#A#C#\"] +\n",
    "                               data.splitlines()[3:])))\n",
    "solve(data2, depth=4)"
   ]
  },
  {
   "cell_type": "code",
   "execution_count": null,
   "id": "60abc6bf",
   "metadata": {},
   "outputs": [],
   "source": []
  }
 ],
 "metadata": {
  "kernelspec": {
   "display_name": "Python 3 (ipykernel)",
   "language": "python",
   "name": "python3"
  },
  "language_info": {
   "codemirror_mode": {
    "name": "ipython",
    "version": 3
   },
   "file_extension": ".py",
   "mimetype": "text/x-python",
   "name": "python",
   "nbconvert_exporter": "python",
   "pygments_lexer": "ipython3",
   "version": "3.10.0"
  }
 },
 "nbformat": 4,
 "nbformat_minor": 5
}
