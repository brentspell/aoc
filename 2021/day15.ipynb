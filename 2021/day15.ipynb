{
 "cells": [
  {
   "cell_type": "code",
   "execution_count": 4,
   "id": "5653ba3e",
   "metadata": {
    "ExecuteTime": {
     "end_time": "2021-12-15T14:13:06.067357Z",
     "start_time": "2021-12-15T14:13:06.064447Z"
    }
   },
   "outputs": [],
   "source": [
    "import heapq\n",
    "from pathlib import Path"
   ]
  },
  {
   "cell_type": "code",
   "execution_count": 48,
   "id": "dac53ea5",
   "metadata": {
    "ExecuteTime": {
     "end_time": "2021-12-15T14:26:17.832773Z",
     "start_time": "2021-12-15T14:26:17.829724Z"
    }
   },
   "outputs": [],
   "source": [
    "lines = Path(\"day15.txt\").read_text().splitlines()"
   ]
  },
  {
   "cell_type": "code",
   "execution_count": 54,
   "id": "7d680f9f",
   "metadata": {
    "ExecuteTime": {
     "end_time": "2021-12-15T14:28:00.188647Z",
     "start_time": "2021-12-15T14:28:00.183490Z"
    }
   },
   "outputs": [],
   "source": [
    "def dijkstra(costs):\n",
    "    queue = [(0, (0, 0))]\n",
    "    done = set()\n",
    "    while queue:\n",
    "        cost, (i, j) = heapq.heappop(queue)\n",
    "        if (i, j) == (len(costs) - 1, len(costs[i]) - 1):\n",
    "            return cost\n",
    "        for p, q in [(i - 1, j), (i + 1, j), (i, j - 1), (i, j + 1)]:\n",
    "            if 0 <= p < len(costs) and 0 <= q < len(costs[p]) and (p, q) not in done:\n",
    "                done.add((p, q))\n",
    "                heapq.heappush(queue, (cost + costs[p][q], (p, q)))"
   ]
  },
  {
   "cell_type": "markdown",
   "id": "5149c46a",
   "metadata": {
    "deletable": false,
    "editable": false,
    "run_control": {
     "frozen": true
    }
   },
   "source": [
    "## Part 1"
   ]
  },
  {
   "cell_type": "code",
   "execution_count": 55,
   "id": "fa18e749",
   "metadata": {
    "ExecuteTime": {
     "end_time": "2021-12-15T14:28:02.160731Z",
     "start_time": "2021-12-15T14:28:02.119402Z"
    }
   },
   "outputs": [
    {
     "data": {
      "text/plain": [
       "403"
      ]
     },
     "execution_count": 55,
     "metadata": {},
     "output_type": "execute_result"
    }
   ],
   "source": [
    "costs = [[int(c) for c in line] for line in lines]\n",
    "dijkstra(costs)"
   ]
  },
  {
   "cell_type": "markdown",
   "id": "da42a279",
   "metadata": {
    "deletable": false,
    "editable": false,
    "run_control": {
     "frozen": true
    }
   },
   "source": [
    "## Part 2"
   ]
  },
  {
   "cell_type": "code",
   "execution_count": 56,
   "id": "db672ff4",
   "metadata": {
    "ExecuteTime": {
     "end_time": "2021-12-15T14:28:05.004705Z",
     "start_time": "2021-12-15T14:28:04.175818Z"
    }
   },
   "outputs": [
    {
     "data": {
      "text/plain": [
       "2840"
      ]
     },
     "execution_count": 56,
     "metadata": {},
     "output_type": "execute_result"
    }
   ],
   "source": [
    "costs = [[(int(c) + i + j - 1) % 9 + 1 for j in range(5) for c in line] \n",
    "         for i in range(5) for line in lines]\n",
    "dijkstra(costs)"
   ]
  },
  {
   "cell_type": "code",
   "execution_count": null,
   "id": "6435cbab",
   "metadata": {},
   "outputs": [],
   "source": []
  }
 ],
 "metadata": {
  "kernelspec": {
   "display_name": "Python 3 (ipykernel)",
   "language": "python",
   "name": "python3"
  },
  "language_info": {
   "codemirror_mode": {
    "name": "ipython",
    "version": 3
   },
   "file_extension": ".py",
   "mimetype": "text/x-python",
   "name": "python",
   "nbconvert_exporter": "python",
   "pygments_lexer": "ipython3",
   "version": "3.10.0"
  }
 },
 "nbformat": 4,
 "nbformat_minor": 5
}
