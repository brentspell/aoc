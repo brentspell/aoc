{
 "cells": [
  {
   "cell_type": "code",
   "execution_count": 1,
   "id": "5653ba3e",
   "metadata": {
    "ExecuteTime": {
     "end_time": "2021-12-14T14:57:13.807705Z",
     "start_time": "2021-12-14T14:57:13.803344Z"
    }
   },
   "outputs": [],
   "source": [
    "from collections import Counter\n",
    "from pathlib import Path"
   ]
  },
  {
   "cell_type": "code",
   "execution_count": 43,
   "id": "dac53ea5",
   "metadata": {
    "ExecuteTime": {
     "end_time": "2021-12-14T15:13:34.491444Z",
     "start_time": "2021-12-14T15:13:34.487418Z"
    }
   },
   "outputs": [],
   "source": [
    "sections = Path(\"day14.txt\").read_text().split(\"\\n\\n\")\n",
    "template = sections[0]\n",
    "rules = {k: v for line in sections[1].splitlines() for k, v in [line.split(\" -> \")]}"
   ]
  },
  {
   "cell_type": "markdown",
   "id": "5149c46a",
   "metadata": {
    "deletable": false,
    "editable": false,
    "run_control": {
     "frozen": true
    }
   },
   "source": [
    "## Part 1"
   ]
  },
  {
   "cell_type": "code",
   "execution_count": 44,
   "id": "429f9be7",
   "metadata": {
    "ExecuteTime": {
     "end_time": "2021-12-14T15:14:09.030180Z",
     "start_time": "2021-12-14T15:14:08.991302Z"
    }
   },
   "outputs": [
    {
     "data": {
      "text/plain": [
       "2408"
      ]
     },
     "execution_count": 44,
     "metadata": {},
     "output_type": "execute_result"
    }
   ],
   "source": [
    "# naive implementation, just simulate polymer growth\n",
    "polymer = template\n",
    "for _ in range(10):\n",
    "    i = 0\n",
    "    while i < len(polymer) - 1:\n",
    "        if insert := rules.get(polymer[i:][:2]):\n",
    "            i += 1\n",
    "            polymer = polymer[:i] + insert + polymer[i:]\n",
    "            i += 1\n",
    "\n",
    "counts = sorted(list(Counter(polymer).values()))\n",
    "counts[-1] - counts[0]"
   ]
  },
  {
   "cell_type": "markdown",
   "id": "da42a279",
   "metadata": {
    "deletable": false,
    "editable": false,
    "run_control": {
     "frozen": true
    }
   },
   "source": [
    "## Part 2"
   ]
  },
  {
   "cell_type": "code",
   "execution_count": 46,
   "id": "3ef0e691",
   "metadata": {
    "ExecuteTime": {
     "end_time": "2021-12-14T15:18:17.749828Z",
     "start_time": "2021-12-14T15:18:17.735669Z"
    }
   },
   "outputs": [
    {
     "data": {
      "text/plain": [
       "2651311098752"
      ]
     },
     "execution_count": 46,
     "metadata": {},
     "output_type": "execute_result"
    }
   ],
   "source": [
    "# only maintain the counts of each polymer pair,\n",
    "# since expansion is always done pairwise\n",
    "polymer = Counter([p + q for p, q in zip(template, template[1:])])\n",
    "for _ in range(40):\n",
    "    new = polymer.copy()\n",
    "    # zero-out any matching pairs, to accommodate the polymer insertion\n",
    "    for src, dst in rules.items():\n",
    "        new[src] = 0\n",
    "    # split each insertion into a left and right pair, and track the counts\n",
    "    for src, dst in rules.items():\n",
    "        new[src[0] + dst] += polymer[src]\n",
    "        new[dst + src[1]] += polymer[src]\n",
    "    polymer = new\n",
    "\n",
    "# compute the frequency of each element\n",
    "freqs = Counter()\n",
    "for k, v in polymer.items():\n",
    "    for k in k:\n",
    "        freqs[k] += v\n",
    "\n",
    "# we have double-counted the frequencies, so halve them\n",
    "# and accommodate the elements at the start/end of the template with ceil\n",
    "freqs = {k: -(-v // 2) for k, v in freqs.items()}\n",
    "\n",
    "counts = sorted(list(freqs.values()))\n",
    "counts[-1] - counts[0]"
   ]
  },
  {
   "cell_type": "code",
   "execution_count": null,
   "id": "8d991205",
   "metadata": {},
   "outputs": [],
   "source": []
  }
 ],
 "metadata": {
  "kernelspec": {
   "display_name": "Python 3 (ipykernel)",
   "language": "python",
   "name": "python3"
  },
  "language_info": {
   "codemirror_mode": {
    "name": "ipython",
    "version": 3
   },
   "file_extension": ".py",
   "mimetype": "text/x-python",
   "name": "python",
   "nbconvert_exporter": "python",
   "pygments_lexer": "ipython3",
   "version": "3.10.0"
  }
 },
 "nbformat": 4,
 "nbformat_minor": 5
}
