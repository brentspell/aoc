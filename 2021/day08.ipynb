{
 "cells": [
  {
   "cell_type": "code",
   "execution_count": 1,
   "id": "5653ba3e",
   "metadata": {
    "ExecuteTime": {
     "end_time": "2021-12-08T17:21:33.878367Z",
     "start_time": "2021-12-08T17:21:33.874949Z"
    }
   },
   "outputs": [],
   "source": [
    "from pathlib import Path"
   ]
  },
  {
   "cell_type": "code",
   "execution_count": 16,
   "id": "dac53ea5",
   "metadata": {
    "ExecuteTime": {
     "end_time": "2021-12-08T17:26:12.921798Z",
     "start_time": "2021-12-08T17:26:12.916661Z"
    }
   },
   "outputs": [],
   "source": [
    "lines = Path(\"day08.txt\").read_text().splitlines()\n",
    "if False:\n",
    "    lines = [\n",
    "      \"be cfbegad cbdgef fgaecd cgeb fdcge agebfd fecdb fabcd edb | fdgacbe cefdb cefbgd gcbe\",\n",
    "      \"edbfga begcd cbg gc gcadebf fbgde acbgfd abcde gfcbed gfec | fcgedb cgb dgebacf gc\",\n",
    "      \"fgaebd cg bdaec gdafb agbcfd gdcbef bgcad gfac gcb cdgabef | cg cg fdcagb cbg\",\n",
    "      \"fbegcd cbd adcefb dageb afcb bc aefdc ecdab fgdeca fcdbega | efabcd cedba gadfec cb\",\n",
    "      \"aecbfdg fbg gf bafeg dbefa fcge gcbea fcaegb dgceab fcbdga | gecf egdcabf bgf bfgea\",\n",
    "      \"fgeab ca afcebg bdacfeg cfaedg gcfdb baec bfadeg bafgc acf | gebdcfa ecba ca fadegcb\",\n",
    "      \"dbcfg fgd bdegcaf fgec aegbdf ecdfab fbedc dacgb gdcebf gf | cefg dcbef fcge gbcadfe\",\n",
    "      \"bdfegc cbegaf gecbf dfcage bdacg ed bedf ced adcbefg gebcd | ed bcgafe cdgba cbgef\",\n",
    "      \"egadfb cdbfeg cegd fecab cgb gbdefca cg fgcdab egfdb bfceg | gbdfcae bgc cg cgb\",\n",
    "      \"gcafb gcf dcaebfg ecagb gf abcdeg gaef cafbge fdbac fegbdc | fgae cfgab fg bagce\",\n",
    "    ]\n",
    "\n",
    "patterns = {\n",
    "    \"abcefg\": 0,\n",
    "    \"cf\": 1,\n",
    "    \"acdeg\": 2,\n",
    "    \"acdfg\": 3,\n",
    "    \"bcdf\": 4,\n",
    "    \"abdfg\": 5,\n",
    "    \"abdefg\": 6,\n",
    "    \"acf\": 7,\n",
    "    \"abcdefg\": 8,\n",
    "    \"abcdfg\": 9,\n",
    "}\n"
   ]
  },
  {
   "cell_type": "markdown",
   "id": "5149c46a",
   "metadata": {
    "deletable": false,
    "editable": false,
    "run_control": {
     "frozen": true
    }
   },
   "source": [
    "## Part 1"
   ]
  },
  {
   "cell_type": "code",
   "execution_count": 3,
   "id": "222d47eb",
   "metadata": {
    "ExecuteTime": {
     "end_time": "2021-12-08T17:21:33.894288Z",
     "start_time": "2021-12-08T17:21:33.885511Z"
    }
   },
   "outputs": [
    {
     "data": {
      "text/plain": [
       "26"
      ]
     },
     "execution_count": 3,
     "metadata": {},
     "output_type": "execute_result"
    }
   ],
   "source": [
    "outputs = [line.split(\"|\")[1].split() for line in lines]\n",
    "lengths = {len(k) for k, v in patterns.items() if v in {1, 4, 7, 8}}\n",
    "sum(len([_ for p in output if len(p) in lengths]) for output in outputs)"
   ]
  },
  {
   "cell_type": "markdown",
   "id": "da42a279",
   "metadata": {
    "deletable": false,
    "editable": false,
    "run_control": {
     "frozen": true
    }
   },
   "source": [
    "## Part 2"
   ]
  },
  {
   "cell_type": "code",
   "execution_count": 38,
   "id": "030c9e6b",
   "metadata": {
    "ExecuteTime": {
     "end_time": "2021-12-08T17:40:13.273765Z",
     "start_time": "2021-12-08T17:40:13.247528Z"
    }
   },
   "outputs": [
    {
     "data": {
      "text/plain": [
       "1004688"
      ]
     },
     "execution_count": 38,
     "metadata": {},
     "output_type": "execute_result"
    }
   ],
   "source": [
    "# construct a set of length->positions constraints for the display\n",
    "constraints = {}\n",
    "for length in {len(k) for k in patterns.keys()}:\n",
    "    positions = set(\"abcdefg\")\n",
    "    for pattern in patterns.keys():\n",
    "        if len(pattern) == length:\n",
    "            positions &= set(pattern)\n",
    "    constraints[length] = positions\n",
    "\n",
    "total = 0\n",
    "for inputs, outputs in [line.split(\"|\") for line in lines]:\n",
    "    # satisfy the length-based constraints using the inputs\n",
    "    mapping = {c: set(\"abcdefg\") for c in \"abcdefg\"}\n",
    "    for input_ in inputs.split():\n",
    "        for pos in constraints[len(input_)]:\n",
    "            mapping[pos] &= set(input_)\n",
    "    \n",
    "    # unify the candidates by eliminating unique mappings from other keys\n",
    "    while any(len(v) > 1 for v in mapping.values()):\n",
    "        for a in mapping.values():\n",
    "            for b in mapping.values():\n",
    "                if len(a) == 1 and a != b:\n",
    "                    b -= a\n",
    "    \n",
    "    # invert the mapping and translate the outputs\n",
    "    mapping = {next(iter(v)): k for k, v in mapping.items()}\n",
    "    outputs = [''.join(sorted([mapping[o] for o in output])) for output in outputs.split()]\n",
    "    \n",
    "    # convert the segments to their numeric representation and sum\n",
    "    total += int(''.join(str(patterns[output]) for output in outputs))\n",
    "    \n",
    "total"
   ]
  },
  {
   "cell_type": "code",
   "execution_count": null,
   "id": "8160f53d",
   "metadata": {},
   "outputs": [],
   "source": []
  }
 ],
 "metadata": {
  "kernelspec": {
   "display_name": "Python 3 (ipykernel)",
   "language": "python",
   "name": "python3"
  },
  "language_info": {
   "codemirror_mode": {
    "name": "ipython",
    "version": 3
   },
   "file_extension": ".py",
   "mimetype": "text/x-python",
   "name": "python",
   "nbconvert_exporter": "python",
   "pygments_lexer": "ipython3",
   "version": "3.10.0"
  }
 },
 "nbformat": 4,
 "nbformat_minor": 5
}
