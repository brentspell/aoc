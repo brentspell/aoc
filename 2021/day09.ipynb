{
 "cells": [
  {
   "cell_type": "code",
   "execution_count": 1,
   "id": "5653ba3e",
   "metadata": {
    "ExecuteTime": {
     "end_time": "2021-12-09T13:11:36.895470Z",
     "start_time": "2021-12-09T13:11:36.891266Z"
    }
   },
   "outputs": [],
   "source": [
    "from pathlib import Path"
   ]
  },
  {
   "cell_type": "code",
   "execution_count": 43,
   "id": "dac53ea5",
   "metadata": {
    "ExecuteTime": {
     "end_time": "2021-12-09T13:35:10.654949Z",
     "start_time": "2021-12-09T13:35:10.649229Z"
    }
   },
   "outputs": [],
   "source": [
    "lines = Path(\"day09.txt\").read_text().splitlines()\n",
    "\n",
    "def neighbors(i, j):\n",
    "    if i > 0:\n",
    "        yield i - 1, j\n",
    "    if i < len(lines) - 1:\n",
    "        yield i + 1, j\n",
    "    if j > 0:\n",
    "        yield i, j - 1\n",
    "    if j < len(lines[0]) - 1:\n",
    "        yield i, j + 1\n",
    "\n",
    "def lowest():\n",
    "    return ((i, j)\n",
    "            for i in range(len(lines))\n",
    "            for j in range(len(lines[i]))\n",
    "            if all(lines[i][j] < lines[p][q] for p, q in neighbors(i, j)))\n"
   ]
  },
  {
   "cell_type": "markdown",
   "id": "5149c46a",
   "metadata": {
    "deletable": false,
    "editable": false,
    "run_control": {
     "frozen": true
    }
   },
   "source": [
    "## Part 1"
   ]
  },
  {
   "cell_type": "code",
   "execution_count": 44,
   "id": "222d47eb",
   "metadata": {
    "ExecuteTime": {
     "end_time": "2021-12-09T13:35:11.469283Z",
     "start_time": "2021-12-09T13:35:11.450218Z"
    }
   },
   "outputs": [
    {
     "data": {
      "text/plain": [
       "508"
      ]
     },
     "execution_count": 44,
     "metadata": {},
     "output_type": "execute_result"
    }
   ],
   "source": [
    "sum(int(lines[i][j]) + 1 for i, j in lowest())"
   ]
  },
  {
   "cell_type": "markdown",
   "id": "da42a279",
   "metadata": {
    "deletable": false,
    "editable": false,
    "run_control": {
     "frozen": true
    }
   },
   "source": [
    "## Part 2"
   ]
  },
  {
   "cell_type": "code",
   "execution_count": 47,
   "id": "c0601db6",
   "metadata": {
    "ExecuteTime": {
     "end_time": "2021-12-09T13:37:03.637758Z",
     "start_time": "2021-12-09T13:37:03.594566Z"
    }
   },
   "outputs": [
    {
     "data": {
      "text/plain": [
       "1564640"
      ]
     },
     "execution_count": 47,
     "metadata": {},
     "output_type": "execute_result"
    }
   ],
   "source": [
    "def basin(i, j, done = None):\n",
    "    if done is None:\n",
    "        done = set()\n",
    "        \n",
    "    done.add((i, j))\n",
    "    yield i, j\n",
    "\n",
    "    for p, q in neighbors(i, j):\n",
    "        if lines[p][q] != '9' and (p, q) not in done:\n",
    "            for b in basin(p, q, done):\n",
    "                yield b\n",
    "\n",
    "total = 1\n",
    "for size in sorted([len(list(basin(i, j))) for i, j in lowest()])[-3:]:\n",
    "    total *= size\n",
    "total"
   ]
  },
  {
   "cell_type": "code",
   "execution_count": null,
   "id": "15e5ad7d",
   "metadata": {},
   "outputs": [],
   "source": []
  }
 ],
 "metadata": {
  "kernelspec": {
   "display_name": "Python 3 (ipykernel)",
   "language": "python",
   "name": "python3"
  },
  "language_info": {
   "codemirror_mode": {
    "name": "ipython",
    "version": 3
   },
   "file_extension": ".py",
   "mimetype": "text/x-python",
   "name": "python",
   "nbconvert_exporter": "python",
   "pygments_lexer": "ipython3",
   "version": "3.10.0"
  }
 },
 "nbformat": 4,
 "nbformat_minor": 5
}
