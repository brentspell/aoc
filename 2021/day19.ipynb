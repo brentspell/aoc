{
 "cells": [
  {
   "cell_type": "code",
   "execution_count": 1,
   "id": "5653ba3e",
   "metadata": {
    "ExecuteTime": {
     "end_time": "2021-12-19T17:37:32.132017Z",
     "start_time": "2021-12-19T17:37:32.128369Z"
    }
   },
   "outputs": [],
   "source": [
    "from collections import Counter\n",
    "from pathlib import Path"
   ]
  },
  {
   "cell_type": "code",
   "execution_count": 28,
   "id": "dac53ea5",
   "metadata": {
    "ExecuteTime": {
     "end_time": "2021-12-19T17:50:36.938727Z",
     "start_time": "2021-12-19T17:50:36.931336Z"
    }
   },
   "outputs": [],
   "source": [
    "data = Path(\"day19.txt\").read_text()\n",
    "\n",
    "scanners = [[tuple([int(t) for t in s.split(',')]) \n",
    "             for s in section.splitlines()[1:]] \n",
    "            for section in data.split(\"\\n\\n\")]\n",
    "\n",
    "ROTATIONS = [(-1, -1, -1), (-1, -1, 1), (-1, 1, -1), (-1, 1, 1), (1, -1, -1), (1, -1, 1), (1, 1, -1), (1, 1, 1)]\n",
    "INDEXES = [(0, 1, 2), (0, 2, 1), (1, 0, 2), (1, 2, 0), (2, 0, 1), (2, 1, 0)]\n",
    "PERMUTATIONS = [(r, i) for r in ROTATIONS for i in INDEXES]"
   ]
  },
  {
   "cell_type": "markdown",
   "id": "5149c46a",
   "metadata": {
    "deletable": false,
    "editable": false,
    "run_control": {
     "frozen": true
    }
   },
   "source": [
    "## Part 1"
   ]
  },
  {
   "cell_type": "code",
   "execution_count": 34,
   "id": "5542f99c",
   "metadata": {
    "ExecuteTime": {
     "end_time": "2021-12-19T17:59:22.544964Z",
     "start_time": "2021-12-19T17:59:20.835977Z"
    }
   },
   "outputs": [
    {
     "data": {
      "text/plain": [
       "357"
      ]
     },
     "execution_count": 34,
     "metadata": {},
     "output_type": "execute_result"
    }
   ],
   "source": [
    "# use scanners[0] as the origin for all beacons\n",
    "beacons = set(scanners[0])\n",
    "todo = set(range(1, len(scanners)))\n",
    "locations = [(0, 0, 0)]\n",
    "\n",
    "while todo:\n",
    "    for i in list(todo):\n",
    "        # search all permutations of rotations and coordinate indexes\n",
    "        for (rx, ry, rz), (ix, iy, iz) in PERMUTATIONS:\n",
    "            # rebase the scanner's readings to the origin's orientation\n",
    "            rebased = [(b[ix]*rx, b[iy]*ry, b[iz]*rz) for b in scanners[i]]\n",
    "            \n",
    "            # find matching beacons relative to the origin\n",
    "            freqs = Counter([(x0 - x1, y0 - y1, z0 - z1)\n",
    "                             for x0, y0, z0 in beacons\n",
    "                             for x1, y1, z1 in rebased])\n",
    "            if max(freqs.values()) >= 12:\n",
    "                # we now know the translation of the current scanner relative to the origin\n",
    "                tx, ty, tz = max(freqs.keys(), key=lambda k: freqs[k])\n",
    "                locations.append((tx, ty, tz))\n",
    "                \n",
    "                # translate all of the scanner's readings to the origin\n",
    "                for x, y, z in rebased:\n",
    "                    beacons.add((x + tx, y + ty, z + tz))\n",
    "                todo.remove(i)\n",
    "                break\n",
    "\n",
    "len(beacons)\n"
   ]
  },
  {
   "cell_type": "markdown",
   "id": "da42a279",
   "metadata": {
    "deletable": false,
    "editable": false,
    "run_control": {
     "frozen": true
    }
   },
   "source": [
    "## Part 2"
   ]
  },
  {
   "cell_type": "code",
   "execution_count": 35,
   "id": "db672ff4",
   "metadata": {
    "ExecuteTime": {
     "end_time": "2021-12-19T17:59:22.554182Z",
     "start_time": "2021-12-19T17:59:22.548143Z"
    }
   },
   "outputs": [
    {
     "data": {
      "text/plain": [
       "12317"
      ]
     },
     "execution_count": 35,
     "metadata": {},
     "output_type": "execute_result"
    }
   ],
   "source": [
    "# since we tracked the location of each scanner relative to the origin,\n",
    "# we can just find the maximum pairwise distance\n",
    "max(sum(abs(s1 - s2) for s1, s2 in zip(s1, s2))\n",
    "    for s1 in locations\n",
    "    for s2 in locations)"
   ]
  },
  {
   "cell_type": "code",
   "execution_count": null,
   "id": "422fef7d",
   "metadata": {},
   "outputs": [],
   "source": []
  }
 ],
 "metadata": {
  "kernelspec": {
   "display_name": "Python 3 (ipykernel)",
   "language": "python",
   "name": "python3"
  },
  "language_info": {
   "codemirror_mode": {
    "name": "ipython",
    "version": 3
   },
   "file_extension": ".py",
   "mimetype": "text/x-python",
   "name": "python",
   "nbconvert_exporter": "python",
   "pygments_lexer": "ipython3",
   "version": "3.10.0"
  }
 },
 "nbformat": 4,
 "nbformat_minor": 5
}
