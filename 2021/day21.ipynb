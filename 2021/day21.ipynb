{
 "cells": [
  {
   "cell_type": "code",
   "execution_count": 1,
   "id": "5653ba3e",
   "metadata": {
    "ExecuteTime": {
     "end_time": "2021-12-21T19:05:54.374542Z",
     "start_time": "2021-12-21T19:05:54.371352Z"
    }
   },
   "outputs": [],
   "source": [
    "from functools import cache\n",
    "from pathlib import Path"
   ]
  },
  {
   "cell_type": "code",
   "execution_count": 2,
   "id": "dac53ea5",
   "metadata": {
    "ExecuteTime": {
     "end_time": "2021-12-21T19:05:54.378899Z",
     "start_time": "2021-12-21T19:05:54.375998Z"
    }
   },
   "outputs": [],
   "source": [
    "lines = Path(\"day21.txt\").read_text().splitlines()\n",
    "start1, start2 = [int(line.split()[-1]) for line in lines]"
   ]
  },
  {
   "cell_type": "markdown",
   "id": "5149c46a",
   "metadata": {
    "deletable": false,
    "editable": false,
    "run_control": {
     "frozen": true
    }
   },
   "source": [
    "## Part 1"
   ]
  },
  {
   "cell_type": "code",
   "execution_count": 5,
   "id": "d97ef51c",
   "metadata": {
    "ExecuteTime": {
     "end_time": "2021-12-21T19:07:55.303402Z",
     "start_time": "2021-12-21T19:07:55.296358Z"
    }
   },
   "outputs": [
    {
     "data": {
      "text/plain": [
       "551901"
      ]
     },
     "execution_count": 5,
     "metadata": {},
     "output_type": "execute_result"
    }
   ],
   "source": [
    "p1, p2 = start1, start2\n",
    "s1, s2 = 0, 0\n",
    "d = 0\n",
    "while max(s1, s2) < 1000:\n",
    "    # calculate the next roll\n",
    "    r = d+1 + d+2 + d+3\n",
    "    d += 3\n",
    "    p1 = (p1 + r - 1) % 10 + 1\n",
    "    \n",
    "    # accumulate the score and swap players\n",
    "    s1 += p1\n",
    "    p1, p2, s1, s2 = p2, p1, s2, s1\n",
    "    \n",
    "min(s1, s2) * d"
   ]
  },
  {
   "cell_type": "markdown",
   "id": "da42a279",
   "metadata": {
    "deletable": false,
    "editable": false,
    "run_control": {
     "frozen": true
    }
   },
   "source": [
    "## Part 2"
   ]
  },
  {
   "cell_type": "code",
   "execution_count": 4,
   "id": "0a985df4",
   "metadata": {
    "ExecuteTime": {
     "end_time": "2021-12-21T19:05:55.516420Z",
     "start_time": "2021-12-21T19:05:55.433240Z"
    }
   },
   "outputs": [
    {
     "data": {
      "text/plain": [
       "272847859601291"
      ]
     },
     "execution_count": 4,
     "metadata": {},
     "output_type": "execute_result"
    }
   ],
   "source": [
    "# distinct roll sums/counts to speed up universe accumulation\n",
    "ROLLS = [(3, 1), (4, 3), (5, 6), (6, 7), (7, 6), (8, 3), (9, 1)]\n",
    "\n",
    "# memoize distinct game states to control combinatorial explosion\n",
    "# when calculating the total number of universes created by each player\n",
    "@cache\n",
    "def turn(p1, p2, s1=0, s2=0):\n",
    "    u1, u2 = 0, 0\n",
    "\n",
    "    # stop whenever one of the players has won\n",
    "    if s2 > 20:\n",
    "        u2 = 1\n",
    "    else:\n",
    "        # compute the next set of distinct rolls\n",
    "        for r, c in ROLLS:\n",
    "            p = (p1 + r - 1) % 10 + 1\n",
    "            \n",
    "            # swap player 1/player 2, recurse, and accumulate universes\n",
    "            c2, c1 = turn(p1=p2, p2=p, s1=s2, s2=s1 + p)\n",
    "            u1 += c1 * c\n",
    "            u2 += c2 * c\n",
    "            \n",
    "    return u1, u2\n",
    "\n",
    "max(turn(start1, start2))"
   ]
  },
  {
   "cell_type": "code",
   "execution_count": null,
   "id": "cb131e72",
   "metadata": {},
   "outputs": [],
   "source": []
  }
 ],
 "metadata": {
  "kernelspec": {
   "display_name": "Python 3 (ipykernel)",
   "language": "python",
   "name": "python3"
  },
  "language_info": {
   "codemirror_mode": {
    "name": "ipython",
    "version": 3
   },
   "file_extension": ".py",
   "mimetype": "text/x-python",
   "name": "python",
   "nbconvert_exporter": "python",
   "pygments_lexer": "ipython3",
   "version": "3.10.0"
  }
 },
 "nbformat": 4,
 "nbformat_minor": 5
}
