{
 "cells": [
  {
   "cell_type": "code",
   "execution_count": 16,
   "id": "5653ba3e",
   "metadata": {
    "ExecuteTime": {
     "end_time": "2021-12-13T14:38:58.529559Z",
     "start_time": "2021-12-13T14:38:58.527002Z"
    }
   },
   "outputs": [],
   "source": [
    "from pathlib import Path\n",
    "import numpy as np"
   ]
  },
  {
   "cell_type": "code",
   "execution_count": 163,
   "id": "dac53ea5",
   "metadata": {
    "ExecuteTime": {
     "end_time": "2021-12-13T15:15:59.904013Z",
     "start_time": "2021-12-13T15:15:59.895033Z"
    }
   },
   "outputs": [],
   "source": [
    "text = Path(\"day13.txt\").read_text()\n",
    "sections = text.split(\"\\n\\n\")\n",
    "coords = np.array([[int(s) for s in l.split(\",\")] \n",
    "                   for l in sections[0].splitlines()])\n",
    "folds = [[f[0], int(f[1])] \n",
    "         for l in sections[1].splitlines() \n",
    "         for f in [l.split()[-1].split(\"=\")]]\n",
    "\n",
    "grid = np.zeros([np.max(coords[:, 1]) + 1, np.max(coords[:, 0]) + 1], dtype=bool)\n",
    "for x, y in coords:\n",
    "    grid[y, x] = True\n"
   ]
  },
  {
   "cell_type": "code",
   "execution_count": 164,
   "id": "eabc0821",
   "metadata": {
    "ExecuteTime": {
     "end_time": "2021-12-13T15:16:00.651583Z",
     "start_time": "2021-12-13T15:16:00.647349Z"
    }
   },
   "outputs": [],
   "source": [
    "def fold(grid, axis, line):\n",
    "    if axis == \"x\":\n",
    "        fold = grid[:, line + 1:]\n",
    "        grid = grid[:, :line]\n",
    "        grid[:, -fold.shape[1]:] |= fold[:, ::-1]\n",
    "    else:\n",
    "        fold = grid[line + 1:]\n",
    "        grid = grid[:line]\n",
    "        grid[-fold.shape[0]:] |= fold[::-1]\n",
    "    return grid"
   ]
  },
  {
   "cell_type": "markdown",
   "id": "5149c46a",
   "metadata": {
    "deletable": false,
    "editable": false,
    "run_control": {
     "frozen": true
    }
   },
   "source": [
    "## Part 1"
   ]
  },
  {
   "cell_type": "code",
   "execution_count": 170,
   "id": "222d47eb",
   "metadata": {
    "ExecuteTime": {
     "end_time": "2021-12-13T15:16:09.637184Z",
     "start_time": "2021-12-13T15:16:09.631410Z"
    }
   },
   "outputs": [
    {
     "data": {
      "text/plain": [
       "592"
      ]
     },
     "execution_count": 170,
     "metadata": {},
     "output_type": "execute_result"
    }
   ],
   "source": [
    "axis, line = folds[0]\n",
    "fold(grid, axis, line).sum()"
   ]
  },
  {
   "cell_type": "markdown",
   "id": "da42a279",
   "metadata": {
    "deletable": false,
    "editable": false,
    "run_control": {
     "frozen": true
    }
   },
   "source": [
    "## Part 2"
   ]
  },
  {
   "cell_type": "code",
   "execution_count": 171,
   "id": "db672ff4",
   "metadata": {
    "ExecuteTime": {
     "end_time": "2021-12-13T15:16:10.197224Z",
     "start_time": "2021-12-13T15:16:10.191365Z"
    }
   },
   "outputs": [
    {
     "name": "stdout",
     "output_type": "stream",
     "text": [
      "  ##  ##   ##    ## #### #### #  # #  # \n",
      "   # #  # #  #    # #    #    # #  #  # \n",
      "   # #    #  #    # ###  ###  ##   #  # \n",
      "   # # ## ####    # #    #    # #  #  # \n",
      "#  # #  # #  # #  # #    #    # #  #  # \n",
      " ##   ### #  #  ##  #### #    #  #  ##  \n"
     ]
    }
   ],
   "source": [
    "result = grid.copy()\n",
    "for axis, line in folds:\n",
    "    result = fold(result, axis, line)\n",
    "\n",
    "for line in result:\n",
    "    print(\"\".join(\"#\" if p else \" \" for p in line))"
   ]
  },
  {
   "cell_type": "code",
   "execution_count": null,
   "id": "0a2a7664",
   "metadata": {},
   "outputs": [],
   "source": []
  }
 ],
 "metadata": {
  "kernelspec": {
   "display_name": "Python 3 (ipykernel)",
   "language": "python",
   "name": "python3"
  },
  "language_info": {
   "codemirror_mode": {
    "name": "ipython",
    "version": 3
   },
   "file_extension": ".py",
   "mimetype": "text/x-python",
   "name": "python",
   "nbconvert_exporter": "python",
   "pygments_lexer": "ipython3",
   "version": "3.10.0"
  }
 },
 "nbformat": 4,
 "nbformat_minor": 5
}
