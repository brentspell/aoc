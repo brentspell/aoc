{
 "cells": [
  {
   "cell_type": "code",
   "execution_count": 1,
   "id": "5653ba3e",
   "metadata": {
    "ExecuteTime": {
     "end_time": "2021-12-06T13:30:54.712531Z",
     "start_time": "2021-12-06T13:30:54.707834Z"
    }
   },
   "outputs": [],
   "source": [
    "from pathlib import Path"
   ]
  },
  {
   "cell_type": "code",
   "execution_count": 22,
   "id": "dac53ea5",
   "metadata": {
    "ExecuteTime": {
     "end_time": "2021-12-06T14:13:31.621253Z",
     "start_time": "2021-12-06T14:13:31.617737Z"
    }
   },
   "outputs": [],
   "source": [
    "data = [int(s) for s in Path(\"day06.txt\").read_text().split(\",\")]"
   ]
  },
  {
   "cell_type": "markdown",
   "id": "5149c46a",
   "metadata": {
    "deletable": false,
    "editable": false,
    "run_control": {
     "frozen": true
    }
   },
   "source": [
    "## Part 1"
   ]
  },
  {
   "cell_type": "code",
   "execution_count": 26,
   "id": "222d47eb",
   "metadata": {
    "ExecuteTime": {
     "end_time": "2021-12-06T14:15:11.417911Z",
     "start_time": "2021-12-06T14:15:10.761618Z"
    }
   },
   "outputs": [
    {
     "data": {
      "text/plain": [
       "396210"
      ]
     },
     "execution_count": 26,
     "metadata": {},
     "output_type": "execute_result"
    }
   ],
   "source": [
    "fish = data.copy()\n",
    "\n",
    "for _ in range(80):\n",
    "    for i in range(len(fish)):\n",
    "        if fish[i] > 0:\n",
    "            fish[i] -= 1\n",
    "        else:\n",
    "            fish.append(8)\n",
    "            fish[i] = 6\n",
    "\n",
    "len(fish)\n"
   ]
  },
  {
   "cell_type": "markdown",
   "id": "da42a279",
   "metadata": {
    "deletable": false,
    "editable": false,
    "run_control": {
     "frozen": true
    }
   },
   "source": [
    "## Part 2"
   ]
  },
  {
   "cell_type": "code",
   "execution_count": 27,
   "id": "db672ff4",
   "metadata": {
    "ExecuteTime": {
     "end_time": "2021-12-06T14:15:13.359381Z",
     "start_time": "2021-12-06T14:15:13.353371Z"
    }
   },
   "outputs": [
    {
     "data": {
      "text/plain": [
       "1770823541496"
      ]
     },
     "execution_count": 27,
     "metadata": {},
     "output_type": "execute_result"
    }
   ],
   "source": [
    "adults = [sum(d == i for d in data) for i in range(7)]\n",
    "spawn = [0, 0]\n",
    "\n",
    "for i in range(256):\n",
    "    d = i % len(adults)\n",
    "    spawn.append(adults[d])\n",
    "    adults[d] += spawn.pop(0)\n",
    "    \n",
    "sum(adults) + sum(spawn)\n"
   ]
  },
  {
   "cell_type": "code",
   "execution_count": null,
   "id": "422fef7d",
   "metadata": {},
   "outputs": [],
   "source": []
  }
 ],
 "metadata": {
  "kernelspec": {
   "display_name": "Python 3 (ipykernel)",
   "language": "python",
   "name": "python3"
  },
  "language_info": {
   "codemirror_mode": {
    "name": "ipython",
    "version": 3
   },
   "file_extension": ".py",
   "mimetype": "text/x-python",
   "name": "python",
   "nbconvert_exporter": "python",
   "pygments_lexer": "ipython3",
   "version": "3.10.0"
  }
 },
 "nbformat": 4,
 "nbformat_minor": 5
}
