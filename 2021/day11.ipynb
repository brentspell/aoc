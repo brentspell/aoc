{
 "cells": [
  {
   "cell_type": "code",
   "execution_count": 46,
   "id": "5653ba3e",
   "metadata": {
    "ExecuteTime": {
     "end_time": "2021-12-11T14:19:26.189776Z",
     "start_time": "2021-12-11T14:19:26.186731Z"
    }
   },
   "outputs": [],
   "source": [
    "from pathlib import Path\n",
    "import numpy as np"
   ]
  },
  {
   "cell_type": "code",
   "execution_count": 41,
   "id": "dac53ea5",
   "metadata": {
    "ExecuteTime": {
     "end_time": "2021-12-11T14:16:49.106618Z",
     "start_time": "2021-12-11T14:16:49.103626Z"
    }
   },
   "outputs": [],
   "source": [
    "lines = Path(\"day11.txt\").read_text().splitlines()"
   ]
  },
  {
   "cell_type": "markdown",
   "id": "5149c46a",
   "metadata": {
    "deletable": false,
    "editable": false,
    "run_control": {
     "frozen": true
    }
   },
   "source": [
    "## Part 1"
   ]
  },
  {
   "cell_type": "code",
   "execution_count": 47,
   "id": "2bea4e7d",
   "metadata": {
    "ExecuteTime": {
     "end_time": "2021-12-11T14:19:39.395799Z",
     "start_time": "2021-12-11T14:19:39.363528Z"
    }
   },
   "outputs": [
    {
     "data": {
      "text/plain": [
       "1702"
      ]
     },
     "execution_count": 47,
     "metadata": {},
     "output_type": "execute_result"
    }
   ],
   "source": [
    "energy = np.array([[int(c) for c in line] for line in lines])\n",
    "flashes = 0\n",
    "for _ in range(100):\n",
    "    energy += 1\n",
    "    \n",
    "    flashed = [(i, j) \n",
    "               for i in range(len(energy)) \n",
    "               for j in range(len(energy[i]))\n",
    "               if energy[i, j] == 10]\n",
    "    while flashed:\n",
    "        flashes += 1\n",
    "        i, j = flashed.pop()\n",
    "        for p in range(max(i - 1, 0), min(i + 2, len(energy))):\n",
    "            for q in range(max(j - 1, 0), min(j + 2, len(energy))):\n",
    "                energy[p, q] += 1\n",
    "                if energy[p, q] == 10:\n",
    "                    flashed.append((p, q))\n",
    "\n",
    "    energy[energy > 9] = 0\n",
    "\n",
    "flashes"
   ]
  },
  {
   "cell_type": "markdown",
   "id": "da42a279",
   "metadata": {
    "deletable": false,
    "editable": false,
    "run_control": {
     "frozen": true
    }
   },
   "source": [
    "## Part 2"
   ]
  },
  {
   "cell_type": "code",
   "execution_count": 45,
   "id": "db672ff4",
   "metadata": {
    "ExecuteTime": {
     "end_time": "2021-12-11T14:19:21.376838Z",
     "start_time": "2021-12-11T14:19:21.314731Z"
    }
   },
   "outputs": [
    {
     "data": {
      "text/plain": [
       "251"
      ]
     },
     "execution_count": 45,
     "metadata": {},
     "output_type": "execute_result"
    }
   ],
   "source": [
    "energy = np.array([[int(c) for c in line] for line in lines])\n",
    "step = 0\n",
    "while not np.all(energy == 0):\n",
    "    energy += 1\n",
    "    \n",
    "    flashed = [(i, j) \n",
    "               for i in range(len(energy)) \n",
    "               for j in range(len(energy[i]))\n",
    "               if energy[i, j] == 10]\n",
    "    while flashed:\n",
    "        i, j = flashed.pop()\n",
    "        for p in range(max(i - 1, 0), min(i + 2, len(energy))):\n",
    "            for q in range(max(j - 1, 0), min(j + 2, len(energy))):\n",
    "                energy[p, q] += 1\n",
    "                if energy[p, q] == 10:\n",
    "                    flashed.append((p, q))\n",
    "\n",
    "    energy[energy > 9] = 0\n",
    "    step += 1\n",
    "    \n",
    "step"
   ]
  },
  {
   "cell_type": "code",
   "execution_count": null,
   "id": "9a15cb85",
   "metadata": {},
   "outputs": [],
   "source": []
  }
 ],
 "metadata": {
  "kernelspec": {
   "display_name": "Python 3 (ipykernel)",
   "language": "python",
   "name": "python3"
  },
  "language_info": {
   "codemirror_mode": {
    "name": "ipython",
    "version": 3
   },
   "file_extension": ".py",
   "mimetype": "text/x-python",
   "name": "python",
   "nbconvert_exporter": "python",
   "pygments_lexer": "ipython3",
   "version": "3.10.0"
  }
 },
 "nbformat": 4,
 "nbformat_minor": 5
}
