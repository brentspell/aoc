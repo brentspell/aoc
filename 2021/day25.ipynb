{
 "cells": [
  {
   "cell_type": "code",
   "execution_count": 32,
   "id": "5653ba3e",
   "metadata": {
    "ExecuteTime": {
     "end_time": "2021-12-29T19:27:02.114150Z",
     "start_time": "2021-12-29T19:27:02.111499Z"
    }
   },
   "outputs": [],
   "source": [
    "from pathlib import Path"
   ]
  },
  {
   "cell_type": "code",
   "execution_count": 33,
   "id": "dac53ea5",
   "metadata": {
    "ExecuteTime": {
     "end_time": "2021-12-29T19:27:02.233596Z",
     "start_time": "2021-12-29T19:27:02.230201Z"
    }
   },
   "outputs": [],
   "source": [
    "lines = [list(l) for l in Path(\"day25.txt\").read_text().splitlines()]"
   ]
  },
  {
   "cell_type": "markdown",
   "id": "5149c46a",
   "metadata": {
    "deletable": false,
    "editable": false,
    "run_control": {
     "frozen": true
    }
   },
   "source": [
    "## Part 1"
   ]
  },
  {
   "cell_type": "code",
   "execution_count": 34,
   "id": "f29c8e69",
   "metadata": {
    "ExecuteTime": {
     "end_time": "2021-12-29T19:27:05.127249Z",
     "start_time": "2021-12-29T19:27:02.751642Z"
    }
   },
   "outputs": [
    {
     "data": {
      "text/plain": [
       "400"
      ]
     },
     "execution_count": 34,
     "metadata": {},
     "output_type": "execute_result"
    }
   ],
   "source": [
    "step = 0\n",
    "while True:\n",
    "    step += 1\n",
    "\n",
    "    east = []\n",
    "    for i in range(len(lines)):\n",
    "        for j in range(len(lines[i])):\n",
    "            if lines[i][j] == \">\":\n",
    "                if lines[i][(j + 1) % len(lines[i])] == \".\":\n",
    "                    east.append((i, j))\n",
    "    for i, j in east:\n",
    "        lines[i][j] = \".\"\n",
    "        lines[i][(j + 1) % len(lines[i])] = \">\"\n",
    "\n",
    "    south = []\n",
    "    for i in range(len(lines)):\n",
    "        for j in range(len(lines[i])):\n",
    "            if lines[i][j] == \"v\":\n",
    "                if lines[(i + 1) % len(lines)][j] == \".\":\n",
    "                    south.append((i, j))\n",
    "    for i, j in south:\n",
    "        lines[i][j] = \".\"\n",
    "        lines[(i + 1) % len(lines)][j] = \"v\"\n",
    "    \n",
    "    if not east and not south:\n",
    "        break\n",
    "\n",
    "step"
   ]
  },
  {
   "cell_type": "code",
   "execution_count": null,
   "id": "d5169154",
   "metadata": {},
   "outputs": [],
   "source": []
  }
 ],
 "metadata": {
  "kernelspec": {
   "display_name": "Python 3 (ipykernel)",
   "language": "python",
   "name": "python3"
  },
  "language_info": {
   "codemirror_mode": {
    "name": "ipython",
    "version": 3
   },
   "file_extension": ".py",
   "mimetype": "text/x-python",
   "name": "python",
   "nbconvert_exporter": "python",
   "pygments_lexer": "ipython3",
   "version": "3.10.0"
  }
 },
 "nbformat": 4,
 "nbformat_minor": 5
}
