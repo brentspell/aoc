{
 "cells": [
  {
   "cell_type": "code",
   "execution_count": 1,
   "id": "5653ba3e",
   "metadata": {
    "ExecuteTime": {
     "end_time": "2021-12-29T15:13:58.385666Z",
     "start_time": "2021-12-29T15:13:58.381026Z"
    }
   },
   "outputs": [],
   "source": [
    "import math\n",
    "from pathlib import Path"
   ]
  },
  {
   "cell_type": "code",
   "execution_count": 2,
   "id": "dac53ea5",
   "metadata": {
    "ExecuteTime": {
     "end_time": "2021-12-29T15:13:58.827063Z",
     "start_time": "2021-12-29T15:13:58.823726Z"
    }
   },
   "outputs": [],
   "source": [
    "lines = Path(\"day24.txt\").read_text().splitlines()"
   ]
  },
  {
   "cell_type": "code",
   "execution_count": 305,
   "id": "879ec3fc",
   "metadata": {
    "ExecuteTime": {
     "end_time": "2021-12-29T16:03:32.234722Z",
     "start_time": "2021-12-29T16:03:32.230338Z"
    }
   },
   "outputs": [
    {
     "name": "stdout",
     "output_type": "stream",
     "text": [
      "inp w     mul x 0   add x z   mod x 26  div z 1   add x 12  eql x w   eql x 0   mul y 0   add y 25  mul y x   add y 1   mul z y   mul y 0   add y w   add y 4   mul y x   add z y  \n",
      "inp w     mul x 0   add x z   mod x 26  div z 1   add x 11  eql x w   eql x 0   mul y 0   add y 25  mul y x   add y 1   mul z y   mul y 0   add y w   add y 11  mul y x   add z y  \n",
      "inp w     mul x 0   add x z   mod x 26  div z 1   add x 13  eql x w   eql x 0   mul y 0   add y 25  mul y x   add y 1   mul z y   mul y 0   add y w   add y 5   mul y x   add z y  \n",
      "inp w     mul x 0   add x z   mod x 26  div z 1   add x 11  eql x w   eql x 0   mul y 0   add y 25  mul y x   add y 1   mul z y   mul y 0   add y w   add y 11  mul y x   add z y  \n",
      "inp w     mul x 0   add x z   mod x 26  div z 1   add x 14  eql x w   eql x 0   mul y 0   add y 25  mul y x   add y 1   mul z y   mul y 0   add y w   add y 14  mul y x   add z y  \n",
      "inp w     mul x 0   add x z   mod x 26  div z 26  add x -10 eql x w   eql x 0   mul y 0   add y 25  mul y x   add y 1   mul z y   mul y 0   add y w   add y 7   mul y x   add z y  \n",
      "inp w     mul x 0   add x z   mod x 26  div z 1   add x 11  eql x w   eql x 0   mul y 0   add y 25  mul y x   add y 1   mul z y   mul y 0   add y w   add y 11  mul y x   add z y  \n",
      "inp w     mul x 0   add x z   mod x 26  div z 26  add x -9  eql x w   eql x 0   mul y 0   add y 25  mul y x   add y 1   mul z y   mul y 0   add y w   add y 4   mul y x   add z y  \n",
      "inp w     mul x 0   add x z   mod x 26  div z 26  add x -3  eql x w   eql x 0   mul y 0   add y 25  mul y x   add y 1   mul z y   mul y 0   add y w   add y 6   mul y x   add z y  \n",
      "inp w     mul x 0   add x z   mod x 26  div z 1   add x 13  eql x w   eql x 0   mul y 0   add y 25  mul y x   add y 1   mul z y   mul y 0   add y w   add y 5   mul y x   add z y  \n",
      "inp w     mul x 0   add x z   mod x 26  div z 26  add x -5  eql x w   eql x 0   mul y 0   add y 25  mul y x   add y 1   mul z y   mul y 0   add y w   add y 9   mul y x   add z y  \n",
      "inp w     mul x 0   add x z   mod x 26  div z 26  add x -10 eql x w   eql x 0   mul y 0   add y 25  mul y x   add y 1   mul z y   mul y 0   add y w   add y 12  mul y x   add z y  \n",
      "inp w     mul x 0   add x z   mod x 26  div z 26  add x -4  eql x w   eql x 0   mul y 0   add y 25  mul y x   add y 1   mul z y   mul y 0   add y w   add y 14  mul y x   add z y  \n",
      "inp w     mul x 0   add x z   mod x 26  div z 26  add x -5  eql x w   eql x 0   mul y 0   add y 25  mul y x   add y 1   mul z y   mul y 0   add y w   add y 14  mul y x   add z y  \n"
     ]
    }
   ],
   "source": [
    "for i in range(0, len(lines), 18):\n",
    "    print(\" \".join(f\"{lines[i + j]:9}\" for j in range(18)))"
   ]
  },
  {
   "cell_type": "code",
   "execution_count": 313,
   "id": "ec3e08e4",
   "metadata": {
    "ExecuteTime": {
     "end_time": "2021-12-29T16:05:25.389339Z",
     "start_time": "2021-12-29T16:05:25.384000Z"
    }
   },
   "outputs": [],
   "source": [
    "# using the printout above, we can rewrite the program into this form\n",
    "# note that z only decreases (so it can reach 0) whenever A = 26, so\n",
    "# we need z % 26 + B[i] == model[i] whenever A = 26\n",
    "def apply(model):\n",
    "    A = [ 1,  1,  1,  1,  1,  26,  1, 26, 26,  1, 26,  26, 26, 26]\n",
    "    B = [12, 11, 13, 11, 14, -10, 11, -9, -3, 13, -5, -10, -4, -5]\n",
    "    C = [ 4, 11,  5, 11, 14,   7, 11,  4,  6,  5,  9,  12, 14, 14]\n",
    "    z = 0\n",
    "    for i in range(len(model)):\n",
    "        if z % 26 + B[i] == model[i]:\n",
    "            z = z // A[i]\n",
    "        else:\n",
    "            z = z // A[i] * 26 + model[i] + C[i]\n",
    "    return z"
   ]
  },
  {
   "cell_type": "markdown",
   "id": "5149c46a",
   "metadata": {
    "deletable": false,
    "editable": false,
    "run_control": {
     "frozen": true
    }
   },
   "source": [
    "## Part 1"
   ]
  },
  {
   "cell_type": "code",
   "execution_count": 312,
   "id": "ac6643ac",
   "metadata": {
    "ExecuteTime": {
     "end_time": "2021-12-29T16:05:24.468440Z",
     "start_time": "2021-12-29T16:05:24.463725Z"
    }
   },
   "outputs": [
    {
     "data": {
      "text/plain": [
       "0"
      ]
     },
     "execution_count": 312,
     "metadata": {},
     "output_type": "execute_result"
    }
   ],
   "source": [
    "# then we can find the largest model number by trial and error\n",
    "apply([9, 2, 9, 1, 5, 9, 7, 9, 9, 9, 9, 4, 9, 8])"
   ]
  },
  {
   "cell_type": "markdown",
   "id": "da42a279",
   "metadata": {
    "deletable": false,
    "editable": false,
    "run_control": {
     "frozen": true
    }
   },
   "source": [
    "## Part 2"
   ]
  },
  {
   "cell_type": "code",
   "execution_count": 311,
   "id": "60b6a665",
   "metadata": {
    "ExecuteTime": {
     "end_time": "2021-12-29T16:05:23.595869Z",
     "start_time": "2021-12-29T16:05:23.591664Z"
    }
   },
   "outputs": [
    {
     "data": {
      "text/plain": [
       "0"
      ]
     },
     "execution_count": 311,
     "metadata": {},
     "output_type": "execute_result"
    }
   ],
   "source": [
    "# and we can find the smallest model number by trial and error\n",
    "apply([2, 1, 6, 1, 1, 5, 1, 3, 9, 1, 1, 1, 8, 1])"
   ]
  },
  {
   "cell_type": "code",
   "execution_count": null,
   "id": "81794f1b",
   "metadata": {},
   "outputs": [],
   "source": []
  }
 ],
 "metadata": {
  "kernelspec": {
   "display_name": "Python 3 (ipykernel)",
   "language": "python",
   "name": "python3"
  },
  "language_info": {
   "codemirror_mode": {
    "name": "ipython",
    "version": 3
   },
   "file_extension": ".py",
   "mimetype": "text/x-python",
   "name": "python",
   "nbconvert_exporter": "python",
   "pygments_lexer": "ipython3",
   "version": "3.10.0"
  }
 },
 "nbformat": 4,
 "nbformat_minor": 5
}
