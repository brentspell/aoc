{
 "cells": [
  {
   "cell_type": "code",
   "execution_count": 101,
   "id": "5653ba3e",
   "metadata": {
    "ExecuteTime": {
     "end_time": "2021-12-17T15:14:46.546182Z",
     "start_time": "2021-12-17T15:14:46.543204Z"
    }
   },
   "outputs": [],
   "source": [
    "import math\n",
    "from pathlib import Path"
   ]
  },
  {
   "cell_type": "code",
   "execution_count": 309,
   "id": "dac53ea5",
   "metadata": {
    "ExecuteTime": {
     "end_time": "2021-12-17T22:29:58.235770Z",
     "start_time": "2021-12-17T22:29:58.231869Z"
    }
   },
   "outputs": [],
   "source": [
    "data = Path(\"day17.txt\").read_text()\n",
    "xs, ys = [[int(x) for x in x[2:].strip(\",\").split(\"..\")] \n",
    "          for x in data.split()[2:]]"
   ]
  },
  {
   "cell_type": "code",
   "execution_count": 310,
   "id": "8162266c",
   "metadata": {
    "ExecuteTime": {
     "end_time": "2021-12-17T22:29:58.922903Z",
     "start_time": "2021-12-17T22:29:58.920182Z"
    }
   },
   "outputs": [],
   "source": [
    "def sumn(n):\n",
    "    return n*(n + 1) // 2"
   ]
  },
  {
   "cell_type": "markdown",
   "id": "5149c46a",
   "metadata": {
    "deletable": false,
    "editable": false,
    "run_control": {
     "frozen": true
    }
   },
   "source": [
    "## Part 1"
   ]
  },
  {
   "cell_type": "code",
   "execution_count": 311,
   "id": "477cfb01",
   "metadata": {
    "ExecuteTime": {
     "end_time": "2021-12-17T22:29:59.466950Z",
     "start_time": "2021-12-17T22:29:59.463037Z"
    }
   },
   "outputs": [
    {
     "data": {
      "text/plain": [
       "12090"
      ]
     },
     "execution_count": 311,
     "metadata": {},
     "output_type": "execute_result"
    }
   ],
   "source": [
    "# Vx doesn't matter at all, since we can always halt x at any point\n",
    "# we can maximize the height by maximizing Vy, but we need to make\n",
    "# sure that once we cross the x axis again we are not moving fast\n",
    "# enough to pass up the bottom of the target\n",
    "sumn(-ys[0] - 1)"
   ]
  },
  {
   "cell_type": "markdown",
   "id": "da42a279",
   "metadata": {
    "deletable": false,
    "editable": false,
    "run_control": {
     "frozen": true
    }
   },
   "source": [
    "## Part 2"
   ]
  },
  {
   "cell_type": "code",
   "execution_count": 312,
   "id": "bec53f8b",
   "metadata": {
    "ExecuteTime": {
     "end_time": "2021-12-17T22:30:00.352959Z",
     "start_time": "2021-12-17T22:30:00.176823Z"
    }
   },
   "outputs": [
    {
     "data": {
      "text/plain": [
       "5059"
      ]
     },
     "execution_count": 312,
     "metadata": {},
     "output_type": "execute_result"
    }
   ],
   "source": [
    "total = 0\n",
    "\n",
    "# Vx can be any value such that at least one step lands on the target\n",
    "for vx in range(xs[1] + 1):\n",
    "    # same for Vy, but we can stop at -ys[0] for the same reason as part 1\n",
    "    for vy in range(ys[0], -ys[0] + 1):\n",
    "        # search for a number of steps that lands on the target\n",
    "        # for positive Vy, skip over the steps above the x-axis,\n",
    "        # since we have a closed form for steps back to it\n",
    "        y = 0\n",
    "        i = 0 if vy < 0 else 2*vy + 1\n",
    "        while y >= ys[0]:\n",
    "            # compute x/y at the current step\n",
    "            x = sumn(vx) - sumn(vx - min(i + 1, vx))\n",
    "            y += vy - i\n",
    "            i += 1\n",
    "            # if we hit the target, count the distinct velocity\n",
    "            if xs[0] <= x <= xs[1] and ys[0] <= y <= ys[1]:\n",
    "                total += 1\n",
    "                break\n",
    "\n",
    "total"
   ]
  },
  {
   "cell_type": "code",
   "execution_count": null,
   "id": "96467aef",
   "metadata": {},
   "outputs": [],
   "source": []
  }
 ],
 "metadata": {
  "kernelspec": {
   "display_name": "Python 3 (ipykernel)",
   "language": "python",
   "name": "python3"
  },
  "language_info": {
   "codemirror_mode": {
    "name": "ipython",
    "version": 3
   },
   "file_extension": ".py",
   "mimetype": "text/x-python",
   "name": "python",
   "nbconvert_exporter": "python",
   "pygments_lexer": "ipython3",
   "version": "3.10.0"
  }
 },
 "nbformat": 4,
 "nbformat_minor": 5
}
