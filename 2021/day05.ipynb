{
 "cells": [
  {
   "cell_type": "code",
   "execution_count": 6,
   "id": "5653ba3e",
   "metadata": {
    "ExecuteTime": {
     "end_time": "2021-12-05T14:19:26.690747Z",
     "start_time": "2021-12-05T14:19:26.688120Z"
    }
   },
   "outputs": [],
   "source": [
    "from pathlib import Path"
   ]
  },
  {
   "cell_type": "code",
   "execution_count": 57,
   "id": "dac53ea5",
   "metadata": {
    "ExecuteTime": {
     "end_time": "2021-12-05T14:46:24.450446Z",
     "start_time": "2021-12-05T14:46:24.444996Z"
    }
   },
   "outputs": [],
   "source": [
    "lines = Path(\"day05.txt\").read_text().splitlines()\n",
    "lines = [[[int(p) for p in c.split(\",\")] for c in l.split(\" -> \")] for l in lines]"
   ]
  },
  {
   "cell_type": "markdown",
   "id": "5149c46a",
   "metadata": {
    "deletable": false,
    "editable": false,
    "run_control": {
     "frozen": true
    }
   },
   "source": [
    "## Part 1"
   ]
  },
  {
   "cell_type": "code",
   "execution_count": 58,
   "id": "222d47eb",
   "metadata": {
    "ExecuteTime": {
     "end_time": "2021-12-05T14:46:25.509625Z",
     "start_time": "2021-12-05T14:46:25.425376Z"
    }
   },
   "outputs": [
    {
     "data": {
      "text/plain": [
       "6005"
      ]
     },
     "execution_count": 58,
     "metadata": {},
     "output_type": "execute_result"
    }
   ],
   "source": [
    "grid = {}\n",
    "\n",
    "for (x1, y1), (x2, y2) in lines:\n",
    "    sx = (x2 > x1) - (x2 < x1)\n",
    "    sy = (y2 > y1) - (y2 < y1)\n",
    "    if sx == 0 or sy == 0:\n",
    "        for i in range(max(abs(x2 - x1), abs(y2 - y1)) + 1):\n",
    "            x = x1 + i*sx\n",
    "            y = y1 + i*sy\n",
    "            grid[(x, y)] = grid.get((x, y), 0) + 1\n",
    "\n",
    "sum(v > 1 for v in grid.values())\n"
   ]
  },
  {
   "cell_type": "markdown",
   "id": "da42a279",
   "metadata": {
    "deletable": false,
    "editable": false,
    "run_control": {
     "frozen": true
    }
   },
   "source": [
    "## Part 2"
   ]
  },
  {
   "cell_type": "code",
   "execution_count": 59,
   "id": "db672ff4",
   "metadata": {
    "ExecuteTime": {
     "end_time": "2021-12-05T14:46:26.605962Z",
     "start_time": "2021-12-05T14:46:26.450166Z"
    }
   },
   "outputs": [
    {
     "data": {
      "text/plain": [
       "23864"
      ]
     },
     "execution_count": 59,
     "metadata": {},
     "output_type": "execute_result"
    }
   ],
   "source": [
    "grid = {}\n",
    "\n",
    "for (x1, y1), (x2, y2) in lines:\n",
    "    sx = (x2 > x1) - (x2 < x1)\n",
    "    sy = (y2 > y1) - (y2 < y1)\n",
    "    for i in range(max(abs(x2 - x1), abs(y2 - y1)) + 1):\n",
    "        x = x1 + i*sx\n",
    "        y = y1 + i*sy\n",
    "        grid[(x, y)] = grid.get((x, y), 0) + 1\n",
    "\n",
    "sum(v > 1 for v in grid.values())\n"
   ]
  },
  {
   "cell_type": "code",
   "execution_count": null,
   "id": "204baf1e",
   "metadata": {},
   "outputs": [],
   "source": []
  }
 ],
 "metadata": {
  "kernelspec": {
   "display_name": "Python 3 (ipykernel)",
   "language": "python",
   "name": "python3"
  },
  "language_info": {
   "codemirror_mode": {
    "name": "ipython",
    "version": 3
   },
   "file_extension": ".py",
   "mimetype": "text/x-python",
   "name": "python",
   "nbconvert_exporter": "python",
   "pygments_lexer": "ipython3",
   "version": "3.10.0"
  }
 },
 "nbformat": 4,
 "nbformat_minor": 5
}
