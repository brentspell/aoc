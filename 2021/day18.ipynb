{
 "cells": [
  {
   "cell_type": "code",
   "execution_count": 51,
   "id": "5653ba3e",
   "metadata": {
    "ExecuteTime": {
     "end_time": "2021-12-18T16:24:31.102324Z",
     "start_time": "2021-12-18T16:24:31.100190Z"
    }
   },
   "outputs": [],
   "source": [
    "from pathlib import Path"
   ]
  },
  {
   "cell_type": "code",
   "execution_count": 52,
   "id": "dac53ea5",
   "metadata": {
    "ExecuteTime": {
     "end_time": "2021-12-18T16:24:31.227596Z",
     "start_time": "2021-12-18T16:24:31.224724Z"
    }
   },
   "outputs": [],
   "source": [
    "lines = Path(\"day18.txt\").read_text().splitlines()"
   ]
  },
  {
   "cell_type": "code",
   "execution_count": 85,
   "id": "d7cbee2c",
   "metadata": {
    "ExecuteTime": {
     "end_time": "2021-12-18T16:44:03.863421Z",
     "start_time": "2021-12-18T16:44:03.851960Z"
    }
   },
   "outputs": [],
   "source": [
    "def reduce(tree):\n",
    "    # repeatedly explode/split, always applying any available explode first\n",
    "    while explode(tree) or split(tree):\n",
    "        pass\n",
    "    \n",
    "    return magnitude(tree)\n",
    "\n",
    "def explode(tree, stack=None, depth=0):\n",
    "    stack = stack or []\n",
    "    match tree:\n",
    "        case [left, right] if depth == 4:\n",
    "            # find the node to the left, or the rightmost cousin\n",
    "            c = tree\n",
    "            for p in stack[::-1]:\n",
    "                if p[1] is c:\n",
    "                    # if the node is directly to the left, update it\n",
    "                    if isinstance(p[0], int):\n",
    "                        p[0] += left\n",
    "                    else:\n",
    "                        # otherwise, descend on the right\n",
    "                        p = p[0]\n",
    "                        while isinstance(p[1], list):\n",
    "                            p = p[1]\n",
    "                        p[1] += left\n",
    "                    break\n",
    "                c = p\n",
    "\n",
    "            # find the node to the right, or the leftmost cousin\n",
    "            c = tree\n",
    "            for p in stack[::-1]:\n",
    "                if p[0] is c:\n",
    "                    # if the node is directly to the right, update it\n",
    "                    if isinstance(p[1], int):\n",
    "                        p[1] += right\n",
    "                    else:\n",
    "                        # otherwise, descend on the left\n",
    "                        p = p[1]\n",
    "                        while isinstance(p[0], list):\n",
    "                            p = p[0]\n",
    "                        p[0] += right\n",
    "                    break\n",
    "                c = p\n",
    "            \n",
    "            # finally, replace the exploded node with 0\n",
    "            if stack[-1][0] is tree:\n",
    "                stack[-1][0] = 0\n",
    "            else:\n",
    "                stack[-1][1] = 0\n",
    "            return True\n",
    "        case [_, _]:\n",
    "            # continue searching for nodes to explode\n",
    "            return any(explode(n, stack + [tree], depth + 1) for n in tree)\n",
    "        \n",
    "    return False\n",
    "\n",
    "def split(tree, stack=None):\n",
    "    stack = stack or []\n",
    "    \n",
    "    match tree:\n",
    "        case [left, right]:\n",
    "            # continue searching for nodes to explode\n",
    "            return any(split(n, stack + [tree]) for n in tree)\n",
    "        case value if value >= 10:\n",
    "            # split the current node and update the parent\n",
    "            new = [value // 2, -(-value // 2)]\n",
    "            if stack[-1][0] is tree:\n",
    "                stack[-1][0] = new\n",
    "            else:\n",
    "                stack[-1][1] = new\n",
    "            return True\n",
    "        \n",
    "    return False\n",
    "\n",
    "def magnitude(tree):\n",
    "    match tree:\n",
    "        case [left, right]:\n",
    "            return 3*magnitude(left) + 2*magnitude(right)\n",
    "        case value:\n",
    "            return value\n"
   ]
  },
  {
   "cell_type": "markdown",
   "id": "5149c46a",
   "metadata": {
    "deletable": false,
    "editable": false,
    "run_control": {
     "frozen": true
    }
   },
   "source": [
    "## Part 1"
   ]
  },
  {
   "cell_type": "code",
   "execution_count": 86,
   "id": "222d47eb",
   "metadata": {
    "ExecuteTime": {
     "end_time": "2021-12-18T16:44:05.295457Z",
     "start_time": "2021-12-18T16:44:05.010070Z"
    }
   },
   "outputs": [
    {
     "data": {
      "text/plain": [
       "4072"
      ]
     },
     "execution_count": 86,
     "metadata": {},
     "output_type": "execute_result"
    }
   ],
   "source": [
    "trees = [eval(line) for line in lines]\n",
    "total = trees[0]\n",
    "for tree in trees[1:]:\n",
    "    total = [total, tree]\n",
    "    reduce(total)\n",
    "\n",
    "magnitude(total)"
   ]
  },
  {
   "cell_type": "markdown",
   "id": "da42a279",
   "metadata": {
    "deletable": false,
    "editable": false,
    "run_control": {
     "frozen": true
    }
   },
   "source": [
    "## Part 2"
   ]
  },
  {
   "cell_type": "code",
   "execution_count": 89,
   "id": "db672ff4",
   "metadata": {
    "ExecuteTime": {
     "end_time": "2021-12-18T16:45:25.560167Z",
     "start_time": "2021-12-18T16:45:21.620560Z"
    }
   },
   "outputs": [
    {
     "data": {
      "text/plain": [
       "4483"
      ]
     },
     "execution_count": 89,
     "metadata": {},
     "output_type": "execute_result"
    }
   ],
   "source": [
    "max(max(reduce([eval(lines[i]), eval(lines[j])]), \n",
    "        reduce([eval(lines[j]), eval(lines[i])]))\n",
    "    for i in range(len(lines))\n",
    "    for j in range(i + 1, len(lines)))"
   ]
  },
  {
   "cell_type": "code",
   "execution_count": null,
   "id": "422fef7d",
   "metadata": {},
   "outputs": [],
   "source": []
  }
 ],
 "metadata": {
  "kernelspec": {
   "display_name": "Python 3 (ipykernel)",
   "language": "python",
   "name": "python3"
  },
  "language_info": {
   "codemirror_mode": {
    "name": "ipython",
    "version": 3
   },
   "file_extension": ".py",
   "mimetype": "text/x-python",
   "name": "python",
   "nbconvert_exporter": "python",
   "pygments_lexer": "ipython3",
   "version": "3.10.0"
  }
 },
 "nbformat": 4,
 "nbformat_minor": 5
}
