{
 "cells": [
  {
   "cell_type": "code",
   "execution_count": 1,
   "id": "5653ba3e",
   "metadata": {
    "ExecuteTime": {
     "end_time": "2021-12-10T14:08:28.355545Z",
     "start_time": "2021-12-10T14:08:28.350621Z"
    }
   },
   "outputs": [],
   "source": [
    "from pathlib import Path"
   ]
  },
  {
   "cell_type": "code",
   "execution_count": 25,
   "id": "dac53ea5",
   "metadata": {
    "ExecuteTime": {
     "end_time": "2021-12-10T14:29:29.067451Z",
     "start_time": "2021-12-10T14:29:29.063899Z"
    }
   },
   "outputs": [],
   "source": [
    "lines = Path(\"day10.txt\").read_text().splitlines()\n",
    "\n",
    "OPEN = \"([{<\"\n",
    "CLOSE = {\"(\": \")\", \"[\": \"]\", \"{\": \"}\", \"<\": \">\"}\n"
   ]
  },
  {
   "cell_type": "markdown",
   "id": "5149c46a",
   "metadata": {
    "deletable": false,
    "editable": false,
    "run_control": {
     "frozen": true
    }
   },
   "source": [
    "## Part 1"
   ]
  },
  {
   "cell_type": "code",
   "execution_count": 27,
   "id": "222d47eb",
   "metadata": {
    "ExecuteTime": {
     "end_time": "2021-12-10T14:32:14.322694Z",
     "start_time": "2021-12-10T14:32:14.315113Z"
    }
   },
   "outputs": [
    {
     "data": {
      "text/plain": [
       "374061"
      ]
     },
     "execution_count": 27,
     "metadata": {},
     "output_type": "execute_result"
    }
   ],
   "source": [
    "SCORE = {\")\": 3, \"]\": 57, \"}\": 1197, \">\": 25137}\n",
    "\n",
    "score = 0\n",
    "for line in lines:\n",
    "    stack = []\n",
    "    corrupt = False\n",
    "    for char in line:\n",
    "        if char in OPEN:\n",
    "            stack.append(char)\n",
    "        elif char != CLOSE[stack.pop()]:\n",
    "            corrupt = True\n",
    "            break\n",
    "    if corrupt:\n",
    "        score += SCORE[char]\n",
    "\n",
    "score"
   ]
  },
  {
   "cell_type": "markdown",
   "id": "da42a279",
   "metadata": {
    "deletable": false,
    "editable": false,
    "run_control": {
     "frozen": true
    }
   },
   "source": [
    "## Part 2"
   ]
  },
  {
   "cell_type": "code",
   "execution_count": 28,
   "id": "db672ff4",
   "metadata": {
    "ExecuteTime": {
     "end_time": "2021-12-10T14:32:14.972314Z",
     "start_time": "2021-12-10T14:32:14.963514Z"
    }
   },
   "outputs": [
    {
     "data": {
      "text/plain": [
       "2116639949"
      ]
     },
     "execution_count": 28,
     "metadata": {},
     "output_type": "execute_result"
    }
   ],
   "source": [
    "SCORE = {\"(\": 1, \"[\": 2, \"{\": 3, \"<\": 4}\n",
    "\n",
    "score = []\n",
    "for line in lines:\n",
    "    stack = []\n",
    "    corrupt = False\n",
    "    for char in line:\n",
    "        if char in OPEN:\n",
    "            stack.append(char)\n",
    "        elif char != CLOSE[stack.pop()]:\n",
    "            corrupt = True\n",
    "            break\n",
    "\n",
    "    if not corrupt:\n",
    "        score.append(0)\n",
    "        for char in stack[::-1]:\n",
    "            score[-1] *= 5\n",
    "            score[-1] += SCORE[char]\n",
    "\n",
    "sorted(score)[len(score) // 2]"
   ]
  },
  {
   "cell_type": "code",
   "execution_count": null,
   "id": "ba7951ad",
   "metadata": {},
   "outputs": [],
   "source": []
  }
 ],
 "metadata": {
  "kernelspec": {
   "display_name": "Python 3 (ipykernel)",
   "language": "python",
   "name": "python3"
  },
  "language_info": {
   "codemirror_mode": {
    "name": "ipython",
    "version": 3
   },
   "file_extension": ".py",
   "mimetype": "text/x-python",
   "name": "python",
   "nbconvert_exporter": "python",
   "pygments_lexer": "ipython3",
   "version": "3.10.0"
  }
 },
 "nbformat": 4,
 "nbformat_minor": 5
}
