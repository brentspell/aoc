{
 "cells": [
  {
   "cell_type": "code",
   "execution_count": 11,
   "id": "5653ba3e",
   "metadata": {
    "ExecuteTime": {
     "end_time": "2021-12-12T13:48:00.706513Z",
     "start_time": "2021-12-12T13:48:00.703961Z"
    }
   },
   "outputs": [],
   "source": [
    "from collections import defaultdict\n",
    "from pathlib import Path"
   ]
  },
  {
   "cell_type": "code",
   "execution_count": 39,
   "id": "dac53ea5",
   "metadata": {
    "ExecuteTime": {
     "end_time": "2021-12-12T14:02:25.739394Z",
     "start_time": "2021-12-12T14:02:25.734508Z"
    }
   },
   "outputs": [],
   "source": [
    "lines = Path(\"day12.txt\").read_text().splitlines()\n",
    "\n",
    "graph = defaultdict(list)\n",
    "for line in lines:\n",
    "    a, b = line.split(\"-\")\n",
    "    graph[a].append(b)\n",
    "    if a != \"start\" and b != \"end\":\n",
    "        graph[b].append(a)"
   ]
  },
  {
   "cell_type": "markdown",
   "id": "5149c46a",
   "metadata": {
    "deletable": false,
    "editable": false,
    "run_control": {
     "frozen": true
    }
   },
   "source": [
    "## Part 1"
   ]
  },
  {
   "cell_type": "code",
   "execution_count": 45,
   "id": "222d47eb",
   "metadata": {
    "ExecuteTime": {
     "end_time": "2021-12-12T14:07:05.493430Z",
     "start_time": "2021-12-12T14:07:05.458334Z"
    }
   },
   "outputs": [
    {
     "data": {
      "text/plain": [
       "3463"
      ]
     },
     "execution_count": 45,
     "metadata": {},
     "output_type": "execute_result"
    }
   ],
   "source": [
    "paths = 0\n",
    "queue = [['start']]\n",
    "while queue:\n",
    "    path = queue.pop()\n",
    "    if path[-1] == 'end':\n",
    "        paths += 1\n",
    "    else:\n",
    "        for link in graph[path[-1]]:\n",
    "            if link.isupper() or link not in path:\n",
    "                queue.append(path + [link])\n",
    "\n",
    "paths"
   ]
  },
  {
   "cell_type": "markdown",
   "id": "da42a279",
   "metadata": {
    "deletable": false,
    "editable": false,
    "run_control": {
     "frozen": true
    }
   },
   "source": [
    "## Part 2"
   ]
  },
  {
   "cell_type": "code",
   "execution_count": 48,
   "id": "db672ff4",
   "metadata": {
    "ExecuteTime": {
     "end_time": "2021-12-12T14:08:52.209550Z",
     "start_time": "2021-12-12T14:08:51.510362Z"
    }
   },
   "outputs": [
    {
     "data": {
      "text/plain": [
       "91533"
      ]
     },
     "execution_count": 48,
     "metadata": {},
     "output_type": "execute_result"
    }
   ],
   "source": [
    "paths = 0\n",
    "queue = [(['start'], False)]\n",
    "while queue:\n",
    "    path, done = queue.pop()\n",
    "    if path[-1] == 'end':\n",
    "        paths += 1\n",
    "    else:\n",
    "        for link in graph[path[-1]]:\n",
    "            if link.isupper() or link not in path or (not done and link not in {\"start\", \"end\"}):\n",
    "                link_done = link.islower() and link in path\n",
    "                queue.append((path + [link], done or link_done))\n",
    "\n",
    "paths"
   ]
  },
  {
   "cell_type": "code",
   "execution_count": null,
   "id": "0cbfbbe4",
   "metadata": {},
   "outputs": [],
   "source": []
  }
 ],
 "metadata": {
  "kernelspec": {
   "display_name": "Python 3 (ipykernel)",
   "language": "python",
   "name": "python3"
  },
  "language_info": {
   "codemirror_mode": {
    "name": "ipython",
    "version": 3
   },
   "file_extension": ".py",
   "mimetype": "text/x-python",
   "name": "python",
   "nbconvert_exporter": "python",
   "pygments_lexer": "ipython3",
   "version": "3.10.0"
  }
 },
 "nbformat": 4,
 "nbformat_minor": 5
}
