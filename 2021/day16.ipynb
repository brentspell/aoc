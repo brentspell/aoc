{
 "cells": [
  {
   "cell_type": "code",
   "execution_count": 1,
   "id": "5653ba3e",
   "metadata": {
    "ExecuteTime": {
     "end_time": "2021-12-16T14:28:31.863747Z",
     "start_time": "2021-12-16T14:28:31.859923Z"
    }
   },
   "outputs": [],
   "source": [
    "from pathlib import Path"
   ]
  },
  {
   "cell_type": "code",
   "execution_count": 22,
   "id": "dac53ea5",
   "metadata": {
    "ExecuteTime": {
     "end_time": "2021-12-16T14:34:05.969481Z",
     "start_time": "2021-12-16T14:34:05.966031Z"
    }
   },
   "outputs": [],
   "source": [
    "data = Path(\"day16.txt\").read_text()\n",
    "bits = \"\".join(f\"{int(c, base=16):04b}\" for c in data)"
   ]
  },
  {
   "cell_type": "code",
   "execution_count": 24,
   "id": "5e4a0842",
   "metadata": {
    "ExecuteTime": {
     "end_time": "2021-12-16T14:35:17.754094Z",
     "start_time": "2021-12-16T14:35:17.751159Z"
    }
   },
   "outputs": [],
   "source": [
    "def bits2int(bits):\n",
    "    return int(bits, base=2)\n",
    "\n",
    "def product(values):\n",
    "    result = 1\n",
    "    for v in values:\n",
    "        result *= v\n",
    "    return result"
   ]
  },
  {
   "cell_type": "markdown",
   "id": "5149c46a",
   "metadata": {
    "deletable": false,
    "editable": false,
    "run_control": {
     "frozen": true
    }
   },
   "source": [
    "## Part 1"
   ]
  },
  {
   "cell_type": "code",
   "execution_count": 32,
   "id": "222d47eb",
   "metadata": {
    "ExecuteTime": {
     "end_time": "2021-12-16T14:36:53.567447Z",
     "start_time": "2021-12-16T14:36:53.559627Z"
    }
   },
   "outputs": [
    {
     "data": {
      "text/plain": [
       "955"
      ]
     },
     "execution_count": 32,
     "metadata": {},
     "output_type": "execute_result"
    }
   ],
   "source": [
    "def parse(bits):\n",
    "    offset = 0\n",
    "    \n",
    "    # parse the version/operator header\n",
    "    version = bits2int(bits[offset:][:3])\n",
    "    offset += 3\n",
    "    operator = bits2int(bits[offset:][:3])\n",
    "    offset += 3\n",
    "    \n",
    "    if operator == 4:\n",
    "        # literal packet, skip over it\n",
    "        done = False\n",
    "        while not done:\n",
    "            done = int(bits[offset]) == 0\n",
    "            offset += 5\n",
    "    else:\n",
    "        # operator packet, parse the child packets\n",
    "        length_type = int(bits[offset])\n",
    "        offset += 1\n",
    "\n",
    "        if length_type == 0:\n",
    "            # length-style children, parse each child packet until the end\n",
    "            length = bits2int(bits[offset:][:15])\n",
    "            offset += 15\n",
    "            while length > 0:\n",
    "                child_version, child_length = parse(bits[offset:][:length])\n",
    "                version += child_version\n",
    "                offset += child_length\n",
    "                length -= child_length\n",
    "        else:\n",
    "            # count-style children, parse N child packets\n",
    "            count = bits2int(bits[offset:][:11])\n",
    "            offset += 11\n",
    "            for _ in range(count):\n",
    "                child_version, child_length = parse(bits[offset:])\n",
    "                version += child_version\n",
    "                offset += child_length\n",
    "    \n",
    "    return version, offset\n",
    "\n",
    "\n",
    "parse(bits)[0]"
   ]
  },
  {
   "cell_type": "markdown",
   "id": "da42a279",
   "metadata": {
    "deletable": false,
    "editable": false,
    "run_control": {
     "frozen": true
    }
   },
   "source": [
    "## Part 2"
   ]
  },
  {
   "cell_type": "code",
   "execution_count": 33,
   "id": "db672ff4",
   "metadata": {
    "ExecuteTime": {
     "end_time": "2021-12-16T14:36:54.174189Z",
     "start_time": "2021-12-16T14:36:54.161232Z"
    }
   },
   "outputs": [
    {
     "data": {
      "text/plain": [
       "158135423448"
      ]
     },
     "execution_count": 33,
     "metadata": {},
     "output_type": "execute_result"
    }
   ],
   "source": [
    "def calculate(bits):\n",
    "    offset = 0\n",
    "    \n",
    "    # parse the version/operator headers\n",
    "    _version = bits2int(bits[offset:][:3])\n",
    "    offset += 3\n",
    "    operator = bits2int(bits[offset:][:3])\n",
    "    offset += 3\n",
    "    \n",
    "    if operator == 4:\n",
    "        # literal packet, decode it directly\n",
    "        result = 0\n",
    "        done = False\n",
    "        while not done:\n",
    "            done = int(bits[offset]) == 0\n",
    "            result = (result << 4) | bits2int(bits[offset + 1:][:4])\n",
    "            offset += 5\n",
    "    else:\n",
    "        # operator packet, parse child packets\n",
    "        params = []\n",
    "        length_type = int(bits[offset])\n",
    "        offset += 1\n",
    "        if length_type == 0:\n",
    "            # length-style children, parse each child packet until the end\n",
    "            length = bits2int(bits[offset:][:15])\n",
    "            offset += 15\n",
    "            while length > 0:\n",
    "                child_result, child_length = calculate(bits[offset:][:length])\n",
    "                params.append(child_result)\n",
    "                offset += child_length\n",
    "                length -= child_length\n",
    "        else:\n",
    "            # count-style children, parse N child packets\n",
    "            count = bits2int(bits[offset:][:11])\n",
    "            offset += 11\n",
    "            for _ in range(count):\n",
    "                child_result, child_length = calculate(bits[offset:])\n",
    "                params.append(child_result)\n",
    "                offset += child_length\n",
    "        \n",
    "        # dispatch the operator\n",
    "        match operator:\n",
    "            case 0:\n",
    "                result = sum(params)\n",
    "            case 1:\n",
    "                result = product(params)\n",
    "            case 2:\n",
    "                result = min(params)\n",
    "            case 3:\n",
    "                result = max(params)\n",
    "            case 5:\n",
    "                result = int(params[0] > params[1])\n",
    "            case 6:\n",
    "                result = int(params[0] < params[1])\n",
    "            case 7:\n",
    "                result = int(params[0] == params[1])\n",
    "    \n",
    "    return result, offset\n",
    "\n",
    "calculate(bits)[0]"
   ]
  },
  {
   "cell_type": "code",
   "execution_count": null,
   "id": "422fef7d",
   "metadata": {},
   "outputs": [],
   "source": []
  }
 ],
 "metadata": {
  "kernelspec": {
   "display_name": "Python 3 (ipykernel)",
   "language": "python",
   "name": "python3"
  },
  "language_info": {
   "codemirror_mode": {
    "name": "ipython",
    "version": 3
   },
   "file_extension": ".py",
   "mimetype": "text/x-python",
   "name": "python",
   "nbconvert_exporter": "python",
   "pygments_lexer": "ipython3",
   "version": "3.10.0"
  }
 },
 "nbformat": 4,
 "nbformat_minor": 5
}
