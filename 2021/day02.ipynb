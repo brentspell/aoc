{
 "cells": [
  {
   "cell_type": "code",
   "execution_count": 1,
   "id": "5653ba3e",
   "metadata": {
    "ExecuteTime": {
     "end_time": "2021-12-02T13:24:21.819128Z",
     "start_time": "2021-12-02T13:24:21.814663Z"
    }
   },
   "outputs": [],
   "source": [
    "from pathlib import Path"
   ]
  },
  {
   "cell_type": "code",
   "execution_count": 17,
   "id": "dac53ea5",
   "metadata": {
    "ExecuteTime": {
     "end_time": "2021-12-02T13:36:21.070893Z",
     "start_time": "2021-12-02T13:36:21.067619Z"
    }
   },
   "outputs": [],
   "source": [
    "lines = Path(\"day02.txt\").read_text().splitlines()"
   ]
  },
  {
   "cell_type": "markdown",
   "id": "5149c46a",
   "metadata": {
    "deletable": false,
    "editable": false,
    "run_control": {
     "frozen": true
    }
   },
   "source": [
    "## Part 1"
   ]
  },
  {
   "cell_type": "code",
   "execution_count": 12,
   "id": "222d47eb",
   "metadata": {
    "ExecuteTime": {
     "end_time": "2021-12-02T13:33:23.757232Z",
     "start_time": "2021-12-02T13:33:23.751144Z"
    }
   },
   "outputs": [
    {
     "data": {
      "text/plain": [
       "1524750"
      ]
     },
     "execution_count": 12,
     "metadata": {},
     "output_type": "execute_result"
    }
   ],
   "source": [
    "pos = 0\n",
    "depth = 0\n",
    "\n",
    "for line in lines:\n",
    "    move, count = line.split()\n",
    "    count = int(count)\n",
    "    match move:\n",
    "        case \"forward\":\n",
    "            pos += count\n",
    "        case \"down\":\n",
    "            depth += count\n",
    "        case \"up\":\n",
    "            depth -= count\n",
    "            \n",
    "pos * depth\n"
   ]
  },
  {
   "cell_type": "markdown",
   "id": "da42a279",
   "metadata": {
    "deletable": false,
    "editable": false,
    "run_control": {
     "frozen": true
    }
   },
   "source": [
    "## Part 2"
   ]
  },
  {
   "cell_type": "code",
   "execution_count": 18,
   "id": "db672ff4",
   "metadata": {
    "ExecuteTime": {
     "end_time": "2021-12-02T13:36:23.211202Z",
     "start_time": "2021-12-02T13:36:23.204608Z"
    }
   },
   "outputs": [
    {
     "data": {
      "text/plain": [
       "1592426537"
      ]
     },
     "execution_count": 18,
     "metadata": {},
     "output_type": "execute_result"
    }
   ],
   "source": [
    "pos = 0\n",
    "depth = 0\n",
    "aim = 0\n",
    "\n",
    "for line in lines:\n",
    "    move, count = line.split()\n",
    "    count = int(count)\n",
    "    match move:\n",
    "        case \"forward\":\n",
    "            pos += count\n",
    "            depth += aim * count\n",
    "        case \"down\":\n",
    "            aim += count\n",
    "        case \"up\":\n",
    "            aim -= count\n",
    "            \n",
    "pos * depth\n"
   ]
  },
  {
   "cell_type": "code",
   "execution_count": null,
   "id": "422fef7d",
   "metadata": {},
   "outputs": [],
   "source": []
  }
 ],
 "metadata": {
  "kernelspec": {
   "display_name": "Python 3 (ipykernel)",
   "language": "python",
   "name": "python3"
  },
  "language_info": {
   "codemirror_mode": {
    "name": "ipython",
    "version": 3
   },
   "file_extension": ".py",
   "mimetype": "text/x-python",
   "name": "python",
   "nbconvert_exporter": "python",
   "pygments_lexer": "ipython3",
   "version": "3.10.0"
  }
 },
 "nbformat": 4,
 "nbformat_minor": 5
}
