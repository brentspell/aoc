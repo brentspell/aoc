{
 "cells": [
  {
   "cell_type": "code",
   "execution_count": 82,
   "id": "5653ba3e",
   "metadata": {
    "ExecuteTime": {
     "end_time": "2021-12-03T14:52:39.974308Z",
     "start_time": "2021-12-03T14:52:39.971564Z"
    }
   },
   "outputs": [],
   "source": [
    "from pathlib import Path"
   ]
  },
  {
   "cell_type": "code",
   "execution_count": 83,
   "id": "dac53ea5",
   "metadata": {
    "ExecuteTime": {
     "end_time": "2021-12-03T14:52:40.112377Z",
     "start_time": "2021-12-03T14:52:40.109137Z"
    }
   },
   "outputs": [],
   "source": [
    "lines = Path(\"day03.txt\").read_text().splitlines()\n"
   ]
  },
  {
   "cell_type": "markdown",
   "id": "5149c46a",
   "metadata": {
    "deletable": false,
    "editable": false,
    "run_control": {
     "frozen": true
    }
   },
   "source": [
    "## Part 1"
   ]
  },
  {
   "cell_type": "code",
   "execution_count": 84,
   "id": "222d47eb",
   "metadata": {
    "ExecuteTime": {
     "end_time": "2021-12-03T14:52:40.364359Z",
     "start_time": "2021-12-03T14:52:40.356020Z"
    }
   },
   "outputs": [
    {
     "data": {
      "text/plain": [
       "4174964"
      ]
     },
     "execution_count": 84,
     "metadata": {},
     "output_type": "execute_result"
    }
   ],
   "source": [
    "gam = \"\"\n",
    "eps = \"\"\n",
    "\n",
    "for i in range(len(lines[0])):\n",
    "    ones = sum(int(line[i]) for line in lines)\n",
    "    gam += str(int(ones >= len(lines) / 2))\n",
    "    eps += str(int(ones  < len(lines) / 2))\n",
    "\n",
    "int(gam, 2) * int(eps, 2)\n"
   ]
  },
  {
   "cell_type": "markdown",
   "id": "da42a279",
   "metadata": {
    "deletable": false,
    "editable": false,
    "run_control": {
     "frozen": true
    }
   },
   "source": [
    "## Part 2"
   ]
  },
  {
   "cell_type": "code",
   "execution_count": 86,
   "id": "807e60fe",
   "metadata": {
    "ExecuteTime": {
     "end_time": "2021-12-03T15:02:53.410390Z",
     "start_time": "2021-12-03T15:02:53.400213Z"
    }
   },
   "outputs": [
    {
     "data": {
      "text/plain": [
       "4474944"
      ]
     },
     "execution_count": 86,
     "metadata": {},
     "output_type": "execute_result"
    }
   ],
   "source": [
    "_o2 = lines.copy()\n",
    "co2 = lines.copy()\n",
    "\n",
    "for i in range(len(lines[0])):\n",
    "    if len(_o2) > 1:\n",
    "        ones = sum(int(e[i]) for e in _o2)\n",
    "        _o2 = [e for e in _o2 if e[i] == str(int(ones >= len(_o2) / 2))]\n",
    "    if len(co2) > 1:\n",
    "        ones = sum(int(e[i]) for e in co2)\n",
    "        co2 = [e for e in co2 if e[i] == str(int(ones  < len(co2) / 2))]\n",
    "\n",
    "int(_o2[0], 2) * int(co2[0], 2)\n"
   ]
  },
  {
   "cell_type": "code",
   "execution_count": null,
   "id": "8d3ef39b",
   "metadata": {},
   "outputs": [],
   "source": []
  }
 ],
 "metadata": {
  "kernelspec": {
   "display_name": "Python 3 (ipykernel)",
   "language": "python",
   "name": "python3"
  },
  "language_info": {
   "codemirror_mode": {
    "name": "ipython",
    "version": 3
   },
   "file_extension": ".py",
   "mimetype": "text/x-python",
   "name": "python",
   "nbconvert_exporter": "python",
   "pygments_lexer": "ipython3",
   "version": "3.10.0"
  }
 },
 "nbformat": 4,
 "nbformat_minor": 5
}
