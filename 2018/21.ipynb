{
 "cells": [
  {
   "cell_type": "code",
   "execution_count": 1,
   "metadata": {
    "ExecuteTime": {
     "end_time": "2018-12-21T09:54:25.962000-05:00",
     "start_time": "2018-12-21T14:54:22.898Z"
    }
   },
   "outputs": [
    {
     "data": {
      "text/plain": [
       "(1, Instruction[Instruction(\"seti\", [123, 0, 5]), Instruction(\"bani\", [5, 456, 5]), Instruction(\"eqri\", [5, 72, 5]), Instruction(\"addr\", [5, 1, 1]), Instruction(\"seti\", [0, 0, 1]), Instruction(\"seti\", [0, 6, 5]), Instruction(\"bori\", [5, 65536, 4]), Instruction(\"seti\", [13431073, 4, 5]), Instruction(\"bani\", [4, 255, 3]), Instruction(\"addr\", [5, 3, 5])  …  Instruction(\"addr\", [2, 1, 1]), Instruction(\"addi\", [1, 1, 1]), Instruction(\"seti\", [25, 4, 1]), Instruction(\"addi\", [3, 1, 3]), Instruction(\"seti\", [17, 8, 1]), Instruction(\"setr\", [3, 4, 4]), Instruction(\"seti\", [7, 7, 1]), Instruction(\"eqrr\", [5, 0, 3]), Instruction(\"addr\", [3, 1, 1]), Instruction(\"seti\", [5, 9, 1])])"
      ]
     },
     "execution_count": 1,
     "metadata": {},
     "output_type": "execute_result"
    }
   ],
   "source": [
    "# https://adventofcode.com/2018/day/21\n",
    "\n",
    "struct Instruction\n",
    "    op::String\n",
    "    params::Array{Int}\n",
    "\n",
    "    function Instruction(line::String)\n",
    "        caps = match(r\"([a-z]+)\\s(\\d+)\\s(\\d+)\\s(\\d+)\", line).captures\n",
    "        new(caps[1], parse.(Int, caps[2:end]))\n",
    "    end\n",
    "end\n",
    "\n",
    "ip, program = open(\"21.txt\", \"r\") do file\n",
    "    ip = parse(Int, match(r\"#ip (\\d+)\", readline(file)).captures[1])\n",
    "    \n",
    "    program = readlines(file) .|> Instruction\n",
    "\n",
    "    ip, program\n",
    "end\n"
   ]
  },
  {
   "cell_type": "code",
   "execution_count": 2,
   "metadata": {
    "ExecuteTime": {
     "end_time": "2018-12-21T09:54:26.525000-05:00",
     "start_time": "2018-12-21T14:54:23.106Z"
    }
   },
   "outputs": [
    {
     "data": {
      "text/plain": [
       "eqrr (generic function with 1 method)"
      ]
     },
     "execution_count": 2,
     "metadata": {},
     "output_type": "execute_result"
    }
   ],
   "source": [
    "# the ops\n",
    "\n",
    "addr(r, a, b, c) = (r = copy(r); r[c + 1] = r[a + 1] + r[b + 1]; r)\n",
    "addi(r, a, b, c) = (r = copy(r); r[c + 1] = r[a + 1] + b; r)\n",
    "mulr(r, a, b, c) = (r = copy(r); r[c + 1] = r[a + 1] * r[b + 1]; r)\n",
    "muli(r, a, b, c) = (r = copy(r); r[c + 1] = r[a + 1] * b; r)\n",
    "banr(r, a, b, c) = (r = copy(r); r[c + 1] = r[a + 1] & r[b + 1]; r)\n",
    "bani(r, a, b, c) = (r = copy(r); r[c + 1] = r[a + 1] & b; r)\n",
    "borr(r, a, b, c) = (r = copy(r); r[c + 1] = r[a + 1] | r[b + 1]; r)\n",
    "bori(r, a, b, c) = (r = copy(r); r[c + 1] = r[a + 1] | b; r)\n",
    "setr(r, a, b, c) = (r = copy(r); r[c + 1] = r[a + 1]; r)\n",
    "seti(r, a, b, c) = (r = copy(r); r[c + 1] = a; r)\n",
    "gtir(r, a, b, c) = (r = copy(r); r[c + 1] = a > r[b + 1]; r)\n",
    "gtri(r, a, b, c) = (r = copy(r); r[c + 1] = r[a + 1] > b; r)\n",
    "gtrr(r, a, b, c) = (r = copy(r); r[c + 1] = r[a + 1] > r[b + 1]; r)\n",
    "eqir(r, a, b, c) = (r = copy(r); r[c + 1] = a == r[b + 1]; r)\n",
    "eqri(r, a, b, c) = (r = copy(r); r[c + 1] = r[a + 1] == b; r)\n",
    "eqrr(r, a, b, c) = (r = copy(r); r[c + 1] = r[a + 1] == r[b + 1]; r)\n"
   ]
  },
  {
   "cell_type": "code",
   "execution_count": null,
   "metadata": {},
   "outputs": [],
   "source": []
  },
  {
   "cell_type": "code",
   "execution_count": null,
   "metadata": {},
   "outputs": [],
   "source": []
  },
  {
   "cell_type": "code",
   "execution_count": 93,
   "metadata": {
    "ExecuteTime": {
     "end_time": "2018-12-19T11:37:45.392000-05:00",
     "start_time": "2018-12-19T16:37:39.778Z"
    }
   },
   "outputs": [
    {
     "data": {
      "text/plain": [
       "1248"
      ]
     },
     "execution_count": 93,
     "metadata": {},
     "output_type": "execute_result"
    }
   ],
   "source": [
    "# part 1\n",
    "\n",
    "registers = zeros(Int, 6)\n",
    "while registers[ip + 1] + 1 in 1:length(program)\n",
    "    instruction = program[registers[ip + 1] + 1]\n",
    "    op = getfield(Main, Symbol(instruction.op))\n",
    "    registers = op(registers, instruction.params...)\n",
    "    registers[ip + 1] += 1\n",
    "end\n",
    "\n",
    "registers[1]\n"
   ]
  },
  {
   "cell_type": "code",
   "execution_count": 9,
   "metadata": {
    "ExecuteTime": {
     "end_time": "2018-12-21T09:57:38.934000-05:00",
     "start_time": "2018-12-21T14:57:38.658Z"
    }
   },
   "outputs": [
    {
     "data": {
      "text/plain": [
       "3115806"
      ]
     },
     "execution_count": 9,
     "metadata": {},
     "output_type": "execute_result"
    }
   ],
   "source": [
    "# part 1, disassembly\n",
    "\n",
    "a = 3115806   # through simple simulation (first f where e < 256)\n",
    "\n",
    "f = 123\n",
    "while f != 72\n",
    "    f &= 456\n",
    "end\n",
    "\n",
    "f = 0\n",
    "while true\n",
    "    e = f | 65536\n",
    "    f = 13431073\n",
    "    while true\n",
    "        d = e & 255\n",
    "        f += d\n",
    "        f &= 16777215\n",
    "        f *= 65899\n",
    "        f &= 16777215\n",
    "        d = 256 > e\n",
    "        if d\n",
    "            if f == a\n",
    "                return\n",
    "            else\n",
    "                break\n",
    "            end\n",
    "        end\n",
    "\n",
    "        d = 0\n",
    "        while true\n",
    "            c = d + 1\n",
    "            c *= 256\n",
    "            c = c > e\n",
    "            if c\n",
    "                break\n",
    "            end\n",
    "            d += 1\n",
    "        end\n",
    "\n",
    "        e = d\n",
    "    end\n",
    "end\n",
    "\n",
    "a\n"
   ]
  },
  {
   "cell_type": "code",
   "execution_count": 30,
   "metadata": {
    "ExecuteTime": {
     "end_time": "2018-12-21T10:10:17.076000-05:00",
     "start_time": "2018-12-21T15:10:17.044Z"
    }
   },
   "outputs": [
    {
     "data": {
      "text/plain": [
       "13959373"
      ]
     },
     "execution_count": 30,
     "metadata": {},
     "output_type": "execute_result"
    }
   ],
   "source": [
    "# part 2\n",
    "\n",
    "fs = Set()\n",
    "e = 0\n",
    "f = 0\n",
    "pf = 0\n",
    "while true\n",
    "    e = f | 65536\n",
    "    f = 13431073\n",
    "    while true\n",
    "        f += e & 255\n",
    "        f &= 16777215\n",
    "        f *= 65899\n",
    "        f &= 16777215\n",
    "        if e < 256 \n",
    "            # find the f that creates the first cycle\n",
    "            # setting a to the previous f will run the longest\n",
    "            if f in fs\n",
    "                return pf\n",
    "            end\n",
    "            push!(fs, f)\n",
    "            pf = f\n",
    "            break\n",
    "        end\n",
    "        \n",
    "        # this replaces the very slow division in part 1\n",
    "        e = div(e, 256)\n",
    "    end\n",
    "end\n"
   ]
  },
  {
   "cell_type": "code",
   "execution_count": null,
   "metadata": {},
   "outputs": [],
   "source": []
  }
 ],
 "metadata": {
  "kernelspec": {
   "display_name": "Julia 1.0.2",
   "language": "julia",
   "name": "julia-1.0"
  },
  "language_info": {
   "file_extension": ".jl",
   "mimetype": "application/julia",
   "name": "julia",
   "version": "1.0.0"
  },
  "toc": {
   "base_numbering": 1,
   "nav_menu": {},
   "number_sections": true,
   "sideBar": true,
   "skip_h1_title": false,
   "title_cell": "Table of Contents",
   "title_sidebar": "Contents",
   "toc_cell": false,
   "toc_position": {},
   "toc_section_display": true,
   "toc_window_display": false
  }
 },
 "nbformat": 4,
 "nbformat_minor": 2
}
