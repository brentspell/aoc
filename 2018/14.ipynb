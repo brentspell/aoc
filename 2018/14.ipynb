{
 "cells": [
  {
   "cell_type": "code",
   "execution_count": 1,
   "metadata": {
    "ExecuteTime": {
     "end_time": "2018-12-14T09:52:23.772000-05:00",
     "start_time": "2018-12-14T14:52:13.553Z"
    }
   },
   "outputs": [
    {
     "data": {
      "text/plain": [
       "\"084601\""
      ]
     },
     "execution_count": 1,
     "metadata": {},
     "output_type": "execute_result"
    }
   ],
   "source": [
    "# https://adventofcode.com/2018/day/14\n",
    "\n",
    "data = open(\"14.txt\", \"r\") do file\n",
    "    read(file, String)\n",
    "end\n"
   ]
  },
  {
   "cell_type": "code",
   "execution_count": 2,
   "metadata": {
    "ExecuteTime": {
     "end_time": "2018-12-14T09:52:25.632000-05:00",
     "start_time": "2018-12-14T14:52:25.227Z"
    }
   },
   "outputs": [
    {
     "data": {
      "text/plain": [
       "\"2688510125\""
      ]
     },
     "execution_count": 2,
     "metadata": {},
     "output_type": "execute_result"
    }
   ],
   "source": [
    "# part 1\n",
    "\n",
    "recipes = [3, 7]\n",
    "source = parse(Int, data)\n",
    "target = source + 10\n",
    "e1 = 1\n",
    "e2 = 2\n",
    "\n",
    "while length(recipes) < target\n",
    "    new = recipes[e1] + recipes[e2]\n",
    "    if new > 9\n",
    "        push!(recipes, div(new, 10))\n",
    "    end\n",
    "    push!(recipes, new % 10)\n",
    "\n",
    "    e1 = (e1 + recipes[e1]) % length(recipes) + 1\n",
    "    e2 = (e2 + recipes[e2]) % length(recipes) + 1\n",
    "end\n",
    "\n",
    "join(recipes[source + 1:target] .+ '0')\n"
   ]
  },
  {
   "cell_type": "code",
   "execution_count": 3,
   "metadata": {
    "ExecuteTime": {
     "end_time": "2018-12-14T09:52:39.245000-05:00",
     "start_time": "2018-12-14T14:52:26.664Z"
    }
   },
   "outputs": [
    {
     "data": {
      "text/plain": [
       "20188250"
      ]
     },
     "execution_count": 3,
     "metadata": {},
     "output_type": "execute_result"
    }
   ],
   "source": [
    "# part 2\n",
    "\n",
    "search = collect(data) .- '0'\n",
    "\n",
    "recipes = [3, 7]\n",
    "e1 = 1\n",
    "e2 = 2\n",
    "\n",
    "ismatch() = (length(recipes) >= length(search) \n",
    "             && recipes[end - length(search) + 1:end] == search)\n",
    "\n",
    "while true\n",
    "    new = recipes[e1] + recipes[e2]\n",
    "    if new > 9\n",
    "        push!(recipes, div(new, 10))\n",
    "        if ismatch() break end\n",
    "    end\n",
    "    push!(recipes, new % 10)\n",
    "    if ismatch() break end\n",
    "\n",
    "    e1 = (e1 + recipes[e1]) % length(recipes) + 1\n",
    "    e2 = (e2 + recipes[e2]) % length(recipes) + 1\n",
    "end\n",
    "\n",
    "length(recipes) - length(search)\n"
   ]
  },
  {
   "cell_type": "code",
   "execution_count": null,
   "metadata": {},
   "outputs": [],
   "source": []
  }
 ],
 "metadata": {
  "kernelspec": {
   "display_name": "Julia 1.0.2",
   "language": "julia",
   "name": "julia-1.0"
  },
  "language_info": {
   "file_extension": ".jl",
   "mimetype": "application/julia",
   "name": "julia",
   "version": "1.0.0"
  },
  "toc": {
   "base_numbering": 1,
   "nav_menu": {},
   "number_sections": true,
   "sideBar": true,
   "skip_h1_title": false,
   "title_cell": "Table of Contents",
   "title_sidebar": "Contents",
   "toc_cell": false,
   "toc_position": {},
   "toc_section_display": true,
   "toc_window_display": false
  }
 },
 "nbformat": 4,
 "nbformat_minor": 2
}
