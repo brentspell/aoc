{
 "cells": [
  {
   "cell_type": "code",
   "execution_count": 108,
   "metadata": {
    "ExecuteTime": {
     "end_time": "2018-12-02T09:49:28.263000-05:00",
     "start_time": "2018-12-02T14:49:28.154Z"
    }
   },
   "outputs": [
    {
     "data": {
      "text/plain": [
       "6888"
      ]
     },
     "execution_count": 108,
     "metadata": {},
     "output_type": "execute_result"
    }
   ],
   "source": [
    "# https://adventofcode.com/2018/day/2\n",
    "\n",
    "data = open(\"2.txt\") do file\n",
    "    readlines(file) .|> collect\n",
    "end\n",
    "\n",
    "\" create a map of distinct elements to their frequencies \"\n",
    "function hist(collection)\n",
    "    d = Dict()\n",
    "    for x in collection\n",
    "        d[x] = get(d, x, 0) + 1\n",
    "    end\n",
    "    return d\n",
    "end\n",
    "\n",
    "\n",
    "# calculate pairs of 2/3-frequent characters\n",
    "counts = [[2 in c, 3 in c]\n",
    "          for c in [s |> hist |> values for s in data]]\n",
    "\n",
    "# compute columnar sums and then the product checksum\n",
    "checksum = prod(sum(hcat(counts...), dims=2))\n"
   ]
  },
  {
   "cell_type": "code",
   "execution_count": 109,
   "metadata": {
    "ExecuteTime": {
     "end_time": "2018-12-02T09:49:28.495000-05:00",
     "start_time": "2018-12-02T14:49:28.281Z"
    }
   },
   "outputs": [
    {
     "data": {
      "text/plain": [
       "\"icxjvbrobtunlelzpdmfkahgs\""
      ]
     },
     "execution_count": 109,
     "metadata": {},
     "output_type": "execute_result"
    }
   ],
   "source": [
    "# find the pair with 1 mismatched character\n",
    "x, y = [(x, y)\n",
    "        for x in data\n",
    "        for y in data\n",
    "        if sum(x .!= y) == 1][1]\n",
    "\n",
    "# eliminate mismatched characters\n",
    "matched = join(x[x .== y])\n"
   ]
  },
  {
   "cell_type": "code",
   "execution_count": null,
   "metadata": {},
   "outputs": [],
   "source": []
  }
 ],
 "metadata": {
  "kernelspec": {
   "display_name": "Julia 1.0.2",
   "language": "julia",
   "name": "julia-1.0"
  },
  "language_info": {
   "file_extension": ".jl",
   "mimetype": "application/julia",
   "name": "julia",
   "version": "1.0.0"
  },
  "toc": {
   "base_numbering": 1,
   "nav_menu": {},
   "number_sections": true,
   "sideBar": true,
   "skip_h1_title": false,
   "title_cell": "Table of Contents",
   "title_sidebar": "Contents",
   "toc_cell": false,
   "toc_position": {},
   "toc_section_display": true,
   "toc_window_display": false
  }
 },
 "nbformat": 4,
 "nbformat_minor": 2
}
