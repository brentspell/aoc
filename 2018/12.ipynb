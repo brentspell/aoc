{
 "cells": [
  {
   "cell_type": "code",
   "execution_count": null,
   "metadata": {
    "ExecuteTime": {
     "end_time": "2018-12-12T10:57:12.945000-05:00",
     "start_time": "2018-12-12T15:57:12.816Z"
    }
   },
   "outputs": [],
   "source": [
    "# https://adventofcode.com/2018/day/12\n",
    "\n",
    "state, rules = open(\"12.txt\", \"r\") do file\n",
    "    state = readline(file) |> l -> match(r\"initial state: (.*)$\", l).captures[1]\n",
    "    \n",
    "    readline(file)\n",
    "    \n",
    "    rules = readlines(file) .|> l -> match(r\"([.#]{5}) => ([.#])\", l).captures\n",
    "    rules = Dict(rules)\n",
    "    \n",
    "    state, rules\n",
    "end\n",
    "\n",
    "function nextgen(state)\n",
    "    # pad the state string for the convolution\n",
    "    input = \".....$state.....\"\n",
    "    \n",
    "    # compute the next generation by convolving state string with the rules\n",
    "    join(get(rules, input[i - 2:i + 2], \".\")\n",
    "         for i in 3:length(input) - 2)\n",
    "end\n",
    "\n",
    "function gensum(output)\n",
    "    # we are always adding the same number of elements on the left+right\n",
    "    # so we can find the zero position by tracking the centers of the strings\n",
    "    oldcenter = ceil(Int, length(state) / 2)\n",
    "    newcenter = ceil(Int, length(output) / 2)\n",
    "    indexes = [i - newcenter + oldcenter - 1 \n",
    "               for i in 1:length(output)]\n",
    "    \n",
    "    # sum the oriented pot indexes that have a plant\n",
    "    sum(indexes[collect(output) .== '#'])\n",
    "end\n"
   ]
  },
  {
   "cell_type": "code",
   "execution_count": 14,
   "metadata": {
    "ExecuteTime": {
     "end_time": "2018-12-12T10:57:50.361000-05:00",
     "start_time": "2018-12-12T15:57:50.222Z"
    }
   },
   "outputs": [
    {
     "data": {
      "text/plain": [
       "2045"
      ]
     },
     "execution_count": 14,
     "metadata": {},
     "output_type": "execute_result"
    }
   ],
   "source": [
    "# part 1\n",
    "\n",
    "output = state\n",
    "for i in 1:20\n",
    "    output = nextgen(output)\n",
    "end\n",
    "\n",
    "gensum(output)\n"
   ]
  },
  {
   "cell_type": "code",
   "execution_count": 15,
   "metadata": {
    "ExecuteTime": {
     "end_time": "2018-12-12T10:58:04.063000-05:00",
     "start_time": "2018-12-12T15:58:04.022Z"
    }
   },
   "outputs": [
    {
     "data": {
      "text/plain": [
       "2100000000428"
      ]
     },
     "execution_count": 15,
     "metadata": {},
     "output_type": "execute_result"
    }
   ],
   "source": [
    "# part 2\n",
    "\n",
    "output = state\n",
    "generation = 0\n",
    "oldplants = 0\n",
    "newplants = 0\n",
    "\n",
    "while newplants - oldplants != 42\n",
    "    oldplants = newplants\n",
    "    output = nextgen(output)\n",
    "    newplants = gensum(output)\n",
    "    generation += 1\n",
    "end\n",
    "\n",
    "newplants + 42 * (50000000000 - generation)\n"
   ]
  },
  {
   "cell_type": "code",
   "execution_count": null,
   "metadata": {},
   "outputs": [],
   "source": []
  }
 ],
 "metadata": {
  "kernelspec": {
   "display_name": "Julia 1.0.2",
   "language": "julia",
   "name": "julia-1.0"
  },
  "language_info": {
   "file_extension": ".jl",
   "mimetype": "application/julia",
   "name": "julia",
   "version": "1.0.0"
  },
  "toc": {
   "base_numbering": 1,
   "nav_menu": {},
   "number_sections": true,
   "sideBar": true,
   "skip_h1_title": false,
   "title_cell": "Table of Contents",
   "title_sidebar": "Contents",
   "toc_cell": false,
   "toc_position": {},
   "toc_section_display": true,
   "toc_window_display": false
  }
 },
 "nbformat": 4,
 "nbformat_minor": 2
}
