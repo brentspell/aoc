{
 "cells": [
  {
   "cell_type": "code",
   "execution_count": 59,
   "metadata": {
    "ExecuteTime": {
     "end_time": "2018-12-09T12:35:38.326000-05:00",
     "start_time": "2018-12-09T17:35:38.289Z"
    }
   },
   "outputs": [
    {
     "data": {
      "text/plain": [
       "play (generic function with 1 method)"
      ]
     },
     "execution_count": 59,
     "metadata": {},
     "output_type": "execute_result"
    }
   ],
   "source": [
    "# https://adventofcode.com/2018/day/9\n",
    "\n",
    "using DataStructures\n",
    "\n",
    "function play(players, maxmarble)\n",
    "    scores = zeros(Int, players)\n",
    "    circle = Deque{Int}()\n",
    "    \n",
    "    player = 0\n",
    "    push!(circle, 0)\n",
    "\n",
    "    for marble in 1:maxmarble\n",
    "        player = player % length(scores) + 1\n",
    "        if marble % 23 == 0\n",
    "            # back up 7 positions counterclockwise\n",
    "            for _ in 1:7\n",
    "                pushfirst!(circle, pop!(circle))\n",
    "            end\n",
    "            \n",
    "            # remove the current marble and score it\n",
    "            scores[player] += marble + pop!(circle)\n",
    "            \n",
    "            # advance clockwise\n",
    "            push!(circle, popfirst!(circle))\n",
    "        else\n",
    "            # advance clockwise and insert\n",
    "            push!(circle, popfirst!(circle))\n",
    "            push!(circle, marble)\n",
    "        end\n",
    "    end\n",
    "    \n",
    "    return scores\n",
    "end\n"
   ]
  },
  {
   "cell_type": "code",
   "execution_count": 60,
   "metadata": {
    "ExecuteTime": {
     "end_time": "2018-12-09T12:35:38.498000-05:00",
     "start_time": "2018-12-09T17:35:38.423Z"
    }
   },
   "outputs": [
    {
     "data": {
      "text/plain": [
       "424639"
      ]
     },
     "execution_count": 60,
     "metadata": {},
     "output_type": "execute_result"
    }
   ],
   "source": [
    "# part 1\n",
    "\n",
    "play(411, 71058) |> maximum\n"
   ]
  },
  {
   "cell_type": "code",
   "execution_count": 61,
   "metadata": {
    "ExecuteTime": {
     "end_time": "2018-12-09T12:35:39.163000-05:00",
     "start_time": "2018-12-09T17:35:38.940Z"
    }
   },
   "outputs": [
    {
     "data": {
      "text/plain": [
       "3516007333"
      ]
     },
     "execution_count": 61,
     "metadata": {},
     "output_type": "execute_result"
    }
   ],
   "source": [
    "# part 2\n",
    "\n",
    "play(411, 71058 * 100) |> maximum\n"
   ]
  },
  {
   "cell_type": "code",
   "execution_count": null,
   "metadata": {},
   "outputs": [],
   "source": []
  }
 ],
 "metadata": {
  "kernelspec": {
   "display_name": "Julia 1.0.2",
   "language": "julia",
   "name": "julia-1.0"
  },
  "language_info": {
   "file_extension": ".jl",
   "mimetype": "application/julia",
   "name": "julia",
   "version": "1.0.0"
  },
  "toc": {
   "base_numbering": 1,
   "nav_menu": {},
   "number_sections": true,
   "sideBar": true,
   "skip_h1_title": false,
   "title_cell": "Table of Contents",
   "title_sidebar": "Contents",
   "toc_cell": false,
   "toc_position": {},
   "toc_section_display": true,
   "toc_window_display": false
  }
 },
 "nbformat": 4,
 "nbformat_minor": 2
}
