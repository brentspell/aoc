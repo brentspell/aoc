{
 "cells": [
  {
   "cell_type": "code",
   "execution_count": 22,
   "metadata": {
    "ExecuteTime": {
     "end_time": "2018-12-23T08:23:58.371000-05:00",
     "start_time": "2018-12-23T13:23:58.253Z"
    }
   },
   "outputs": [
    {
     "data": {
      "text/plain": [
       "distance (generic function with 1 method)"
      ]
     },
     "execution_count": 22,
     "metadata": {},
     "output_type": "execute_result"
    }
   ],
   "source": [
    "# https://adventofcode.com/2018/day/23\n",
    "\n",
    "data = open(\"23.txt\", \"r\") do file\n",
    "    file |> readlines .|> function(line)\n",
    "        caps = match(r\"pos=<(-?\\d+),(-?\\d+),(-?\\d+)>, r=(\\d+)\", line).captures\n",
    "        parse.(Int, caps)\n",
    "    end\n",
    "end\n",
    "\n",
    "function distance(a, b)\n",
    "    abs.(a .- b)[1:end - 1] |> sum\n",
    "end\n"
   ]
  },
  {
   "cell_type": "code",
   "execution_count": 35,
   "metadata": {
    "ExecuteTime": {
     "end_time": "2018-12-23T08:28:43.413000-05:00",
     "start_time": "2018-12-23T13:28:43.341Z"
    }
   },
   "outputs": [
    {
     "data": {
      "text/plain": [
       "652"
      ]
     },
     "execution_count": 35,
     "metadata": {},
     "output_type": "execute_result"
    }
   ],
   "source": [
    "# part 1\n",
    "\n",
    "strong = maximum((x[4], x) for x in data)[2]\n",
    "[d for d in data if distance(strong, d) <= strong[4]] |> length\n"
   ]
  },
  {
   "cell_type": "code",
   "execution_count": null,
   "metadata": {
    "ExecuteTime": {
     "end_time": "2018-12-23T08:44:41.157000-05:00",
     "start_time": "2018-12-23T13:42:48.719Z"
    }
   },
   "outputs": [],
   "source": [
    "# part 2\n",
    "\n",
    "function neighbors(point)\n",
    "    x, y, z, r = point\n",
    "    [(i, j, k) \n",
    "     for i in x - r:x + r, j in y - r:y + r, k in z - r:z + r\n",
    "     if 0 < distance((i, j, k, 0), point) <= r]\n",
    "end\n",
    "\n",
    "#minp = [minimum(d[i] for d in data) for i in 1:3]\n",
    "#maxp = [maximum(d[i] for d in data) for i in 1:3]\n",
    "\n",
    "#neighbors([0, 0, 0, 4]) |> sort\n",
    "            \n",
    "[n for d in data for n in neighbors(d)] |> length\n"
   ]
  },
  {
   "cell_type": "code",
   "execution_count": null,
   "metadata": {},
   "outputs": [],
   "source": []
  }
 ],
 "metadata": {
  "kernelspec": {
   "display_name": "Julia 1.0.2",
   "language": "julia",
   "name": "julia-1.0"
  },
  "language_info": {
   "file_extension": ".jl",
   "mimetype": "application/julia",
   "name": "julia",
   "version": "1.0.0"
  },
  "toc": {
   "base_numbering": 1,
   "nav_menu": {},
   "number_sections": true,
   "sideBar": true,
   "skip_h1_title": false,
   "title_cell": "Table of Contents",
   "title_sidebar": "Contents",
   "toc_cell": false,
   "toc_position": {},
   "toc_section_display": true,
   "toc_window_display": false
  }
 },
 "nbformat": 4,
 "nbformat_minor": 2
}
