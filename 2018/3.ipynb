{
 "cells": [
  {
   "cell_type": "code",
   "execution_count": null,
   "metadata": {
    "ExecuteTime": {
     "end_time": "2018-12-03T12:26:58.388000-05:00",
     "start_time": "2018-12-03T17:26:55.343Z"
    }
   },
   "outputs": [],
   "source": [
    "# https://adventofcode.com/2018/day/3\n",
    "\n",
    "struct Claim\n",
    "    id::String\n",
    "    left::Int\n",
    "    top::Int\n",
    "    width::Int\n",
    "    height::Int\n",
    "end\n",
    "\n",
    "\" parse a claim string into a struct \"\n",
    "function Claim(formatted::String)\n",
    "    cap = match(r\"#(\\d+) @ (\\d+),(\\d+): (\\d+)x(\\d+)\", formatted).captures\n",
    "    Claim(cap[1], [parse(Int, c) for c in cap[2:end]]...)\n",
    "end\n",
    "\n",
    "\" test a claim rectangle for empty \"\n",
    "isempty(c::Claim) = c.width == 0 || c.height == 0\n",
    "\n",
    "\" calculate a sparse claim rectangle intersection \"\n",
    "function intersect(c1::Claim, c2::Claim)\n",
    "    l = max(c1.left, c2.left)\n",
    "    t = max(c1.top, c2.top)\n",
    "    r = min(c1.left + c1.width, c2.left + c2.width)\n",
    "    b = min(c1.top + c1.height, c2.top + c2.height)\n",
    "    Claim(\"$(c1.id)∩$(c2.id)\", l, t, max(r - l, 0), max(b - t, 0))\n",
    "end\n",
    "\n",
    "\" calculate a dense claim rectangle union \"\n",
    "function union!(u::BitArray, c::Claim)\n",
    "    for i in c.left + 1:c.left + c.width, j in c.top + 1:c.top + c.height\n",
    "        u[i, j] = true\n",
    "    end\n",
    "    u\n",
    "end\n",
    "\n",
    "data = open(\"3.txt\") do file\n",
    "    readlines(file) .|> Claim\n",
    "end\n"
   ]
  },
  {
   "cell_type": "code",
   "execution_count": 4,
   "metadata": {
    "ExecuteTime": {
     "end_time": "2018-12-03T12:27:03.651000-05:00",
     "start_time": "2018-12-03T17:27:03.302Z"
    }
   },
   "outputs": [
    {
     "data": {
      "text/plain": [
       "109143"
      ]
     },
     "execution_count": 4,
     "metadata": {},
     "output_type": "execute_result"
    }
   ],
   "source": [
    "# calculate all intersections and reduce them into a non-overlapping union\n",
    "intersections = (intersect(x, y)\n",
    "                 for (i, x) in enumerate(data)\n",
    "                 for y in data[i + 1:end])\n",
    "            \n",
    "area = reduce(union!, \n",
    "              intersections, \n",
    "              init=falses(1000, 1000)) |> sum\n"
   ]
  },
  {
   "cell_type": "code",
   "execution_count": 5,
   "metadata": {
    "ExecuteTime": {
     "end_time": "2018-12-03T12:27:04.669000-05:00",
     "start_time": "2018-12-03T17:27:04.414Z"
    }
   },
   "outputs": [
    {
     "data": {
      "text/plain": [
       "Claim(\"506\", 261, 102, 10, 27)"
      ]
     },
     "execution_count": 5,
     "metadata": {},
     "output_type": "execute_result"
    }
   ],
   "source": [
    "# find the first claim with empty intersections for all others\n",
    "disjoint = (x for x in data\n",
    "            if all(isempty(intersect(x, y))\n",
    "                   for y in data if x != y)) |> first\n"
   ]
  },
  {
   "cell_type": "code",
   "execution_count": null,
   "metadata": {},
   "outputs": [],
   "source": []
  }
 ],
 "metadata": {
  "kernelspec": {
   "display_name": "Julia 1.0.2",
   "language": "julia",
   "name": "julia-1.0"
  },
  "language_info": {
   "file_extension": ".jl",
   "mimetype": "application/julia",
   "name": "julia",
   "version": "1.0.0"
  },
  "toc": {
   "base_numbering": 1,
   "nav_menu": {},
   "number_sections": true,
   "sideBar": true,
   "skip_h1_title": false,
   "title_cell": "Table of Contents",
   "title_sidebar": "Contents",
   "toc_cell": false,
   "toc_position": {},
   "toc_section_display": true,
   "toc_window_display": false
  }
 },
 "nbformat": 4,
 "nbformat_minor": 2
}
