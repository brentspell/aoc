{
 "cells": [
  {
   "cell_type": "code",
   "execution_count": 96,
   "metadata": {
    "ExecuteTime": {
     "end_time": "2018-12-04T09:35:52.681000-05:00",
     "start_time": "2018-12-04T14:35:52.632Z"
    }
   },
   "outputs": [],
   "source": [
    "# https://adventofcode.com/2018/day/4\n",
    "\n",
    "data = open(\"4.txt\") do file\n",
    "    readlines(file) |> sort\n",
    "end\n",
    "\n",
    "db = Dict()\n",
    "\n",
    "for line in data\n",
    "    global db, guard\n",
    "    \n",
    "    hour, minute, msg = match(r\"\\[.{11}(\\d\\d):(\\d\\d)\\] (.*)\", line).captures\n",
    "    minute = parse(Int, minute)\n",
    "    \n",
    "    if msg == \"falls asleep\"\n",
    "        db[guard][minute + 1:end] .+= 1\n",
    "    elseif msg == \"wakes up\"\n",
    "        db[guard][minute + 1:end] .-= 1\n",
    "    else        \n",
    "        guard = match(r\"Guard #(\\d+) begins shift\", msg).captures[1]\n",
    "        guard = parse(Int, guard)\n",
    "        db[guard] = get(db, guard, zeros(60))\n",
    "    end\n",
    "end\n"
   ]
  },
  {
   "cell_type": "code",
   "execution_count": 97,
   "metadata": {
    "ExecuteTime": {
     "end_time": "2018-12-04T09:35:53.460000-05:00",
     "start_time": "2018-12-04T14:35:53.385Z"
    }
   },
   "outputs": [
    {
     "data": {
      "text/plain": [
       "104764"
      ]
     },
     "execution_count": 97,
     "metadata": {},
     "output_type": "execute_result"
    }
   ],
   "source": [
    "id = argmax(Dict(g => sum(t) for (g, t) in db))\n",
    "minute = argmax(db[id]) - 1\n",
    "\n",
    "id * minute\n"
   ]
  },
  {
   "cell_type": "code",
   "execution_count": 98,
   "metadata": {
    "ExecuteTime": {
     "end_time": "2018-12-04T09:35:53.941000-05:00",
     "start_time": "2018-12-04T14:35:53.873Z"
    }
   },
   "outputs": [
    {
     "data": {
      "text/plain": [
       "128617"
      ]
     },
     "execution_count": 98,
     "metadata": {},
     "output_type": "execute_result"
    }
   ],
   "source": [
    "id = argmax(Dict(g => maximum(t) for (g, t) in db))\n",
    "minute = argmax(db[id]) - 1\n",
    "\n",
    "id * minute\n"
   ]
  },
  {
   "cell_type": "code",
   "execution_count": null,
   "metadata": {},
   "outputs": [],
   "source": []
  }
 ],
 "metadata": {
  "kernelspec": {
   "display_name": "Julia 1.0.2",
   "language": "julia",
   "name": "julia-1.0"
  },
  "language_info": {
   "file_extension": ".jl",
   "mimetype": "application/julia",
   "name": "julia",
   "version": "1.0.0"
  },
  "toc": {
   "base_numbering": 1,
   "nav_menu": {},
   "number_sections": true,
   "sideBar": true,
   "skip_h1_title": false,
   "title_cell": "Table of Contents",
   "title_sidebar": "Contents",
   "toc_cell": false,
   "toc_position": {},
   "toc_section_display": true,
   "toc_window_display": false
  }
 },
 "nbformat": 4,
 "nbformat_minor": 2
}
