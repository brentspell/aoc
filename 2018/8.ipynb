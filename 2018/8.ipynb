{
 "cells": [
  {
   "cell_type": "code",
   "execution_count": null,
   "metadata": {
    "ExecuteTime": {
     "end_time": "2018-12-08T08:24:23.605000-05:00",
     "start_time": "2018-12-08T13:24:23.539Z"
    }
   },
   "outputs": [],
   "source": [
    "# https://adventofcode.com/2018/day/8\n",
    "\n",
    "data = open(\"8.txt\") do file\n",
    "    read(file, String) |> x -> split(x, \" \") .|> x -> parse(Int, x)\n",
    "end\n"
   ]
  },
  {
   "cell_type": "code",
   "execution_count": 54,
   "metadata": {
    "ExecuteTime": {
     "end_time": "2018-12-08T08:45:28.465000-05:00",
     "start_time": "2018-12-08T13:45:28.358Z"
    }
   },
   "outputs": [
    {
     "data": {
      "text/plain": [
       "36307"
      ]
     },
     "execution_count": 54,
     "metadata": {},
     "output_type": "execute_result"
    }
   ],
   "source": [
    "function metasum(data)\n",
    "    childlen = data[1]\n",
    "    metalen = data[2]\n",
    "    offset = 3\n",
    "    checksum = 0\n",
    "    \n",
    "    # compute child sums and advance the vector offset\n",
    "    for i in 1:childlen\n",
    "        clen, csum = metasum(data[offset:end])\n",
    "        offset += clen\n",
    "        checksum += csum\n",
    "    end\n",
    "    \n",
    "    # compute the parent sum at the current offset\n",
    "    metadata = data[offset:(offset += metalen - 1)]\n",
    "    checksum += sum(metadata)\n",
    "    \n",
    "    return offset, checksum\n",
    "end\n",
    "\n",
    "metasum(data)[2]\n"
   ]
  },
  {
   "cell_type": "code",
   "execution_count": 55,
   "metadata": {
    "ExecuteTime": {
     "end_time": "2018-12-08T08:45:34.565000-05:00",
     "start_time": "2018-12-08T13:45:34.318Z"
    }
   },
   "outputs": [
    {
     "data": {
      "text/plain": [
       "25154"
      ]
     },
     "execution_count": 55,
     "metadata": {},
     "output_type": "execute_result"
    }
   ],
   "source": [
    "function metasum(data)\n",
    "    childlen = data[1]\n",
    "    metalen = data[2]\n",
    "    offset = 3\n",
    "\n",
    "    # compute child sums and advance the vector offset\n",
    "    childsum = zeros(Int, childlen)\n",
    "    for i in 1:childlen\n",
    "        clen, csum = metasum(data[offset:end])\n",
    "        offset += clen\n",
    "        childsum[i] = csum\n",
    "    end\n",
    "\n",
    "    # compute the parent sum\n",
    "    # . if no children, this is just the old metadata sum\n",
    "    # . otherwise, the metadata vector contains non-unique, \n",
    "    #   possibly invalid, indices into the per-child sums\n",
    "    metadata = data[offset:(offset += metalen - 1)]\n",
    "    if childlen == 0\n",
    "        checksum = sum(metadata)\n",
    "    else\n",
    "        metadata = [i for i in metadata if i in 1:childlen]\n",
    "        checksum = sum(childsum[metadata])\n",
    "    end\n",
    "    \n",
    "    return offset, checksum\n",
    "end\n",
    "\n",
    "metasum(data)[2]\n"
   ]
  },
  {
   "cell_type": "code",
   "execution_count": null,
   "metadata": {},
   "outputs": [],
   "source": []
  }
 ],
 "metadata": {
  "kernelspec": {
   "display_name": "Julia 1.0.2",
   "language": "julia",
   "name": "julia-1.0"
  },
  "language_info": {
   "file_extension": ".jl",
   "mimetype": "application/julia",
   "name": "julia",
   "version": "1.0.0"
  },
  "toc": {
   "base_numbering": 1,
   "nav_menu": {},
   "number_sections": true,
   "sideBar": true,
   "skip_h1_title": false,
   "title_cell": "Table of Contents",
   "title_sidebar": "Contents",
   "toc_cell": false,
   "toc_position": {},
   "toc_section_display": true,
   "toc_window_display": false
  }
 },
 "nbformat": 4,
 "nbformat_minor": 2
}
