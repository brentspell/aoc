{
 "cells": [
  {
   "cell_type": "code",
   "execution_count": null,
   "metadata": {
    "ExecuteTime": {
     "end_time": "2018-12-05T17:26:00.102000-05:00",
     "start_time": "2018-12-05T22:26:00.046Z"
    }
   },
   "outputs": [],
   "source": [
    "# https://adventofcode.com/2018/day/5\n",
    "\n",
    "data = open(\"5.txt\") do file\n",
    "    readlines(file)[1] |> collect\n",
    "end\n"
   ]
  },
  {
   "cell_type": "code",
   "execution_count": 18,
   "metadata": {
    "ExecuteTime": {
     "end_time": "2018-12-05T17:26:00.400000-05:00",
     "start_time": "2018-12-05T22:26:00.364Z"
    }
   },
   "outputs": [
    {
     "data": {
      "text/plain": [
       "annihilate (generic function with 1 method)"
      ]
     },
     "execution_count": 18,
     "metadata": {},
     "output_type": "execute_result"
    }
   ],
   "source": [
    "function annihilate(polymer)\n",
    "    s = []\n",
    "    for d in polymer\n",
    "        if s != [] && s[end] != d && lowercase(s[end]) == lowercase(d)\n",
    "            pop!(s)\n",
    "        else\n",
    "            push!(s, d)\n",
    "        end\n",
    "    end\n",
    "    return s\n",
    "end\n"
   ]
  },
  {
   "cell_type": "code",
   "execution_count": 19,
   "metadata": {
    "ExecuteTime": {
     "end_time": "2018-12-05T17:26:01.252000-05:00",
     "start_time": "2018-12-05T22:26:01.222Z"
    }
   },
   "outputs": [
    {
     "data": {
      "text/plain": [
       "11590"
      ]
     },
     "execution_count": 19,
     "metadata": {},
     "output_type": "execute_result"
    }
   ],
   "source": [
    "data |> annihilate |> length\n"
   ]
  },
  {
   "cell_type": "code",
   "execution_count": 20,
   "metadata": {
    "ExecuteTime": {
     "end_time": "2018-12-05T17:26:02.181000-05:00",
     "start_time": "2018-12-05T22:26:02.005Z"
    }
   },
   "outputs": [
    {
     "data": {
      "text/plain": [
       "4504"
      ]
     },
     "execution_count": 20,
     "metadata": {},
     "output_type": "execute_result"
    }
   ],
   "source": [
    "minimum(data[lowercase.(data) .!= u] |> annihilate |> length \n",
    "        for u in data .|> lowercase |> unique)\n"
   ]
  },
  {
   "cell_type": "code",
   "execution_count": null,
   "metadata": {},
   "outputs": [],
   "source": []
  }
 ],
 "metadata": {
  "kernelspec": {
   "display_name": "Julia 1.0.2",
   "language": "julia",
   "name": "julia-1.0"
  },
  "language_info": {
   "file_extension": ".jl",
   "mimetype": "application/julia",
   "name": "julia",
   "version": "1.0.0"
  },
  "toc": {
   "base_numbering": 1,
   "nav_menu": {},
   "number_sections": true,
   "sideBar": true,
   "skip_h1_title": false,
   "title_cell": "Table of Contents",
   "title_sidebar": "Contents",
   "toc_cell": false,
   "toc_position": {},
   "toc_section_display": true,
   "toc_window_display": false
  }
 },
 "nbformat": 4,
 "nbformat_minor": 2
}
