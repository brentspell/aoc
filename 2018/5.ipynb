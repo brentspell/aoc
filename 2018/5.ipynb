{
 "cells": [
  {
   "cell_type": "code",
   "execution_count": null,
   "metadata": {
    "ExecuteTime": {
     "end_time": "2018-12-05T10:38:43.711000-05:00",
     "start_time": "2018-12-05T15:38:43.520Z"
    }
   },
   "outputs": [],
   "source": [
    "# https://adventofcode.com/2018/day/5\n",
    "\n",
    "data = open(\"5.txt\") do file\n",
    "    readlines(file)[1] |> collect\n",
    "end\n"
   ]
  },
  {
   "cell_type": "code",
   "execution_count": 4,
   "metadata": {
    "ExecuteTime": {
     "end_time": "2018-12-05T10:38:45.249000-05:00",
     "start_time": "2018-12-05T15:38:44.769Z"
    }
   },
   "outputs": [
    {
     "data": {
      "text/plain": [
       "annihilate (generic function with 1 method)"
      ]
     },
     "execution_count": 4,
     "metadata": {},
     "output_type": "execute_result"
    }
   ],
   "source": [
    "function annihilate(polymer)\n",
    "    l = []\n",
    "    r = polymer\n",
    "    while r != []   # no TCO, SAD!\n",
    "        if l == []\n",
    "            # annihilated all from l, start over\n",
    "            l = r[1:1]\n",
    "            r = r[2:end]\n",
    "        elseif l[end] != r[1] && lowercase(l[end]) == lowercase(r[1])\n",
    "            # annihilate the tail from l, head from r\n",
    "            l = l[1:end - 1]\n",
    "            r = r[2:end]\n",
    "        else\n",
    "            # no annihilation, vcat head of r to l\n",
    "            l = [l; r[1:1]]\n",
    "            r = r[2:end]\n",
    "        end\n",
    "    end\n",
    "    return l\n",
    "end\n"
   ]
  },
  {
   "cell_type": "code",
   "execution_count": 5,
   "metadata": {
    "ExecuteTime": {
     "end_time": "2018-12-05T10:38:50.307000-05:00",
     "start_time": "2018-12-05T15:38:47.319Z"
    }
   },
   "outputs": [
    {
     "data": {
      "text/plain": [
       "11590"
      ]
     },
     "execution_count": 5,
     "metadata": {},
     "output_type": "execute_result"
    }
   ],
   "source": [
    "data |> annihilate |> length\n"
   ]
  },
  {
   "cell_type": "code",
   "execution_count": 13,
   "metadata": {
    "ExecuteTime": {
     "end_time": "2018-12-05T10:43:01.490000-05:00",
     "start_time": "2018-12-05T15:42:09.817Z"
    }
   },
   "outputs": [
    {
     "data": {
      "text/plain": [
       "4504"
      ]
     },
     "execution_count": 13,
     "metadata": {},
     "output_type": "execute_result"
    }
   ],
   "source": [
    "minimum(data[lowercase.(data) .!= u] |> annihilate |> length \n",
    "        for u in data .|> lowercase |> unique)\n"
   ]
  },
  {
   "cell_type": "code",
   "execution_count": null,
   "metadata": {},
   "outputs": [],
   "source": []
  }
 ],
 "metadata": {
  "kernelspec": {
   "display_name": "Julia 1.0.2",
   "language": "julia",
   "name": "julia-1.0"
  },
  "language_info": {
   "file_extension": ".jl",
   "mimetype": "application/julia",
   "name": "julia",
   "version": "1.0.0"
  },
  "toc": {
   "base_numbering": 1,
   "nav_menu": {},
   "number_sections": true,
   "sideBar": true,
   "skip_h1_title": false,
   "title_cell": "Table of Contents",
   "title_sidebar": "Contents",
   "toc_cell": false,
   "toc_position": {},
   "toc_section_display": true,
   "toc_window_display": false
  }
 },
 "nbformat": 4,
 "nbformat_minor": 2
}
