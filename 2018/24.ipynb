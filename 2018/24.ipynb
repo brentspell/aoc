{
 "cells": [
  {
   "cell_type": "code",
   "execution_count": null,
   "metadata": {
    "ExecuteTime": {
     "end_time": "2018-12-24T17:07:07.349000-05:00",
     "start_time": "2018-12-24T22:07:00.409Z"
    }
   },
   "outputs": [],
   "source": [
    "# https://adventofcode.com/2018/day/24\n",
    "\n",
    "import Base.parse\n",
    "\n",
    "mutable struct Group\n",
    "    race::Symbol\n",
    "    units::Int\n",
    "    hp::Int\n",
    "    ap::Int\n",
    "    ip::Int\n",
    "    attack::Symbol\n",
    "    immunity::Set{Symbol}\n",
    "    weakness::Set{Symbol}\n",
    "end\n",
    "\n",
    "function parse(::Type{T}, race::String, line::String) where T<:Group\n",
    "    regex = r\"(\\d+) units each with (\\d+) hit points \\(?(.*?)\\)? ?with an attack that does (\\d+) (\\w+) damage at initiative (\\d+)\"\n",
    "    units, hp, immuweak, ap, attack, ip = match(regex, line).captures\n",
    "    \n",
    "    immunity = if occursin(\"immune\", immuweak)\n",
    "        split(match(r\"immune to ([^;]+)\", immuweak).captures[1], \", \")\n",
    "        else [] end\n",
    "\n",
    "    weakness = if occursin(\"weak\", immuweak)\n",
    "        split(match(r\"weak to ([^;]+)\", immuweak).captures[1], \", \")\n",
    "        else [] end\n",
    "    \n",
    "    Group(Symbol(replace(race, r\"[ :]\"=>\"\")),\n",
    "          parse(Int, units),\n",
    "          parse(Int, hp),\n",
    "          parse(Int, ap),\n",
    "          parse(Int, ip),\n",
    "          Symbol(attack),\n",
    "          Set(Symbol.(immunity)),\n",
    "          Set(Symbol.(weakness)))\n",
    "end\n",
    "\n",
    "data = open(\"24.txt\", \"r\") do file\n",
    "    groups = []\n",
    "    for _ in 1:2\n",
    "        race = readline(file)\n",
    "        while true\n",
    "            line = readline(file)\n",
    "            if line == \"\" break end\n",
    "            push!(groups, parse(Group, race, line))\n",
    "        end\n",
    "    end\n",
    "    groups\n",
    "end\n"
   ]
  },
  {
   "cell_type": "code",
   "execution_count": 21,
   "metadata": {
    "ExecuteTime": {
     "end_time": "2018-12-24T17:14:17.738000-05:00",
     "start_time": "2018-12-24T22:14:16.811Z"
    }
   },
   "outputs": [
    {
     "data": {
      "text/plain": [
       "20340"
      ]
     },
     "execution_count": 21,
     "metadata": {},
     "output_type": "execute_result"
    }
   ],
   "source": [
    "# part 1\n",
    "\n",
    "power(g) = g.units * g.ap\n",
    "\n",
    "damage(a, d) = \n",
    "    if a.attack in d.immunity\n",
    "        0\n",
    "    elseif a.attack in d.weakness\n",
    "        2 * power(a)\n",
    "    else\n",
    "        power(a)\n",
    "    end\n",
    "\n",
    "function simulate(groups)\n",
    "    groups = deepcopy(groups)\n",
    "    while length(unique(g.race for g in groups)) > 1\n",
    "        # planning\n",
    "        sort!(groups, by=g -> (power(g), g.ip), rev=true)\n",
    "        targets = Dict()\n",
    "        for a in groups\n",
    "            d = sort([d for d in groups\n",
    "                      if d.race != a.race\n",
    "                         && damage(a, d) != 0\n",
    "                         && d ∉ values(targets)],\n",
    "                     by=d->(damage(a, d), power(d), d.ip),\n",
    "                     rev=true)\n",
    "            if !isempty(d)\n",
    "                targets[a] = d[1]\n",
    "            end\n",
    "        end\n",
    "\n",
    "        # attack\n",
    "        sort!(groups, by=g->g.ip, rev=true)\n",
    "        stalemate = true\n",
    "        for a in groups\n",
    "            if haskey(targets, a)\n",
    "                d = targets[a]\n",
    "                k = div(damage(a, d), d.hp)\n",
    "                if a.units > 0 && k > 0\n",
    "                    d.units -= k\n",
    "                    stalemate = false\n",
    "                end\n",
    "            end\n",
    "        end\n",
    "\n",
    "        # resolution\n",
    "        if stalemate break end\n",
    "        filter!(g->g.units > 0, groups)\n",
    "    end\n",
    "\n",
    "    return groups\n",
    "end\n",
    "                \n",
    "sum(g.units for g in simulate(data))\n"
   ]
  },
  {
   "cell_type": "code",
   "execution_count": 24,
   "metadata": {
    "ExecuteTime": {
     "end_time": "2018-12-24T17:14:49.216000-05:00",
     "start_time": "2018-12-24T22:14:47.570Z"
    }
   },
   "outputs": [
    {
     "data": {
      "text/plain": [
       "3862"
      ]
     },
     "execution_count": 24,
     "metadata": {},
     "output_type": "execute_result"
    }
   ],
   "source": [
    "# part 2\n",
    "\n",
    "function simulate(groups, boost)\n",
    "    groups = deepcopy(groups)\n",
    "    for g in groups\n",
    "        if g.race == :ImmuneSystem g.ap += boost end\n",
    "    end\n",
    "    simulate(groups)\n",
    "end\n",
    "\n",
    "# bisect to find high end successful boost\n",
    "boost = 1\n",
    "while true\n",
    "    groups = simulate(data, boost)\n",
    "    if unique(g.race for g in groups) == [:ImmuneSystem] break end\n",
    "    boost *= 2\n",
    "end\n",
    "\n",
    "# linear search to find low end successful boost\n",
    "boost = div(boost, 2)\n",
    "while true\n",
    "    boost += 1\n",
    "    groups = simulate(data, boost)\n",
    "    if unique(g.race for g in groups) == [:ImmuneSystem] break end\n",
    "end\n",
    "\n",
    "sum(g.units for g in simulate(data, boost))\n"
   ]
  },
  {
   "cell_type": "code",
   "execution_count": null,
   "metadata": {},
   "outputs": [],
   "source": []
  }
 ],
 "metadata": {
  "kernelspec": {
   "display_name": "Julia 1.0.2",
   "language": "julia",
   "name": "julia-1.0"
  },
  "language_info": {
   "file_extension": ".jl",
   "mimetype": "application/julia",
   "name": "julia",
   "version": "1.0.0"
  },
  "toc": {
   "base_numbering": 1,
   "nav_menu": {},
   "number_sections": true,
   "sideBar": true,
   "skip_h1_title": false,
   "title_cell": "Table of Contents",
   "title_sidebar": "Contents",
   "toc_cell": false,
   "toc_position": {},
   "toc_section_display": true,
   "toc_window_display": false
  }
 },
 "nbformat": 4,
 "nbformat_minor": 2
}
