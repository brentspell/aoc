{
 "cells": [
  {
   "cell_type": "code",
   "execution_count": null,
   "metadata": {
    "ExecuteTime": {
     "end_time": "2018-12-07T15:11:35.972000-05:00",
     "start_time": "2018-12-07T20:11:35.872Z"
    }
   },
   "outputs": [],
   "source": [
    "# https://adventofcode.com/2018/day/7\n",
    "\n",
    "function parse(line ::String)\n",
    "    caps = match(r\"Step (.) must be finished before step (.) can begin.\", line).captures\n",
    "    caps[1][1], caps[2][1]\n",
    "end\n",
    "    \n",
    "data = open(\"7.txt\") do file\n",
    "    readlines(file) .|> parse\n",
    "end\n"
   ]
  },
  {
   "cell_type": "code",
   "execution_count": 134,
   "metadata": {
    "ExecuteTime": {
     "end_time": "2018-12-07T15:11:36.482000-05:00",
     "start_time": "2018-12-07T20:11:36.005Z"
    }
   },
   "outputs": [
    {
     "data": {
      "text/plain": [
       "\"BCEFLDMQTXHZGKIASVJYORPUWN\""
      ]
     },
     "execution_count": 134,
     "metadata": {},
     "output_type": "execute_result"
    }
   ],
   "source": [
    "nodes = vcat(collect.(data)...) |> Set\n",
    "edges = copy(data)\n",
    "sorts = []\n",
    "\n",
    "while !isempty(nodes)\n",
    "    node = minimum((n for n in nodes if n ∉ (e[2] for e in edges)))\n",
    "    delete!(nodes, node)\n",
    "    filter!(e -> e[1] != node, edges)\n",
    "    push!(sorts, node)\n",
    "end\n",
    "\n",
    "join(sorts)\n"
   ]
  },
  {
   "cell_type": "code",
   "execution_count": 144,
   "metadata": {
    "ExecuteTime": {
     "end_time": "2018-12-07T15:20:37.085000-05:00",
     "start_time": "2018-12-07T20:20:36.981Z"
    }
   },
   "outputs": [
    {
     "data": {
      "text/plain": [
       "987"
      ]
     },
     "execution_count": 144,
     "metadata": {},
     "output_type": "execute_result"
    }
   ],
   "source": [
    "const WORKERS = 5\n",
    "const BASEWORK = 60\n",
    "\n",
    "nodes = vcat(collect.(data)...) |> Set\n",
    "edges = copy(data)\n",
    "\n",
    "running = Dict()\n",
    "steps = 0\n",
    "\n",
    "while true\n",
    "    # find a next set of work items in the toposort, up to max parallelism\n",
    "    for node in sort([n for n in nodes if n ∉ (e[2] for e in edges)])\n",
    "        if !haskey(running, node) && length(running) < WORKERS\n",
    "            running[node] = BASEWORK + node - 'A' + 1\n",
    "        end\n",
    "    end\n",
    "                    \n",
    "    if isempty(running) \n",
    "        break\n",
    "    end\n",
    "\n",
    "    # advance the simulation by the minimum work that can be done\n",
    "    done = running |> values |> minimum\n",
    "    steps += done\n",
    "    for (node, todo) in running\n",
    "        running[node] = todo -= done\n",
    "        if todo == 0\n",
    "            delete!(running, node)\n",
    "            delete!(nodes, node)\n",
    "            filter!(e -> e[1] != node, edges)\n",
    "        end\n",
    "    end\n",
    "end\n",
    "\n",
    "steps\n"
   ]
  },
  {
   "cell_type": "code",
   "execution_count": null,
   "metadata": {},
   "outputs": [],
   "source": []
  }
 ],
 "metadata": {
  "kernelspec": {
   "display_name": "Julia 1.0.2",
   "language": "julia",
   "name": "julia-1.0"
  },
  "language_info": {
   "file_extension": ".jl",
   "mimetype": "application/julia",
   "name": "julia",
   "version": "1.0.0"
  },
  "toc": {
   "base_numbering": 1,
   "nav_menu": {},
   "number_sections": true,
   "sideBar": true,
   "skip_h1_title": false,
   "title_cell": "Table of Contents",
   "title_sidebar": "Contents",
   "toc_cell": false,
   "toc_position": {},
   "toc_section_display": true,
   "toc_window_display": false
  }
 },
 "nbformat": 4,
 "nbformat_minor": 2
}
