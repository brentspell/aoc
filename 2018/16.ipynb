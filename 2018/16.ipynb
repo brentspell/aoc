{
 "cells": [
  {
   "cell_type": "code",
   "execution_count": null,
   "metadata": {
    "ExecuteTime": {
     "end_time": "2018-12-16T09:58:21.608000-05:00",
     "start_time": "2018-12-16T14:58:21.183Z"
    }
   },
   "outputs": [],
   "source": [
    "# https://adventofcode.com/2018/day/16\n",
    "\n",
    "struct Example\n",
    "    before::Array{Int}\n",
    "    instruction::Array{Int}\n",
    "    after::Array{Int}\n",
    "    \n",
    "    function Example(lines::Array{String})\n",
    "        line1 = match(r\"Before: \\[(\\d+), (\\d+), (\\d+), (\\d+)\\]\", lines[1]).captures\n",
    "        line2 = match(r\"(\\d+) (\\d+) (\\d+) (\\d+)\", lines[2]).captures\n",
    "        line3 = match(r\"After:  \\[(\\d+), (\\d+), (\\d+), (\\d+)\\]\", lines[3]).captures\n",
    "        new(parse.(Int, line1), parse.(Int, line2), parse.(Int, line3))\n",
    "    end\n",
    "end\n",
    "\n",
    "examples, program = open(\"16.txt\", \"r\") do file\n",
    "    examples = []\n",
    "    while true\n",
    "        line1 = readline(file)\n",
    "        if line1 == \"\" break end\n",
    "        lines = [readline(file) for _ in 1:3]\n",
    "        examples = [examples; Example([[line1]; lines])]\n",
    "    end\n",
    "    \n",
    "    readline(file)\n",
    "    \n",
    "    program = readlines(file) .|> split .|> l -> parse.(Int, l)\n",
    "    \n",
    "    examples, program\n",
    "end\n"
   ]
  },
  {
   "cell_type": "code",
   "execution_count": 7,
   "metadata": {
    "ExecuteTime": {
     "end_time": "2018-12-16T09:58:48.564000-05:00",
     "start_time": "2018-12-16T14:58:48.350Z"
    }
   },
   "outputs": [
    {
     "data": {
      "text/plain": [
       "16-element Array{Function,1}:\n",
       " addr\n",
       " addi\n",
       " mulr\n",
       " muli\n",
       " banr\n",
       " bani\n",
       " borr\n",
       " bori\n",
       " setr\n",
       " seti\n",
       " gtir\n",
       " gtri\n",
       " gtrr\n",
       " eqir\n",
       " eqri\n",
       " eqrr"
      ]
     },
     "execution_count": 7,
     "metadata": {},
     "output_type": "execute_result"
    }
   ],
   "source": [
    "addr(r, a, b, c) = (r = copy(r); r[c + 1] = r[a + 1] + r[b + 1]; r)\n",
    "addi(r, a, b, c) = (r = copy(r); r[c + 1] = r[a + 1] + b; r)\n",
    "mulr(r, a, b, c) = (r = copy(r); r[c + 1] = r[a + 1] * r[b + 1]; r)\n",
    "muli(r, a, b, c) = (r = copy(r); r[c + 1] = r[a + 1] * b; r)\n",
    "banr(r, a, b, c) = (r = copy(r); r[c + 1] = r[a + 1] & r[b + 1]; r)\n",
    "bani(r, a, b, c) = (r = copy(r); r[c + 1] = r[a + 1] & b; r)\n",
    "borr(r, a, b, c) = (r = copy(r); r[c + 1] = r[a + 1] | r[b + 1]; r)\n",
    "bori(r, a, b, c) = (r = copy(r); r[c + 1] = r[a + 1] | b; r)\n",
    "setr(r, a, b, c) = (r = copy(r); r[c + 1] = r[a + 1]; r)\n",
    "seti(r, a, b, c) = (r = copy(r); r[c + 1] = a; r)\n",
    "gtir(r, a, b, c) = (r = copy(r); r[c + 1] = a > r[b + 1]; r)\n",
    "gtri(r, a, b, c) = (r = copy(r); r[c + 1] = r[a + 1] > b; r)\n",
    "gtrr(r, a, b, c) = (r = copy(r); r[c + 1] = r[a + 1] > r[b + 1]; r)\n",
    "eqir(r, a, b, c) = (r = copy(r); r[c + 1] = a == r[b + 1]; r)\n",
    "eqri(r, a, b, c) = (r = copy(r); r[c + 1] = r[a + 1] == b; r)\n",
    "eqrr(r, a, b, c) = (r = copy(r); r[c + 1] = r[a + 1] == r[b + 1]; r)\n",
    "\n",
    "ops = [\n",
    "    addr, addi,\n",
    "    mulr, muli,\n",
    "    banr, bani,\n",
    "    borr, bori,\n",
    "    setr, seti,\n",
    "    gtir, gtri, gtrr,\n",
    "    eqir, eqri, eqrr,\n",
    "]\n"
   ]
  },
  {
   "cell_type": "code",
   "execution_count": 8,
   "metadata": {
    "ExecuteTime": {
     "end_time": "2018-12-16T09:58:50.957000-05:00",
     "start_time": "2018-12-16T14:58:50.406Z"
    }
   },
   "outputs": [
    {
     "data": {
      "text/plain": [
       "570"
      ]
     },
     "execution_count": 8,
     "metadata": {},
     "output_type": "execute_result"
    }
   ],
   "source": [
    "# part 1\n",
    "\n",
    "isvalid(e, o) = o(e.before, e.instruction[2:end]...) == e.after\n",
    "\n",
    "valid = [length([o for o in ops if isvalid(e, o)]) for e in examples]\n",
    "\n",
    "valid[valid .>= 3] |> length\n"
   ]
  },
  {
   "cell_type": "code",
   "execution_count": 9,
   "metadata": {
    "ExecuteTime": {
     "end_time": "2018-12-16T09:58:51.971000-05:00",
     "start_time": "2018-12-16T14:58:50.506Z"
    }
   },
   "outputs": [
    {
     "data": {
      "text/plain": [
       "503"
      ]
     },
     "execution_count": 9,
     "metadata": {},
     "output_type": "execute_result"
    }
   ],
   "source": [
    "# part 2\n",
    "\n",
    "valid = [copy(ops) for i in 1:length(ops)]\n",
    "\n",
    "# apply example constraints\n",
    "for example in examples\n",
    "    i = example.instruction[1] + 1\n",
    "    valid[i] = [v for v in valid[i] if isvalid(example, v)]\n",
    "end\n",
    "\n",
    "# reduce the valid sets based on exact matches\n",
    "while any(length.(valid) .> 1)\n",
    "    for i in 1:length(valid)\n",
    "        if length(valid[i]) == 1\n",
    "            done = valid[i][1]\n",
    "            for j in 1:length(valid)\n",
    "                if j != i && done in valid[j]\n",
    "                    valid[j] = [v for v in valid[j] if v != done]\n",
    "                end\n",
    "            end\n",
    "        end\n",
    "    end\n",
    "end\n",
    "                                            \n",
    "# run the example program\n",
    "valid = [v[1] for v in valid]\n",
    "registers = [0, 0, 0, 0]\n",
    "for instruction in program\n",
    "    registers = valid[instruction[1] + 1](registers, instruction[2:end]...)\n",
    "end\n",
    "\n",
    "registers[1]\n"
   ]
  },
  {
   "cell_type": "code",
   "execution_count": null,
   "metadata": {},
   "outputs": [],
   "source": []
  }
 ],
 "metadata": {
  "kernelspec": {
   "display_name": "Julia 1.0.2",
   "language": "julia",
   "name": "julia-1.0"
  },
  "language_info": {
   "file_extension": ".jl",
   "mimetype": "application/julia",
   "name": "julia",
   "version": "1.0.0"
  },
  "toc": {
   "base_numbering": 1,
   "nav_menu": {},
   "number_sections": true,
   "sideBar": true,
   "skip_h1_title": false,
   "title_cell": "Table of Contents",
   "title_sidebar": "Contents",
   "toc_cell": false,
   "toc_position": {},
   "toc_section_display": true,
   "toc_window_display": false
  }
 },
 "nbformat": 4,
 "nbformat_minor": 2
}
