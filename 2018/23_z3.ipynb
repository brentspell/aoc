{
 "cells": [
  {
   "cell_type": "code",
   "execution_count": 1,
   "metadata": {
    "ExecuteTime": {
     "end_time": "2018-12-24T01:13:10.123634Z",
     "start_time": "2018-12-24T01:13:10.111269Z"
    }
   },
   "outputs": [],
   "source": [
    "import re\n",
    "\n",
    "data = []\n",
    "with open('23.txt', 'r') as f:\n",
    "    for line in f:\n",
    "        caps = re.match(r'pos=<(-?\\d+),(-?\\d+),(-?\\d+)>, r=(\\d+)', line).groups()\n",
    "        data.append([int(x) for x in caps])\n",
    "\n",
    "# the desired point must be within the extrema for each dimension\n",
    "minx, maxx = min(d[0] for d in data), max(d[0] for d in data)\n",
    "miny, maxy = min(d[1] for d in data), max(d[1] for d in data)\n",
    "minz, maxz = min(d[2] for d in data), max(d[2] for d in data)\n"
   ]
  },
  {
   "cell_type": "code",
   "execution_count": 16,
   "metadata": {
    "ExecuteTime": {
     "end_time": "2018-12-24T01:21:24.040565Z",
     "start_time": "2018-12-24T01:20:26.981974Z"
    }
   },
   "outputs": [
    {
     "data": {
      "text/plain": [
       "164960498"
      ]
     },
     "execution_count": 16,
     "metadata": {},
     "output_type": "execute_result"
    }
   ],
   "source": [
    "import z3\n",
    "\n",
    "def Abs(v):\n",
    "    return z3.If(v >= 0, v, -v)\n",
    "\n",
    "def Distance(p1, p2):\n",
    "    x1, y1, z1 = p1\n",
    "    x2, y2, z2 = p2\n",
    "    return Abs(x2 - x1) + Abs(y2 - y1) + Abs(z2 - z1)\n",
    "\n",
    "def BoolToInt(b):\n",
    "    return z3.If(b, 1, 0)\n",
    "\n",
    "o = z3.Optimize()\n",
    "\n",
    "# optimizer variables\n",
    "x = z3.Int('x')\n",
    "y = z3.Int('y')\n",
    "z = z3.Int('z')\n",
    "\n",
    "# optimizer constraints\n",
    "o.add(x >= minx, x <= maxx)\n",
    "o.add(y >= miny, y <= maxy)\n",
    "o.add(z >= minz, z <= maxz)\n",
    "\n",
    "# optimizer goal\n",
    "# find the count of points whose radius is within the target point\n",
    "o.maximize(sum(BoolToInt(Distance((x, y, z), (a, b, c)) <= r)\n",
    "               for a, b, c, r in data))\n",
    "\n",
    "# run the optimizer and compute the solution distance from the origin\n",
    "o.check()\n",
    "m = o.model()\n",
    "sum(m[i].as_long() for i in m)\n"
   ]
  },
  {
   "cell_type": "code",
   "execution_count": null,
   "metadata": {},
   "outputs": [],
   "source": []
  }
 ],
 "metadata": {
  "kernelspec": {
   "display_name": "Python 3",
   "language": "python",
   "name": "python3"
  },
  "language_info": {
   "codemirror_mode": {
    "name": "ipython",
    "version": 3
   },
   "file_extension": ".py",
   "mimetype": "text/x-python",
   "name": "python",
   "nbconvert_exporter": "python",
   "pygments_lexer": "ipython3",
   "version": "3.7.0"
  },
  "toc": {
   "base_numbering": 1,
   "nav_menu": {},
   "number_sections": true,
   "sideBar": true,
   "skip_h1_title": false,
   "title_cell": "Table of Contents",
   "title_sidebar": "Contents",
   "toc_cell": false,
   "toc_position": {},
   "toc_section_display": true,
   "toc_window_display": false
  }
 },
 "nbformat": 4,
 "nbformat_minor": 2
}
