{
 "cells": [
  {
   "cell_type": "code",
   "execution_count": 15,
   "metadata": {
    "ExecuteTime": {
     "end_time": "2018-12-13T12:48:23.356000-05:00",
     "start_time": "2018-12-13T17:48:23.128Z"
    }
   },
   "outputs": [
    {
     "data": {
      "text/plain": [
       "tick (generic function with 1 method)"
      ]
     },
     "execution_count": 15,
     "metadata": {},
     "output_type": "execute_result"
    }
   ],
   "source": [
    "# https://adventofcode.com/2018/day/13\n",
    "\n",
    "data = hcat(open(\"13.txt\", \"r\") do file\n",
    "    readlines(file) .|> line -> [convert(Int, c) for c in line]\n",
    "end...)'\n",
    "\n",
    "const CARTU, CARTD, CARTL, CARTR = convert.(Int, collect(\"^v<>\"))\n",
    "const TRAKV, TRAKH, TRAKU, TRAKD, TRAKX = convert.(Int, collect(\"|-/\\\\+\"))\n",
    "\n",
    "function tick(cart)\n",
    "    (p, o, c) = cart\n",
    "    y, x = Tuple(p)\n",
    "    t = track[p]\n",
    "    if t == TRAKU\n",
    "        if o == CARTU\n",
    "            o = CARTR\n",
    "        elseif o == CARTD\n",
    "            o = CARTL\n",
    "        elseif o == CARTL\n",
    "            o = CARTD\n",
    "        elseif o == CARTR\n",
    "            o = CARTU\n",
    "        end\n",
    "    elseif t == TRAKD\n",
    "        if o == CARTU\n",
    "            o = CARTL\n",
    "        elseif o == CARTD\n",
    "            o = CARTR\n",
    "        elseif o == CARTL\n",
    "            o = CARTU\n",
    "        elseif o == CARTR\n",
    "            o = CARTD\n",
    "        end\n",
    "    elseif t == TRAKX\n",
    "        if o == CARTU && c == 0\n",
    "            o = CARTL\n",
    "        elseif o == CARTU && c == 2\n",
    "            o = CARTR\n",
    "        elseif o == CARTD && c == 0\n",
    "            o = CARTR\n",
    "        elseif o == CARTD && c == 2\n",
    "            o = CARTL\n",
    "        elseif o == CARTL && c == 0\n",
    "            o = CARTD\n",
    "        elseif o == CARTL && c == 2\n",
    "            o = CARTU\n",
    "        elseif o == CARTR && c == 0\n",
    "            o = CARTU\n",
    "        elseif o == CARTR && c == 2\n",
    "            o = CARTD\n",
    "        end\n",
    "        c = (c + 1) % 3\n",
    "    end\n",
    "\n",
    "    if o == CARTU\n",
    "        y -= 1\n",
    "    elseif o == CARTD\n",
    "        y += 1\n",
    "    elseif o == CARTL\n",
    "        x -= 1\n",
    "    elseif o == CARTR\n",
    "        x += 1\n",
    "    end\n",
    "    \n",
    "    return (CartesianIndex(y, x), o, c)\n",
    "end\n"
   ]
  },
  {
   "cell_type": "code",
   "execution_count": 16,
   "metadata": {
    "ExecuteTime": {
     "end_time": "2018-12-13T12:48:26.155000-05:00",
     "start_time": "2018-12-13T17:48:25.762Z"
    }
   },
   "outputs": [
    {
     "name": "stdout",
     "output_type": "stream",
     "text": [
      "80,100\n"
     ]
    }
   ],
   "source": [
    "# part 1\n",
    "\n",
    "track = copy(data)\n",
    "\n",
    "# convert the carts on the track into positions, orientations, and turn counters\n",
    "carts = [(p, track[p], 0) \n",
    "         for p in findall(t -> t in [CARTU, CARTD, CARTL, CARTR], track)]\n",
    "\n",
    "# remove the carts from the track\n",
    "track[[p for (p, o, c) in carts]] .= TRAKH\n",
    "\n",
    "while true\n",
    "    # find the first crash\n",
    "    carts = [tick(c) for c in sort(carts)]\n",
    "    crashes = [c1 for c1 in carts, c2 in carts\n",
    "               if c1 != c2 && c1[1] == c2[1]]\n",
    "    if !isempty(crashes)\n",
    "        y, x = Tuple(crashes[1][1]) .- 1\n",
    "        println(\"$x,$y\")\n",
    "        break\n",
    "    end\n",
    "end\n"
   ]
  },
  {
   "cell_type": "code",
   "execution_count": 26,
   "metadata": {
    "ExecuteTime": {
     "end_time": "2018-12-13T12:52:24.837000-05:00",
     "start_time": "2018-12-13T17:52:23.975Z"
    }
   },
   "outputs": [
    {
     "name": "stdout",
     "output_type": "stream",
     "text": [
      "16,99 \n"
     ]
    }
   ],
   "source": [
    "# part 2\n",
    "\n",
    "const WRECKED = (CartesianIndex(0, 0), 0, 0)\n",
    "\n",
    "track = copy(data)\n",
    "\n",
    "# convert the carts on the track into positions, orientations, and turn counters\n",
    "carts = [(p, track[p], 0) \n",
    "         for p in findall(t -> t in [CARTU, CARTD, CARTL, CARTR], track)]\n",
    "\n",
    "# remove the carts from the track\n",
    "track[[p for (p, o, c) in carts]] .= TRAKH\n",
    "\n",
    "while true\n",
    "    # find and remove all crashes\n",
    "    # . we must step through each cart, since a crash is removed\n",
    "    #   instantly from the track\n",
    "    # . mark crashed carts as WRECKED, so that we don't modify\n",
    "    #   the cart list while iterating\n",
    "    for i in 1:length(carts)\n",
    "        if carts[i] != WRECKED\n",
    "            carts[i] = tick(carts[i])\n",
    "            crash = [j for (j, c) in enumerate(carts) \n",
    "                     if i != j && carts[i][1] == carts[j][1]]\n",
    "            if !isempty(crash)\n",
    "                j = crash[1]\n",
    "                carts[i] = carts[j] = WRECKED\n",
    "            end\n",
    "        end\n",
    "    end\n",
    "    \n",
    "    # stop when one cart remains\n",
    "    carts = sort([c for c in carts if c != WRECKED])\n",
    "    if length(carts) == 1\n",
    "        y, x = Tuple(carts[1][1]) .- 1\n",
    "        println(\"$x,$y \")\n",
    "        break\n",
    "    end\n",
    "end\n"
   ]
  },
  {
   "cell_type": "code",
   "execution_count": null,
   "metadata": {},
   "outputs": [],
   "source": []
  }
 ],
 "metadata": {
  "kernelspec": {
   "display_name": "Julia 1.0.2",
   "language": "julia",
   "name": "julia-1.0"
  },
  "language_info": {
   "file_extension": ".jl",
   "mimetype": "application/julia",
   "name": "julia",
   "version": "1.0.0"
  },
  "toc": {
   "base_numbering": 1,
   "nav_menu": {},
   "number_sections": true,
   "sideBar": true,
   "skip_h1_title": false,
   "title_cell": "Table of Contents",
   "title_sidebar": "Contents",
   "toc_cell": false,
   "toc_position": {},
   "toc_section_display": true,
   "toc_window_display": false
  }
 },
 "nbformat": 4,
 "nbformat_minor": 2
}
