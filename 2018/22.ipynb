{
 "cells": [
  {
   "cell_type": "code",
   "execution_count": 1,
   "metadata": {
    "ExecuteTime": {
     "end_time": "2018-12-22T19:32:42.951000-05:00",
     "start_time": "2018-12-23T00:32:41.004Z"
    }
   },
   "outputs": [],
   "source": [
    "# https://adventofcode.com/2018/day/22\n",
    "\n",
    "using DataStructures\n",
    "using Memoize\n"
   ]
  },
  {
   "cell_type": "code",
   "execution_count": 2,
   "metadata": {
    "ExecuteTime": {
     "end_time": "2018-12-22T19:33:36.623000-05:00",
     "start_time": "2018-12-23T00:33:19.172Z"
    }
   },
   "outputs": [
    {
     "data": {
      "text/plain": [
       "6323"
      ]
     },
     "execution_count": 2,
     "metadata": {},
     "output_type": "execute_result"
    }
   ],
   "source": [
    "# part 1\n",
    "\n",
    "const DEPTH = 3879\n",
    "const TARGET = (8, 713) .+ 1\n",
    "const GRID = TARGET .+ 100     # pad the grid for off-grid movement\n",
    "\n",
    "const ROCKY = 0\n",
    "const WET = 1\n",
    "const NARROW = 2\n",
    "\n",
    "@memoize function geoindex(x, y)\n",
    "    if (x, y) == (1, 1) || (x, y) == TARGET\n",
    "        return 0\n",
    "    elseif y == 1\n",
    "        return (x - 1) * 16807\n",
    "    elseif x == 1\n",
    "        return (y - 1) * 48271\n",
    "    else\n",
    "        return prod((geoindex.([x, x - 1], [y - 1, y]) .+ DEPTH) .% 20183)\n",
    "    end\n",
    "end\n",
    "\n",
    "index = [geoindex(x, y) for x in 1:GRID[1], y in 1:GRID[2]]\n",
    "erosion = (index .+ DEPTH) .% 20183\n",
    "risk = erosion .% 3\n",
    "\n",
    "sum(risk[1:TARGET[1], 1:TARGET[2]])\n"
   ]
  },
  {
   "cell_type": "code",
   "execution_count": 3,
   "metadata": {
    "ExecuteTime": {
     "end_time": "2018-12-22T19:33:44.627000-05:00",
     "start_time": "2018-12-23T00:33:38.446Z"
    }
   },
   "outputs": [
    {
     "data": {
      "text/plain": [
       "982"
      ]
     },
     "execution_count": 3,
     "metadata": {},
     "output_type": "execute_result"
    }
   ],
   "source": [
    "# part 2\n",
    "\n",
    "const GEAR = 0\n",
    "const TORCH = 1\n",
    "const NEITHER = 2\n",
    "\n",
    "# find the valid neighbors of a point on the grid\n",
    "function neighbors(u)\n",
    "    x, y, z = u\n",
    "    return [# first, find 1-unit manhattan distance points\n",
    "            [(i, j, z)\n",
    "             for i in x - 1:x + 1, j in y - 1:y + 1\n",
    "             if i in 1:GRID[1] && j in 1:GRID[2]\n",
    "                && (i, j) != (x, y)\n",
    "                && (i == x || j == y)]; \n",
    "            # add neighbors for same point, different equipment\n",
    "            [(x, y, k) \n",
    "             for k in [GEAR, TORCH, NEITHER] \n",
    "             if k != z]]\n",
    "end\n",
    "\n",
    "# compute the transition costs, for use in pathfinding\n",
    "function cost(u, v)\n",
    "    x, y, z = u\n",
    "    i, j, k = v\n",
    "    \n",
    "    # same position, different equip, must be valid for the position\n",
    "    if z != k\n",
    "        if k == GEAR && risk[x, y] in [ROCKY, WET]\n",
    "            return 7\n",
    "        elseif k == TORCH && risk[x, y] in [ROCKY, NARROW]\n",
    "            return 7\n",
    "        elseif k == NEITHER && risk[x, y] in [WET, NARROW]\n",
    "            return 7\n",
    "        end\n",
    "    # same equipment, different position, equipment must be valid\n",
    "    elseif risk[i, j] == ROCKY && z in [GEAR, TORCH]\n",
    "        return 1\n",
    "    elseif risk[i, j] == WET && z in [GEAR, NEITHER]\n",
    "        return 1\n",
    "    elseif risk[i, j] == NARROW && z in [TORCH, NEITHER]\n",
    "        return 1\n",
    "    end\n",
    "                                \n",
    "    # incompatible position/equipment transition\n",
    "    return Inf\n",
    "end\n",
    "\n",
    "# dijkstra's shortest path algorithm\n",
    "queue = PriorityQueue()\n",
    "distance = Dict()\n",
    "previous = Dict()\n",
    "                            \n",
    "source = (1, 1, TORCH)\n",
    "target = (TARGET[1], TARGET[2], TORCH)\n",
    "\n",
    "for x in 1:GRID[1], y in 1:GRID[2], z in [GEAR, TORCH, NEITHER]\n",
    "    v = (x, y, z)\n",
    "    distance[v] = v == source ? 0 : Inf\n",
    "    previous[v] = nothing\n",
    "    enqueue!(queue, v, distance[v])\n",
    "end\n",
    "\n",
    "while !isempty(queue)\n",
    "    u = dequeue!(queue)\n",
    "    for v in neighbors(u)\n",
    "        alt = distance[u] + cost(u, v)\n",
    "        if alt < distance[v]\n",
    "            distance[v] = alt\n",
    "            previous[v] = u\n",
    "            queue[v] = alt\n",
    "        end\n",
    "    end\n",
    "end\n",
    "\n",
    "distance[target]\n"
   ]
  },
  {
   "cell_type": "code",
   "execution_count": null,
   "metadata": {},
   "outputs": [],
   "source": []
  }
 ],
 "metadata": {
  "kernelspec": {
   "display_name": "Julia 1.0.2",
   "language": "julia",
   "name": "julia-1.0"
  },
  "language_info": {
   "file_extension": ".jl",
   "mimetype": "application/julia",
   "name": "julia",
   "version": "1.0.0"
  },
  "toc": {
   "base_numbering": 1,
   "nav_menu": {},
   "number_sections": true,
   "sideBar": true,
   "skip_h1_title": false,
   "title_cell": "Table of Contents",
   "title_sidebar": "Contents",
   "toc_cell": false,
   "toc_position": {},
   "toc_section_display": true,
   "toc_window_display": false
  }
 },
 "nbformat": 4,
 "nbformat_minor": 2
}
