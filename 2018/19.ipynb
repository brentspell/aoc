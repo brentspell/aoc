{
 "cells": [
  {
   "cell_type": "code",
   "execution_count": null,
   "metadata": {
    "ExecuteTime": {
     "end_time": "2018-12-19T08:44:21.305000-05:00",
     "start_time": "2018-12-19T13:44:15.569Z"
    }
   },
   "outputs": [],
   "source": [
    "# https://adventofcode.com/2018/day/19\n",
    "\n",
    "struct Instruction\n",
    "    op::String\n",
    "    params::Array{Int}\n",
    "\n",
    "    function Instruction(line::String)\n",
    "        caps = match(r\"([a-z]+)\\s(\\d+)\\s(\\d+)\\s(\\d+)\", line).captures\n",
    "        new(caps[1], parse.(Int, caps[2:end]))\n",
    "    end\n",
    "end\n",
    "\n",
    "ip, program = open(\"19.txt\", \"r\") do file\n",
    "    ip = parse(Int, match(r\"#ip (\\d+)\", readline(file)).captures[1])\n",
    "    \n",
    "    program = readlines(file) .|> Instruction\n",
    "\n",
    "    ip, program\n",
    "end\n"
   ]
  },
  {
   "cell_type": "code",
   "execution_count": null,
   "metadata": {
    "ExecuteTime": {
     "end_time": "2018-12-19T08:44:21.881000-05:00",
     "start_time": "2018-12-19T13:44:15.938Z"
    }
   },
   "outputs": [],
   "source": [
    "# the ops\n",
    "\n",
    "addr(r, a, b, c) = (r = copy(r); r[c + 1] = r[a + 1] + r[b + 1]; r)\n",
    "addi(r, a, b, c) = (r = copy(r); r[c + 1] = r[a + 1] + b; r)\n",
    "mulr(r, a, b, c) = (r = copy(r); r[c + 1] = r[a + 1] * r[b + 1]; r)\n",
    "muli(r, a, b, c) = (r = copy(r); r[c + 1] = r[a + 1] * b; r)\n",
    "banr(r, a, b, c) = (r = copy(r); r[c + 1] = r[a + 1] & r[b + 1]; r)\n",
    "bani(r, a, b, c) = (r = copy(r); r[c + 1] = r[a + 1] & b; r)\n",
    "borr(r, a, b, c) = (r = copy(r); r[c + 1] = r[a + 1] | r[b + 1]; r)\n",
    "bori(r, a, b, c) = (r = copy(r); r[c + 1] = r[a + 1] | b; r)\n",
    "setr(r, a, b, c) = (r = copy(r); r[c + 1] = r[a + 1]; r)\n",
    "seti(r, a, b, c) = (r = copy(r); r[c + 1] = a; r)\n",
    "gtir(r, a, b, c) = (r = copy(r); r[c + 1] = a > r[b + 1]; r)\n",
    "gtri(r, a, b, c) = (r = copy(r); r[c + 1] = r[a + 1] > b; r)\n",
    "gtrr(r, a, b, c) = (r = copy(r); r[c + 1] = r[a + 1] > r[b + 1]; r)\n",
    "eqir(r, a, b, c) = (r = copy(r); r[c + 1] = a == r[b + 1]; r)\n",
    "eqri(r, a, b, c) = (r = copy(r); r[c + 1] = r[a + 1] == b; r)\n",
    "eqrr(r, a, b, c) = (r = copy(r); r[c + 1] = r[a + 1] == r[b + 1]; r)\n"
   ]
  },
  {
   "cell_type": "code",
   "execution_count": 93,
   "metadata": {
    "ExecuteTime": {
     "end_time": "2018-12-19T11:37:45.392000-05:00",
     "start_time": "2018-12-19T16:37:39.778Z"
    }
   },
   "outputs": [
    {
     "data": {
      "text/plain": [
       "1248"
      ]
     },
     "execution_count": 93,
     "metadata": {},
     "output_type": "execute_result"
    }
   ],
   "source": [
    "# part 1\n",
    "\n",
    "registers = zeros(Int, 6)\n",
    "while registers[ip + 1] + 1 in 1:length(program)\n",
    "    instruction = program[registers[ip + 1] + 1]\n",
    "    op = getfield(Main, Symbol(instruction.op))\n",
    "    registers = op(registers, instruction.params...)\n",
    "    registers[ip + 1] += 1\n",
    "end\n",
    "\n",
    "registers[1]\n"
   ]
  },
  {
   "cell_type": "code",
   "execution_count": 85,
   "metadata": {
    "ExecuteTime": {
     "end_time": "2018-12-19T11:30:14.725000-05:00",
     "start_time": "2018-12-19T16:30:14.717Z"
    }
   },
   "outputs": [
    {
     "data": {
      "text/plain": [
       "10551275"
      ]
     },
     "execution_count": 85,
     "metadata": {},
     "output_type": "execute_result"
    }
   ],
   "source": [
    "# part 2, transpilation\n",
    "\n",
    "# calculate the sum of the prime factors of register e, slowly\n",
    "# the results are stored in register a\n",
    "\n",
    "a = 1\n",
    "b = d = e = f = 0\n",
    "\n",
    "e += 2\n",
    "e *= e\n",
    "e *= 19\n",
    "e *= 11\n",
    "f += 1\n",
    "f *= 22\n",
    "f += 17\n",
    "e += f\n",
    "if a == 1\n",
    "    f = 27\n",
    "    f *= 28\n",
    "    f += 29\n",
    "    f *= 30\n",
    "    f *= 14\n",
    "    f *= 32\n",
    "    e += f\n",
    "    a = 0\n",
    "end\n",
    "\n",
    "b = 1\n",
    "while b <= e\n",
    "    d = 1\n",
    "    while d <= e\n",
    "        if b * d == e\n",
    "            a += b\n",
    "        end\n",
    "        d += 1\n",
    "    end\n",
    "    b += 1\n",
    "end\n",
    "\n",
    "a\n"
   ]
  },
  {
   "cell_type": "code",
   "execution_count": 92,
   "metadata": {
    "ExecuteTime": {
     "end_time": "2018-12-19T11:34:00.160000-05:00",
     "start_time": "2018-12-19T16:34:00.139Z"
    }
   },
   "outputs": [
    {
     "data": {
      "text/plain": [
       "14952912"
      ]
     },
     "execution_count": 92,
     "metadata": {},
     "output_type": "execute_result"
    }
   ],
   "source": [
    "# part 2, faster\n",
    "\n",
    "a = 0\n",
    "for b in 1:trunc(Int, sqrt(e))\n",
    "    d, m = fldmod(e, b)\n",
    "    if m == 0\n",
    "        a += b\n",
    "        if d != b\n",
    "            a += d\n",
    "        end\n",
    "    end\n",
    "end\n",
    "\n",
    "a\n"
   ]
  },
  {
   "cell_type": "code",
   "execution_count": null,
   "metadata": {},
   "outputs": [],
   "source": []
  }
 ],
 "metadata": {
  "kernelspec": {
   "display_name": "Julia 1.0.2",
   "language": "julia",
   "name": "julia-1.0"
  },
  "language_info": {
   "file_extension": ".jl",
   "mimetype": "application/julia",
   "name": "julia",
   "version": "1.0.0"
  },
  "toc": {
   "base_numbering": 1,
   "nav_menu": {},
   "number_sections": true,
   "sideBar": true,
   "skip_h1_title": false,
   "title_cell": "Table of Contents",
   "title_sidebar": "Contents",
   "toc_cell": false,
   "toc_position": {},
   "toc_section_display": true,
   "toc_window_display": false
  }
 },
 "nbformat": 4,
 "nbformat_minor": 2
}
