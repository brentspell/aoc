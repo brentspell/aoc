{
 "cells": [
  {
   "cell_type": "code",
   "execution_count": 1,
   "metadata": {
    "ExecuteTime": {
     "end_time": "2018-12-11T11:12:25.504000-05:00",
     "start_time": "2018-12-11T16:12:15.469Z"
    }
   },
   "outputs": [
    {
     "data": {
      "text/plain": [
       "power (generic function with 1 method)"
      ]
     },
     "execution_count": 1,
     "metadata": {},
     "output_type": "execute_result"
    }
   ],
   "source": [
    "# https://adventofcode.com/2018/day/11\n",
    "# part 1\n",
    "\n",
    "function power(x, y, s)\n",
    "    rid = x + 10\n",
    "    p = rid * y\n",
    "    p += s\n",
    "    p *= rid\n",
    "    p = div(p, 100)\n",
    "    p %= 10\n",
    "    p -= 5\n",
    "    return p\n",
    "end\n"
   ]
  },
  {
   "cell_type": "code",
   "execution_count": 2,
   "metadata": {
    "ExecuteTime": {
     "end_time": "2018-12-11T11:12:26.437000-05:00",
     "start_time": "2018-12-11T16:12:15.606Z"
    }
   },
   "outputs": [
    {
     "data": {
      "text/plain": [
       "(21, 42)"
      ]
     },
     "execution_count": 2,
     "metadata": {},
     "output_type": "execute_result"
    }
   ],
   "source": [
    "width = 300\n",
    "serial = 3214\n",
    "levels = [power(x, y, serial) \n",
    "          for y in 1:width, x in 1:width]\n",
    "totals = [sum(levels[i:i + 2, j:j + 2]) \n",
    "          for i in 1:width - 2, j in 1:width - 2]\n",
    "totals |> argmax |> Tuple |> reverse\n"
   ]
  },
  {
   "cell_type": "code",
   "execution_count": 3,
   "metadata": {
    "ExecuteTime": {
     "end_time": "2018-12-11T11:12:34.913000-05:00",
     "start_time": "2018-12-11T16:12:15.709Z"
    }
   },
   "outputs": [
    {
     "data": {
      "text/plain": [
       "(230, 212, 13)"
      ]
     },
     "execution_count": 3,
     "metadata": {},
     "output_type": "execute_result"
    }
   ],
   "source": [
    "width = 300\n",
    "serial = 3214\n",
    "levels = [power(x, y, serial) \n",
    "          for y in 1:width, x in 1:width]\n",
    "\n",
    "totals = zeros(Int, width, width, width) .= levels\n",
    "\n",
    "for i in 1:width, j in 1:width, s in 2:min(width, width - i + 1, width - j + 1)\n",
    "    # add the upper-left block sum, the right column, and the bottom row\n",
    "    totals[i, j, s] = (totals[i, j, s - 1]\n",
    "                       + sum(levels[i:i + s - 1, j + s - 1])\n",
    "                       + sum(levels[i + s - 1, j:j + s - 2]))\n",
    "end\n",
    "\n",
    "y, x, s = totals |> argmax |> Tuple\n",
    "x, y, s\n"
   ]
  },
  {
   "cell_type": "code",
   "execution_count": null,
   "metadata": {},
   "outputs": [],
   "source": []
  }
 ],
 "metadata": {
  "kernelspec": {
   "display_name": "Julia 1.0.2",
   "language": "julia",
   "name": "julia-1.0"
  },
  "language_info": {
   "file_extension": ".jl",
   "mimetype": "application/julia",
   "name": "julia",
   "version": "1.0.0"
  },
  "toc": {
   "base_numbering": 1,
   "nav_menu": {},
   "number_sections": true,
   "sideBar": true,
   "skip_h1_title": false,
   "title_cell": "Table of Contents",
   "title_sidebar": "Contents",
   "toc_cell": false,
   "toc_position": {},
   "toc_section_display": true,
   "toc_window_display": false
  }
 },
 "nbformat": 4,
 "nbformat_minor": 2
}
