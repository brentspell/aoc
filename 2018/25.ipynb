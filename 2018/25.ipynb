{
 "cells": [
  {
   "cell_type": "code",
   "execution_count": null,
   "metadata": {
    "ExecuteTime": {
     "end_time": "2018-12-25T14:18:22.131000-05:00",
     "start_time": "2018-12-25T19:18:22.013Z"
    }
   },
   "outputs": [],
   "source": [
    "# https://adventofcode.com/2018/day/25\n",
    "\n",
    "using DataStructures\n",
    "\n",
    "data = open(\"25.txt\", \"r\") do file\n",
    "    readlines(file) .|> x -> parse.(Int, split(x, ','))\n",
    "end\n",
    "\n",
    "distance(p, q) = sum(abs.(p .- q))\n"
   ]
  },
  {
   "cell_type": "code",
   "execution_count": 89,
   "metadata": {
    "ExecuteTime": {
     "end_time": "2018-12-25T14:18:30.534000-05:00",
     "start_time": "2018-12-25T19:18:24.583Z"
    }
   },
   "outputs": [
    {
     "data": {
      "text/plain": [
       "386"
      ]
     },
     "execution_count": 89,
     "metadata": {},
     "output_type": "execute_result"
    }
   ],
   "source": [
    "# part 1\n",
    "\n",
    "# order the points by distance to the origin, then coordinate order\n",
    "points = sort(data, by=p->(sum(p), p))\n",
    "\n",
    "consts = [Set([p]) for p in points]\n",
    "\n",
    "done = false\n",
    "while !done\n",
    "    done = true\n",
    "    for (i, c) in enumerate(consts)\n",
    "        for d in consts[i + 1:end]\n",
    "            if any(any(distance(p, q) <= 3 for q in c) for p in d)\n",
    "                for e in d\n",
    "                    push!(c, e)\n",
    "                    delete!(d, e)\n",
    "                end\n",
    "                done = false\n",
    "            end\n",
    "        end\n",
    "        consts = [c for c in consts if !isempty(c)]\n",
    "    end\n",
    "end\n",
    "                \n",
    "consts |> length\n"
   ]
  },
  {
   "cell_type": "code",
   "execution_count": null,
   "metadata": {},
   "outputs": [],
   "source": []
  }
 ],
 "metadata": {
  "kernelspec": {
   "display_name": "Julia 1.0.2",
   "language": "julia",
   "name": "julia-1.0"
  },
  "language_info": {
   "file_extension": ".jl",
   "mimetype": "application/julia",
   "name": "julia",
   "version": "1.0.0"
  },
  "toc": {
   "base_numbering": 1,
   "nav_menu": {},
   "number_sections": true,
   "sideBar": true,
   "skip_h1_title": false,
   "title_cell": "Table of Contents",
   "title_sidebar": "Contents",
   "toc_cell": false,
   "toc_position": {},
   "toc_section_display": true,
   "toc_window_display": false
  }
 },
 "nbformat": 4,
 "nbformat_minor": 2
}
