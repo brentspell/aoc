{
 "cells": [
  {
   "cell_type": "code",
   "execution_count": null,
   "metadata": {
    "ExecuteTime": {
     "end_time": "2018-12-20T08:55:26.043000-05:00",
     "start_time": "2018-12-20T13:55:26.004Z"
    }
   },
   "outputs": [],
   "source": [
    "# https://adventofcode.com/2018/day/20\n",
    "\n",
    "data = open(\"20.txt\", \"r\") do file\n",
    "    readline(file)\n",
    "end\n"
   ]
  },
  {
   "cell_type": "code",
   "execution_count": 73,
   "metadata": {
    "ExecuteTime": {
     "end_time": "2018-12-20T08:58:53.444000-05:00",
     "start_time": "2018-12-20T13:58:53.399Z"
    }
   },
   "outputs": [
    {
     "data": {
      "text/plain": [
       "3806"
      ]
     },
     "execution_count": 73,
     "metadata": {},
     "output_type": "execute_result"
    }
   ],
   "source": [
    "# part 1\n",
    "\n",
    "function pathlen(regex)\n",
    "    s = [[0]]\n",
    "\n",
    "    for ch in regex\n",
    "        if ch in \"^(\"\n",
    "            push!(s, [0])\n",
    "        elseif ch in \"\\$)\"\n",
    "            c = pop!(s)\n",
    "            s[end][end] += 0 in c ? 0 : maximum(c)\n",
    "        elseif ch == '|'\n",
    "            push!(s[end], 0)\n",
    "        else\n",
    "            s[end][end] += 1\n",
    "        end\n",
    "    end\n",
    "    \n",
    "    return s[end][end]\n",
    "end\n",
    "\n",
    "pathlen(data)\n"
   ]
  },
  {
   "cell_type": "code",
   "execution_count": 283,
   "metadata": {
    "ExecuteTime": {
     "end_time": "2018-12-20T14:21:50.681000-05:00",
     "start_time": "2018-12-20T19:21:50.550Z"
    }
   },
   "outputs": [
    {
     "data": {
      "text/plain": [
       "8354"
      ]
     },
     "execution_count": 283,
     "metadata": {},
     "output_type": "execute_result"
    }
   ],
   "source": [
    "# part 2\n",
    "\n",
    "function pathlen(regex, themax)\n",
    "    s = []\n",
    "    d = Dict()\n",
    "\n",
    "    x, y = (0, 0)\n",
    "    d[(x, y)] = 0\n",
    "    \n",
    "    for ch in regex\n",
    "        if ch in \"^(\"\n",
    "            push!(s, (x, y))\n",
    "        elseif ch in \"\\$)\"\n",
    "            x, y = pop!(s)\n",
    "        elseif ch == '|'\n",
    "            x, y = s[end]\n",
    "        else\n",
    "            if ch == 'N'\n",
    "                y -= 1\n",
    "            elseif ch == 'S'\n",
    "                y += 1\n",
    "            elseif ch == 'E'\n",
    "                x += 1\n",
    "            elseif ch == 'W'\n",
    "                x -= 1\n",
    "            end\n",
    "            if !haskey(d, (x, y))\n",
    "                d[(x, y)] = d[(x, y)] + 1\n",
    "            end\n",
    "        end\n",
    "    end\n",
    "    \n",
    "    return d |> values .|> (x -> x >= themax) |> sum\n",
    "end\n",
    "\n",
    "pathlen(data, 1000)\n"
   ]
  },
  {
   "cell_type": "code",
   "execution_count": null,
   "metadata": {},
   "outputs": [],
   "source": []
  }
 ],
 "metadata": {
  "kernelspec": {
   "display_name": "Julia 1.0.2",
   "language": "julia",
   "name": "julia-1.0"
  },
  "language_info": {
   "file_extension": ".jl",
   "mimetype": "application/julia",
   "name": "julia",
   "version": "1.0.0"
  },
  "toc": {
   "base_numbering": 1,
   "nav_menu": {},
   "number_sections": true,
   "sideBar": true,
   "skip_h1_title": false,
   "title_cell": "Table of Contents",
   "title_sidebar": "Contents",
   "toc_cell": false,
   "toc_position": {},
   "toc_section_display": true,
   "toc_window_display": false
  }
 },
 "nbformat": 4,
 "nbformat_minor": 2
}
