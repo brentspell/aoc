{
 "cells": [
  {
   "cell_type": "code",
   "execution_count": 1,
   "metadata": {
    "ExecuteTime": {
     "end_time": "2019-12-03T17:47:57.563060Z",
     "start_time": "2019-12-03T17:47:57.559312Z"
    }
   },
   "outputs": [],
   "source": [
    "STEPS = {'R': lambda x, y: (x + 1, y),\n",
    "         'L': lambda x, y: (x - 1, y),\n",
    "         'U': lambda x, y: (x, y + 1),\n",
    "         'D': lambda x, y: (x, y - 1)}\n",
    "\n",
    "with open('03.txt', 'r') as file:\n",
    "    path1, path2 = [l.split(',') for l in file]\n"
   ]
  },
  {
   "cell_type": "markdown",
   "metadata": {},
   "source": [
    "## Part 1\n"
   ]
  },
  {
   "cell_type": "code",
   "execution_count": 2,
   "metadata": {
    "ExecuteTime": {
     "end_time": "2019-12-03T17:47:58.610427Z",
     "start_time": "2019-12-03T17:47:58.458715Z"
    }
   },
   "outputs": [
    {
     "data": {
      "text/plain": [
       "2129"
      ]
     },
     "execution_count": 2,
     "metadata": {},
     "output_type": "execute_result"
    }
   ],
   "source": [
    "def walk1(path):\n",
    "    points = set()\n",
    "    point = 0, 0\n",
    "    for turn in path:\n",
    "        step = STEPS[turn[0]]\n",
    "        count = int(turn[1:])\n",
    "        for _ in range(count):\n",
    "            point = step(*point)\n",
    "            points.add(point)\n",
    "    return points\n",
    "    \n",
    "crosses = walk1(path1) & walk1(path2)\n",
    "\n",
    "min(sum(abs(c) for c in p) for p in crosses)\n"
   ]
  },
  {
   "cell_type": "markdown",
   "metadata": {},
   "source": [
    "## Part 2"
   ]
  },
  {
   "cell_type": "code",
   "execution_count": 3,
   "metadata": {
    "ExecuteTime": {
     "end_time": "2019-12-03T17:47:59.566506Z",
     "start_time": "2019-12-03T17:47:59.434376Z"
    }
   },
   "outputs": [
    {
     "data": {
      "text/plain": [
       "134662"
      ]
     },
     "execution_count": 3,
     "metadata": {},
     "output_type": "execute_result"
    }
   ],
   "source": [
    "def walk2(path):\n",
    "    points = {}\n",
    "    point = 0, 0\n",
    "    total = 0\n",
    "    for turn in path:\n",
    "        step = STEPS[turn[0]]\n",
    "        count = int(turn[1:])\n",
    "        for _ in range(count):\n",
    "            total += 1\n",
    "            point = step(*point)\n",
    "            if point not in points:\n",
    "                points[point] = total\n",
    "    return points\n",
    "    \n",
    "grid1 = walk2(path1)\n",
    "grid2 = walk2(path2)\n",
    "\n",
    "min(grid1[p] + grid2[p] for p in grid1.keys() if p in grid2)\n"
   ]
  },
  {
   "cell_type": "code",
   "execution_count": null,
   "metadata": {},
   "outputs": [],
   "source": []
  }
 ],
 "metadata": {
  "kernelspec": {
   "display_name": "Python 3",
   "language": "python",
   "name": "python3"
  },
  "language_info": {
   "codemirror_mode": {
    "name": "ipython",
    "version": 3
   },
   "file_extension": ".py",
   "mimetype": "text/x-python",
   "name": "python",
   "nbconvert_exporter": "python",
   "pygments_lexer": "ipython3",
   "version": "3.8.0"
  }
 },
 "nbformat": 4,
 "nbformat_minor": 2
}
