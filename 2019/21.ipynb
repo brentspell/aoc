{
 "cells": [
  {
   "cell_type": "code",
   "execution_count": 2,
   "metadata": {
    "ExecuteTime": {
     "end_time": "2019-12-21T14:06:51.961321Z",
     "start_time": "2019-12-21T14:06:51.957375Z"
    }
   },
   "outputs": [],
   "source": [
    "with open('21.txt', 'r') as file:\n",
    "    data = [int(s) for s in file.read().split(',')]\n"
   ]
  },
  {
   "cell_type": "code",
   "execution_count": 3,
   "metadata": {
    "ExecuteTime": {
     "end_time": "2019-12-21T14:06:53.301476Z",
     "start_time": "2019-12-21T14:06:53.281720Z"
    },
    "collapsed": true
   },
   "outputs": [],
   "source": [
    "class Halt(Exception):\n",
    "    pass\n",
    "\n",
    "\n",
    "class Yield(Exception):\n",
    "    pass\n",
    "\n",
    "\n",
    "class VM:\n",
    "    def __init__(self, memory, inputs, outputs):\n",
    "        self.ops = {1: self.add, \n",
    "                    2: self.mul, \n",
    "                    3: self.input_, \n",
    "                    4: self.output, \n",
    "                    5: self.jnz,\n",
    "                    6: self.jz,\n",
    "                    7: self.lt,\n",
    "                    8: self.eq,\n",
    "                    9: self.rbo,\n",
    "                    99: self.hcf}\n",
    "        self.memory = memory\n",
    "        self.pointer = 0\n",
    "        self.base = 0\n",
    "        self.inputs = inputs\n",
    "        self.outputs = outputs\n",
    "\n",
    "    def run(self):\n",
    "        while self.step():\n",
    "            pass\n",
    "        \n",
    "    def step(self):\n",
    "        try:\n",
    "            while True:\n",
    "                self.ops[self.read(self.pointer) % 100]()\n",
    "        except Yield:\n",
    "            return True\n",
    "        except Halt:\n",
    "            return False\n",
    "\n",
    "    def add(self):\n",
    "        a, b, c = self.decode(3)\n",
    "        self.write(c, self.read(a) + self.read(b))\n",
    "\n",
    "    def mul(self):\n",
    "        a, b, c = self.decode(3)\n",
    "        self.write(c, self.read(a) * self.read(b))\n",
    "\n",
    "    def input_(self):\n",
    "        a, = self.decode(1)\n",
    "        self.write(a, self.inputs.pop(0))\n",
    "\n",
    "    def output(self):\n",
    "        a, = self.decode(1)\n",
    "        self.outputs.append(self.read(a))\n",
    "        raise Yield()\n",
    "\n",
    "    def jnz(self):\n",
    "        a, b = self.decode(2)\n",
    "        if self.read(a) != 0:\n",
    "            self.pointer = self.read(b)\n",
    "\n",
    "    def jz(self):\n",
    "        a, b = self.decode(2)\n",
    "        if self.read(a) == 0:\n",
    "            self.pointer = self.read(b)\n",
    "\n",
    "    def lt(self):\n",
    "        a, b, c = self.decode(3)\n",
    "        self.write(c, 1 if self.read(a) < self.read(b) else 0)\n",
    "\n",
    "    def eq(self):\n",
    "        a, b, c = self.decode(3)\n",
    "        self.write(c, 1 if self.read(a) == self.read(b) else 0)\n",
    "        \n",
    "    def rbo(self):\n",
    "        a, = self.decode(1)\n",
    "        self.base += self.read(a)\n",
    "\n",
    "    def hcf(self):\n",
    "        raise Halt()\n",
    "\n",
    "    def decode(self, count):\n",
    "        mode = self.read(self.pointer) // 100\n",
    "        self.pointer += 1\n",
    "\n",
    "        params = []\n",
    "        for i in range(count):\n",
    "            value = self.pointer\n",
    "            if mode % 10 == 0:\n",
    "                value = self.read(value)\n",
    "            elif mode % 10 == 2:\n",
    "                value = self.base + self.read(value)\n",
    "            params.append(value)\n",
    "            self.pointer += 1\n",
    "            mode //= 10\n",
    "        return params\n",
    "    \n",
    "    def read(self, offset):\n",
    "        self.extend(offset)\n",
    "        return self.memory[offset]\n",
    "    \n",
    "    def write(self, offset, value):\n",
    "        self.extend(offset)\n",
    "        self.memory[offset] = value\n",
    "    \n",
    "    def extend(self, offset):\n",
    "        if offset >= len(self.memory):\n",
    "            self.memory.extend([0] * (offset - len(self.memory) + 1))\n"
   ]
  },
  {
   "cell_type": "markdown",
   "metadata": {},
   "source": [
    "## Part 1"
   ]
  },
  {
   "cell_type": "code",
   "execution_count": 22,
   "metadata": {
    "ExecuteTime": {
     "end_time": "2019-12-21T14:25:28.014765Z",
     "start_time": "2019-12-21T14:25:27.912776Z"
    }
   },
   "outputs": [
    {
     "name": "stdout",
     "output_type": "stream",
     "text": [
      "Input instructions:\n",
      "\n",
      "Walking...\n",
      "\n",
      "\n",
      "19359533\n"
     ]
    }
   ],
   "source": [
    "# jump if ground at 4\n",
    "# and hole at 1, 2, or 3\n",
    "program = \"\"\"\n",
    "OR D J\n",
    "OR A T\n",
    "AND B T\n",
    "AND C T\n",
    "NOT T T\n",
    "AND T J\n",
    "WALK\n",
    "\"\"\".lstrip()\n",
    "\n",
    "inputs = [ord(c) for c in program]\n",
    "outputs = []\n",
    "vm = VM(data.copy(), inputs, outputs)\n",
    "vm.run()\n",
    "\n",
    "print(''.join(chr(i) for i in outputs if i < 128))\n",
    "if outputs[-1] > 128:\n",
    "    print(outputs[-1])\n"
   ]
  },
  {
   "cell_type": "markdown",
   "metadata": {},
   "source": [
    "## Part 2"
   ]
  },
  {
   "cell_type": "code",
   "execution_count": 42,
   "metadata": {
    "ExecuteTime": {
     "end_time": "2019-12-21T14:43:12.245115Z",
     "start_time": "2019-12-21T14:43:10.486962Z"
    }
   },
   "outputs": [
    {
     "name": "stdout",
     "output_type": "stream",
     "text": [
      "Input instructions:\n",
      "\n",
      "Running...\n",
      "\n",
      "\n",
      "1140310551\n"
     ]
    }
   ],
   "source": [
    "# jump if ground at 4 and ground at 5 or 8 (run 1 to next jump)\n",
    "# and hole at 1, 2, or 3\n",
    "program = \"\"\"\n",
    "OR E J\n",
    "OR H J\n",
    "AND D J\n",
    "OR A T\n",
    "AND B T\n",
    "AND C T\n",
    "NOT T T\n",
    "AND T J\n",
    "RUN\n",
    "\"\"\".lstrip()\n",
    "\n",
    "inputs = [ord(c) for c in program]\n",
    "outputs = []\n",
    "vm = VM(data.copy(), inputs, outputs)\n",
    "vm.run()\n",
    "\n",
    "print(''.join(chr(i) for i in outputs if i < 128))\n",
    "if outputs[-1] > 128:\n",
    "    print(outputs[-1])\n"
   ]
  },
  {
   "cell_type": "code",
   "execution_count": null,
   "metadata": {},
   "outputs": [],
   "source": []
  }
 ],
 "metadata": {
  "kernelspec": {
   "display_name": "Python 3",
   "language": "python",
   "name": "python3"
  },
  "language_info": {
   "codemirror_mode": {
    "name": "ipython",
    "version": 3
   },
   "file_extension": ".py",
   "mimetype": "text/x-python",
   "name": "python",
   "nbconvert_exporter": "python",
   "pygments_lexer": "ipython3",
   "version": "3.8.0"
  }
 },
 "nbformat": 4,
 "nbformat_minor": 2
}
