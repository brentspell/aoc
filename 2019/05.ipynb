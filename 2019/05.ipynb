{
 "cells": [
  {
   "cell_type": "code",
   "execution_count": 54,
   "metadata": {
    "ExecuteTime": {
     "end_time": "2019-12-05T14:28:41.025022Z",
     "start_time": "2019-12-05T14:28:41.022704Z"
    }
   },
   "outputs": [],
   "source": [
    "import ipywidgets as widgets\n"
   ]
  },
  {
   "cell_type": "code",
   "execution_count": 55,
   "metadata": {
    "ExecuteTime": {
     "end_time": "2019-12-05T14:28:41.272570Z",
     "start_time": "2019-12-05T14:28:41.269189Z"
    }
   },
   "outputs": [],
   "source": [
    "with open('05.txt', 'r') as file:\n",
    "    data = [int(s) for s in file.read().split(',')]\n"
   ]
  },
  {
   "cell_type": "code",
   "execution_count": 56,
   "metadata": {
    "ExecuteTime": {
     "end_time": "2019-12-05T14:28:41.515470Z",
     "start_time": "2019-12-05T14:28:41.501425Z"
    }
   },
   "outputs": [],
   "source": [
    "input_value = 0\n",
    "\n",
    "class Halt(Exception):\n",
    "    pass\n",
    "\n",
    "def decode(m, ip, count):\n",
    "    c = m[ip]\n",
    "    p = []\n",
    "    c //= 100\n",
    "    ip += 1\n",
    "    for i in range(count):\n",
    "        v = m[ip]\n",
    "        p.append(v if c % 10 else m[v])\n",
    "        ip += 1\n",
    "        c //= 10\n",
    "    return [ip] + p\n",
    "\n",
    "def add(m, ip):\n",
    "    ip, a, b = decode(m, ip, 2)\n",
    "    m[m[ip]] = a + b\n",
    "    return ip + 1\n",
    "\n",
    "def mul(m, ip):\n",
    "    ip, a, b = decode(m, ip, 2)\n",
    "    m[m[ip]] = a * b\n",
    "    return ip + 1\n",
    "\n",
    "def input_(m, ip):\n",
    "    ip,  = decode(m, ip, 0)\n",
    "    m[m[ip]] = input_value\n",
    "    return ip + 1\n",
    "\n",
    "def output(m, ip):\n",
    "    ip, a = decode(m, ip, 1)\n",
    "    print(a)\n",
    "    return ip\n",
    "\n",
    "def jnz(m, ip):\n",
    "    ip, a, b = decode(m, ip, 2)\n",
    "    if a != 0:\n",
    "        return b\n",
    "    return ip\n",
    "\n",
    "def jz(m, ip):\n",
    "    ip, a, b = decode(m, ip, 2)\n",
    "    if a == 0:\n",
    "        return b\n",
    "    return ip\n",
    "\n",
    "def lt(m, ip):\n",
    "    ip, a, b = decode(m, ip, 2)\n",
    "    m[m[ip]] = 1 if a < b else 0\n",
    "    return ip + 1\n",
    "\n",
    "def eq(m, ip):\n",
    "    ip, a, b = decode(m, ip, 2)\n",
    "    m[m[ip]] = 1 if a == b else 0\n",
    "    return ip + 1\n",
    "\n",
    "def hcf(m, ip):\n",
    "    raise Halt\n",
    "\n",
    "OPS = {1: add, \n",
    "       2: mul, \n",
    "       3: input_, \n",
    "       4: output, \n",
    "       5: jnz,\n",
    "       6: jz,\n",
    "       7: lt,\n",
    "       8: eq,\n",
    "       99: hcf}\n",
    "\n",
    "def run(mem):\n",
    "    try:\n",
    "        ip = 0\n",
    "        while True:\n",
    "            op = OPS[mem[ip] % 100]\n",
    "            ip = op(mem, ip)\n",
    "    except Halt:\n",
    "        pass\n"
   ]
  },
  {
   "cell_type": "code",
   "execution_count": 57,
   "metadata": {
    "ExecuteTime": {
     "end_time": "2019-12-05T14:28:42.170351Z",
     "start_time": "2019-12-05T14:28:42.146356Z"
    }
   },
   "outputs": [
    {
     "data": {
      "application/vnd.jupyter.widget-view+json": {
       "model_id": "32eb1bc60dab437a91ff5df68573e8ce",
       "version_major": 2,
       "version_minor": 0
      },
      "text/plain": [
       "VBox(children=(HBox(children=(IntText(value=0, description='Input'), Button(description='Run', style=ButtonSty…"
      ]
     },
     "metadata": {},
     "output_type": "display_data"
    }
   ],
   "source": [
    "def handle_run(button):\n",
    "    global input_value\n",
    "    input_value = input_box.value\n",
    "    with output:\n",
    "        output.clear_output()\n",
    "        run(data.copy())\n",
    "\n",
    "output = widgets.Output()\n",
    "input_box = widgets.IntText(value=0, description='Input')\n",
    "button = widgets.Button(description='Run')\n",
    "button.on_click(handle_run)\n",
    "\n",
    "widgets.VBox(children=[widgets.HBox(children=[input_box, button]), output])\n"
   ]
  },
  {
   "cell_type": "code",
   "execution_count": null,
   "metadata": {},
   "outputs": [],
   "source": []
  }
 ],
 "metadata": {
  "kernelspec": {
   "display_name": "Python 3",
   "language": "python",
   "name": "python3"
  },
  "language_info": {
   "codemirror_mode": {
    "name": "ipython",
    "version": 3
   },
   "file_extension": ".py",
   "mimetype": "text/x-python",
   "name": "python",
   "nbconvert_exporter": "python",
   "pygments_lexer": "ipython3",
   "version": "3.8.0"
  }
 },
 "nbformat": 4,
 "nbformat_minor": 2
}
