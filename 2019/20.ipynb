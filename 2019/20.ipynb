{
 "cells": [
  {
   "cell_type": "code",
   "execution_count": 1,
   "metadata": {
    "ExecuteTime": {
     "end_time": "2019-12-20T16:56:51.930021Z",
     "start_time": "2019-12-20T16:56:51.927085Z"
    }
   },
   "outputs": [],
   "source": [
    "from collections import defaultdict"
   ]
  },
  {
   "cell_type": "code",
   "execution_count": 2,
   "metadata": {
    "ExecuteTime": {
     "end_time": "2019-12-20T16:56:52.033594Z",
     "start_time": "2019-12-20T16:56:52.030324Z"
    }
   },
   "outputs": [],
   "source": [
    "with open('20.txt', 'r') as file:\n",
    "    data = [list(l[:-1]) for l in file.readlines()]\n"
   ]
  },
  {
   "cell_type": "code",
   "execution_count": 3,
   "metadata": {
    "ExecuteTime": {
     "end_time": "2019-12-20T16:56:54.499784Z",
     "start_time": "2019-12-20T16:56:54.464766Z"
    }
   },
   "outputs": [
    {
     "name": "stdout",
     "output_type": "stream",
     "text": [
      "568\n"
     ]
    }
   ],
   "source": [
    "map_ = [d.copy() for d in data]\n",
    "lookups = defaultdict(list)\n",
    "for i in range(len(map_)):\n",
    "    for j in range(len(map_[i])):\n",
    "        if len(map_[i][j]) == 1 and map_[i][j].isalpha():\n",
    "            if i < len(map_) - 1 and map_[i + 1][j] == '.':\n",
    "                map_[i + 1][j] = map_[i - 1][j] + map_[i][j]\n",
    "                map_[i - 1][j] = map_[i][j] = '#'\n",
    "                lookups[map_[i + 1][j]].append((i + 1, j))\n",
    "            if i > 0 and map_[i - 1][j] == '.':\n",
    "                map_[i - 1][j] = map_[i][j] + map_[i + 1][j]\n",
    "                map_[i][j] = map_[i + 1][j] = '#'\n",
    "                lookups[map_[i - 1][j]].append((i - 1, j))\n",
    "            if j < len(map_[0]) - 1 and map_[i][j + 1] == '.':\n",
    "                map_[i][j + 1] = map_[i][j - 1] + map_[i][j]\n",
    "                map_[i][j - 1] = map_[i][j] = '#'\n",
    "                lookups[map_[i][j + 1]].append((i, j + 1))\n",
    "            if j > 0 and map_[i][j - 1] == '.':\n",
    "                map_[i][j - 1] = map_[i][j] + map_[i][j + 1]\n",
    "                map_[i][j] = map_[i][j + 1] = '#'\n",
    "                lookups[map_[i][j - 1]].append((i, j - 1))\n",
    "\n",
    "queue = [(lookups['AA'][0], 0)]\n",
    "done = set()\n",
    "while queue:\n",
    "    pos, cost = queue.pop(0)\n",
    "    if pos not in done:\n",
    "        done.add(pos)\n",
    "        if pos == lookups['ZZ'][0]:\n",
    "            print(cost)\n",
    "            break\n",
    "        i, j = pos\n",
    "        cost += 1\n",
    "        for portal in lookups[map_[i][j]]:\n",
    "            if portal != pos:\n",
    "                queue.append((portal, cost))\n",
    "        if i < len(map_) - 1 and map_[i + 1][j] != '#':\n",
    "            queue.append(((i + 1, j), cost))\n",
    "        if i > 0 and map_[i - 1][j] != '#':\n",
    "            queue.append(((i - 1, j), cost))\n",
    "        if j < len(map_[i]) - 1 and map_[i][j + 1] != '#':\n",
    "            queue.append(((i, j + 1), cost))\n",
    "        if j > 0 and map_[i][j - 1] != '#':\n",
    "            queue.append(((i, j - 1), cost))\n"
   ]
  },
  {
   "cell_type": "code",
   "execution_count": 5,
   "metadata": {
    "ExecuteTime": {
     "end_time": "2019-12-20T16:57:10.960109Z",
     "start_time": "2019-12-20T16:57:09.969116Z"
    }
   },
   "outputs": [
    {
     "name": "stdout",
     "output_type": "stream",
     "text": [
      "6546\n"
     ]
    }
   ],
   "source": [
    "map_ = [d.copy() for d in data]\n",
    "lookups = defaultdict(list)\n",
    "for i in range(len(map_)):\n",
    "    for j in range(len(map_[i])):\n",
    "        if len(map_[i][j]) == 1 and map_[i][j].isalpha():\n",
    "            if i < len(map_) - 1 and map_[i + 1][j] == '.':\n",
    "                map_[i + 1][j] = map_[i - 1][j] + map_[i][j]\n",
    "                map_[i - 1][j] = map_[i][j] = '#'\n",
    "                lookups[map_[i + 1][j]].append((i + 1, j, -1 if i - 1 == 0 else 1))\n",
    "            if i > 0 and map_[i - 1][j] == '.':\n",
    "                map_[i - 1][j] = map_[i][j] + map_[i + 1][j]\n",
    "                map_[i][j] = map_[i + 1][j] = '#'\n",
    "                lookups[map_[i - 1][j]].append((i - 1, j, -1 if i + 1 == len(map_) - 1 else 1))\n",
    "            if j < len(map_[0]) - 1 and map_[i][j + 1] == '.':\n",
    "                map_[i][j + 1] = map_[i][j - 1] + map_[i][j]\n",
    "                map_[i][j - 1] = map_[i][j] = '#'\n",
    "                lookups[map_[i][j + 1]].append((i, j + 1, -1 if j - 1 == 0 else 1))\n",
    "            if j > 0 and map_[i][j - 1] == '.':\n",
    "                map_[i][j - 1] = map_[i][j] + map_[i][j + 1]\n",
    "                map_[i][j] = map_[i][j + 1] = '#'\n",
    "                lookups[map_[i][j - 1]].append((i, j - 1, -1 if j + 1 == len(map_[0]) - 1 else 1))\n",
    "\n",
    "queue = [(lookups['AA'][0], 0)]\n",
    "done = set()\n",
    "while queue:\n",
    "    pos, cost = queue.pop(0)\n",
    "    if pos not in done:\n",
    "        done.add(pos)\n",
    "        assert pos[-1] < 0, pos\n",
    "        if pos == lookups['ZZ'][0]:\n",
    "            print(cost)\n",
    "            break\n",
    "        i, j, k = pos\n",
    "        cost += 1\n",
    "        for portal in lookups[map_[i][j]]:\n",
    "            if portal[:2] != pos[:2]:\n",
    "                a, b, c = portal\n",
    "                if k < -1 or c < 0:\n",
    "                    queue.append(((a, b, k + c), cost))\n",
    "        if i < len(map_) - 1 and map_[i + 1][j] != '#':\n",
    "            queue.append(((i + 1, j, k), cost))\n",
    "        if i > 0 and map_[i - 1][j] != '#':\n",
    "            queue.append(((i - 1, j, k), cost))\n",
    "        if j < len(map_[i]) - 1 and map_[i][j + 1] != '#':\n",
    "            queue.append(((i, j + 1, k), cost))\n",
    "        if j > 0 and map_[i][j - 1] != '#':\n",
    "            queue.append(((i, j - 1, k), cost))\n"
   ]
  },
  {
   "cell_type": "code",
   "execution_count": null,
   "metadata": {},
   "outputs": [],
   "source": []
  }
 ],
 "metadata": {
  "kernelspec": {
   "display_name": "Python 3",
   "language": "python",
   "name": "python3"
  },
  "language_info": {
   "codemirror_mode": {
    "name": "ipython",
    "version": 3
   },
   "file_extension": ".py",
   "mimetype": "text/x-python",
   "name": "python",
   "nbconvert_exporter": "python",
   "pygments_lexer": "ipython3",
   "version": "3.8.0"
  }
 },
 "nbformat": 4,
 "nbformat_minor": 2
}
