{
 "cells": [
  {
   "cell_type": "code",
   "execution_count": 1,
   "metadata": {
    "ExecuteTime": {
     "end_time": "2019-12-06T12:40:06.086362Z",
     "start_time": "2019-12-06T12:40:06.083449Z"
    }
   },
   "outputs": [],
   "source": [
    "from collections import defaultdict"
   ]
  },
  {
   "cell_type": "code",
   "execution_count": 29,
   "metadata": {
    "ExecuteTime": {
     "end_time": "2019-12-06T13:06:39.065846Z",
     "start_time": "2019-12-06T13:06:39.061792Z"
    }
   },
   "outputs": [],
   "source": [
    "with open('06.txt', 'r') as file:\n",
    "    data = [l.strip().split(')') for l in file]\n"
   ]
  },
  {
   "cell_type": "markdown",
   "metadata": {},
   "source": [
    "## Part 1"
   ]
  },
  {
   "cell_type": "code",
   "execution_count": 41,
   "metadata": {
    "ExecuteTime": {
     "end_time": "2019-12-06T13:14:24.014920Z",
     "start_time": "2019-12-06T13:14:24.007562Z"
    }
   },
   "outputs": [
    {
     "data": {
      "text/plain": [
       "142497"
      ]
     },
     "execution_count": 41,
     "metadata": {},
     "output_type": "execute_result"
    }
   ],
   "source": [
    "orbits = defaultdict(set)\n",
    "for dst, src in data:\n",
    "    orbits[dst].add(src)\n",
    "\n",
    "def cumsum(dst, count=0):\n",
    "    return count + sum(cumsum(src, count + 1) for src in orbits[dst])\n",
    "\n",
    "cumsum('COM')\n"
   ]
  },
  {
   "cell_type": "markdown",
   "metadata": {},
   "source": [
    "## Part 2"
   ]
  },
  {
   "cell_type": "code",
   "execution_count": 44,
   "metadata": {
    "ExecuteTime": {
     "end_time": "2019-12-06T13:16:29.687148Z",
     "start_time": "2019-12-06T13:16:29.680986Z"
    }
   },
   "outputs": [
    {
     "data": {
      "text/plain": [
       "301"
      ]
     },
     "execution_count": 44,
     "metadata": {},
     "output_type": "execute_result"
    }
   ],
   "source": [
    "orbits = {src: dst for dst, src in data}\n",
    "\n",
    "def path(src):\n",
    "    return (path(orbits[src]) if src in orbits else []) + [src]\n",
    "\n",
    "you = path('YOU')\n",
    "san = path('SAN')\n",
    "len(you) + len(san) - 2 * sum(1 for x, y in zip(you, san) if x == y) - 2\n"
   ]
  }
 ],
 "metadata": {
  "kernelspec": {
   "display_name": "Python 3",
   "language": "python",
   "name": "python3"
  },
  "language_info": {
   "codemirror_mode": {
    "name": "ipython",
    "version": 3
   },
   "file_extension": ".py",
   "mimetype": "text/x-python",
   "name": "python",
   "nbconvert_exporter": "python",
   "pygments_lexer": "ipython3",
   "version": "3.8.0"
  }
 },
 "nbformat": 4,
 "nbformat_minor": 2
}
