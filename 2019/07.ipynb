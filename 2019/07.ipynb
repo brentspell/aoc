{
 "cells": [
  {
   "cell_type": "code",
   "execution_count": 12,
   "metadata": {
    "ExecuteTime": {
     "end_time": "2019-12-07T17:03:31.955753Z",
     "start_time": "2019-12-07T17:03:31.952376Z"
    }
   },
   "outputs": [],
   "source": [
    "with open('07.txt', 'r') as file:\n",
    "    data = [int(s) for s in file.read().split(',')]\n"
   ]
  },
  {
   "cell_type": "code",
   "execution_count": 13,
   "metadata": {
    "ExecuteTime": {
     "end_time": "2019-12-07T17:03:32.091538Z",
     "start_time": "2019-12-07T17:03:32.074125Z"
    }
   },
   "outputs": [],
   "source": [
    "class Halt(Exception):\n",
    "    pass\n",
    "\n",
    "\n",
    "class Yield(Exception):\n",
    "    pass\n",
    "\n",
    "\n",
    "class VM:\n",
    "    def __init__(self, memory, inputs, outputs):\n",
    "        self.ops = {1: self.add, \n",
    "                    2: self.mul, \n",
    "                    3: self.input_, \n",
    "                    4: self.output, \n",
    "                    5: self.jnz,\n",
    "                    6: self.jz,\n",
    "                    7: self.lt,\n",
    "                    8: self.eq,\n",
    "                    99: self.hcf}\n",
    "        self.memory = memory\n",
    "        self.pointer = 0\n",
    "        self.inputs = inputs\n",
    "        self.outputs = outputs\n",
    "\n",
    "    def step(self):\n",
    "        try:\n",
    "            while True:\n",
    "                self.ops[self.memory[self.pointer] % 100]()\n",
    "        except Yield:\n",
    "            return True\n",
    "        except Halt:\n",
    "            return False\n",
    "\n",
    "    def add(self):\n",
    "        a, b = self.decode(2)\n",
    "        self.memory[self.memory[self.pointer]] = a + b\n",
    "        self.pointer += 1\n",
    "\n",
    "    def mul(self):\n",
    "        a, b = self.decode(2)\n",
    "        self.memory[self.memory[self.pointer]] = a * b\n",
    "        self.pointer += 1\n",
    "\n",
    "    def input_(self):\n",
    "        self.decode(0)\n",
    "        self.memory[self.memory[self.pointer]] = self.inputs.pop(0)\n",
    "        self.pointer += 1\n",
    "\n",
    "    def output(self):\n",
    "        a, = self.decode(1)\n",
    "        self.outputs.append(a)\n",
    "        raise Yield()\n",
    "\n",
    "    def jnz(self):\n",
    "        a, b = self.decode(2)\n",
    "        if a != 0:\n",
    "            self.pointer = b\n",
    "\n",
    "    def jz(self):\n",
    "        a, b = self.decode(2)\n",
    "        if a == 0:\n",
    "            self.pointer = b\n",
    "\n",
    "    def lt(self):\n",
    "        a, b = self.decode(2)\n",
    "        self.memory[self.memory[self.pointer]] = 1 if a < b else 0\n",
    "        self.pointer += 1\n",
    "\n",
    "    def eq(self):\n",
    "        a, b = self.decode(2)\n",
    "        self.memory[self.memory[self.pointer]] = 1 if a == b else 0\n",
    "        self.pointer += 1\n",
    "\n",
    "    def hcf(self):\n",
    "        raise Halt()\n",
    "\n",
    "    def decode(self, count):\n",
    "        mode = self.memory[self.pointer] // 100\n",
    "        self.pointer += 1\n",
    "\n",
    "        params = []\n",
    "        for _ in range(count):\n",
    "            value = self.memory[self.pointer]\n",
    "            params.append(value if mode % 10 else self.memory[value])\n",
    "            self.pointer += 1\n",
    "            mode //= 10\n",
    "        return params\n",
    "\n",
    "def permutations(s):\n",
    "    if s == []:\n",
    "        yield []\n",
    "    for i in range(len(s)):\n",
    "        for p in permutations(s[:i] + s[i + 1:]):\n",
    "            yield [s[i]] + p\n"
   ]
  },
  {
   "cell_type": "markdown",
   "metadata": {},
   "source": [
    "## Part 1"
   ]
  },
  {
   "cell_type": "code",
   "execution_count": 20,
   "metadata": {
    "ExecuteTime": {
     "end_time": "2019-12-07T17:04:56.112751Z",
     "start_time": "2019-12-07T17:04:56.090619Z"
    }
   },
   "outputs": [
    {
     "data": {
      "text/plain": [
       "87138"
      ]
     },
     "execution_count": 20,
     "metadata": {},
     "output_type": "execute_result"
    }
   ],
   "source": [
    "def run(phases):\n",
    "    queues = [[p] for p in phases] + [[]]\n",
    "    amps = [VM(data.copy(), i, o)\n",
    "            for i, o in zip(queues[:-1], queues[1:])]\n",
    "\n",
    "    queues[0].append(0)\n",
    "    for amp in amps:\n",
    "        amp.step()\n",
    "    return queues[-1].pop(0)\n",
    "\n",
    "max(run(p) for p in permutations([4, 3, 2, 1, 0]))\n"
   ]
  },
  {
   "cell_type": "markdown",
   "metadata": {},
   "source": [
    "## Part 2"
   ]
  },
  {
   "cell_type": "code",
   "execution_count": 21,
   "metadata": {
    "ExecuteTime": {
     "end_time": "2019-12-07T17:04:56.368033Z",
     "start_time": "2019-12-07T17:04:56.321681Z"
    }
   },
   "outputs": [
    {
     "data": {
      "text/plain": [
       "17279674"
      ]
     },
     "execution_count": 21,
     "metadata": {},
     "output_type": "execute_result"
    }
   ],
   "source": [
    "def run(phases):\n",
    "    queues = [[p] for p in phases]\n",
    "    amps = [VM(data.copy(), i, o)\n",
    "            for i, o in zip(queues, queues[1:] + queues[:1])]\n",
    "\n",
    "    queues[0].append(0)\n",
    "    while all(a.step() for a in amps):\n",
    "        pass\n",
    "    return queues[0].pop(0)\n",
    "\n",
    "max(run(p) for p in permutations([9, 8, 7, 6, 5]))\n"
   ]
  },
  {
   "cell_type": "code",
   "execution_count": null,
   "metadata": {},
   "outputs": [],
   "source": []
  }
 ],
 "metadata": {
  "kernelspec": {
   "display_name": "Python 3",
   "language": "python",
   "name": "python3"
  },
  "language_info": {
   "codemirror_mode": {
    "name": "ipython",
    "version": 3
   },
   "file_extension": ".py",
   "mimetype": "text/x-python",
   "name": "python",
   "nbconvert_exporter": "python",
   "pygments_lexer": "ipython3",
   "version": "3.8.0"
  }
 },
 "nbformat": 4,
 "nbformat_minor": 2
}
