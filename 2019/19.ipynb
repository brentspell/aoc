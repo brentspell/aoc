{
 "cells": [
  {
   "cell_type": "code",
   "execution_count": 1,
   "metadata": {
    "ExecuteTime": {
     "end_time": "2019-12-19T15:10:48.089804Z",
     "start_time": "2019-12-19T15:10:48.085941Z"
    }
   },
   "outputs": [],
   "source": [
    "with open('19.txt', 'r') as file:\n",
    "    data = [int(s) for s in file.read().split(',')]\n"
   ]
  },
  {
   "cell_type": "code",
   "execution_count": 2,
   "metadata": {
    "ExecuteTime": {
     "end_time": "2019-12-19T15:10:48.249023Z",
     "start_time": "2019-12-19T15:10:48.229818Z"
    }
   },
   "outputs": [],
   "source": [
    "class Halt(Exception):\n",
    "    pass\n",
    "\n",
    "\n",
    "class Yield(Exception):\n",
    "    pass\n",
    "\n",
    "\n",
    "class VM:\n",
    "    def __init__(self, memory, inputs, outputs):\n",
    "        self.ops = {1: self.add, \n",
    "                    2: self.mul, \n",
    "                    3: self.input_, \n",
    "                    4: self.output, \n",
    "                    5: self.jnz,\n",
    "                    6: self.jz,\n",
    "                    7: self.lt,\n",
    "                    8: self.eq,\n",
    "                    9: self.rbo,\n",
    "                    99: self.hcf}\n",
    "        self.memory = memory\n",
    "        self.pointer = 0\n",
    "        self.base = 0\n",
    "        self.inputs = inputs\n",
    "        self.outputs = outputs\n",
    "\n",
    "    def run(self):\n",
    "        while self.step():\n",
    "            pass\n",
    "        \n",
    "    def step(self):\n",
    "        try:\n",
    "            while True:\n",
    "                self.ops[self.read(self.pointer) % 100]()\n",
    "        except Yield:\n",
    "            return True\n",
    "        except Halt:\n",
    "            return False\n",
    "\n",
    "    def add(self):\n",
    "        a, b, c = self.decode(3)\n",
    "        self.write(c, self.read(a) + self.read(b))\n",
    "\n",
    "    def mul(self):\n",
    "        a, b, c = self.decode(3)\n",
    "        self.write(c, self.read(a) * self.read(b))\n",
    "\n",
    "    def input_(self):\n",
    "        a, = self.decode(1)\n",
    "        self.write(a, self.inputs.pop(0))\n",
    "\n",
    "    def output(self):\n",
    "        a, = self.decode(1)\n",
    "        self.outputs.append(self.read(a))\n",
    "        raise Yield()\n",
    "\n",
    "    def jnz(self):\n",
    "        a, b = self.decode(2)\n",
    "        if self.read(a) != 0:\n",
    "            self.pointer = self.read(b)\n",
    "\n",
    "    def jz(self):\n",
    "        a, b = self.decode(2)\n",
    "        if self.read(a) == 0:\n",
    "            self.pointer = self.read(b)\n",
    "\n",
    "    def lt(self):\n",
    "        a, b, c = self.decode(3)\n",
    "        self.write(c, 1 if self.read(a) < self.read(b) else 0)\n",
    "\n",
    "    def eq(self):\n",
    "        a, b, c = self.decode(3)\n",
    "        self.write(c, 1 if self.read(a) == self.read(b) else 0)\n",
    "        \n",
    "    def rbo(self):\n",
    "        a, = self.decode(1)\n",
    "        self.base += self.read(a)\n",
    "\n",
    "    def hcf(self):\n",
    "        raise Halt()\n",
    "\n",
    "    def decode(self, count):\n",
    "        mode = self.read(self.pointer) // 100\n",
    "        self.pointer += 1\n",
    "\n",
    "        params = []\n",
    "        for i in range(count):\n",
    "            value = self.pointer\n",
    "            if mode % 10 == 0:\n",
    "                value = self.read(value)\n",
    "            elif mode % 10 == 2:\n",
    "                value = self.base + self.read(value)\n",
    "            params.append(value)\n",
    "            self.pointer += 1\n",
    "            mode //= 10\n",
    "        return params\n",
    "    \n",
    "    def read(self, offset):\n",
    "        self.extend(offset)\n",
    "        return self.memory[offset]\n",
    "    \n",
    "    def write(self, offset, value):\n",
    "        self.extend(offset)\n",
    "        self.memory[offset] = value\n",
    "    \n",
    "    def extend(self, offset):\n",
    "        if offset >= len(self.memory):\n",
    "            self.memory.extend([0] * (offset - len(self.memory) + 1))\n"
   ]
  },
  {
   "cell_type": "code",
   "execution_count": 3,
   "metadata": {
    "ExecuteTime": {
     "end_time": "2019-12-19T15:10:51.986871Z",
     "start_time": "2019-12-19T15:10:49.581917Z"
    }
   },
   "outputs": [
    {
     "data": {
      "text/plain": [
       "194"
      ]
     },
     "execution_count": 3,
     "metadata": {},
     "output_type": "execute_result"
    }
   ],
   "source": [
    "total = 0\n",
    "for i in range(50):\n",
    "    for j in range(50):\n",
    "        inputs = [i, j]\n",
    "        outputs = []\n",
    "        vm = VM(data.copy(), inputs, outputs)\n",
    "        vm.step()\n",
    "        total += outputs.pop()\n",
    "\n",
    "total\n"
   ]
  },
  {
   "cell_type": "code",
   "execution_count": 5,
   "metadata": {
    "ExecuteTime": {
     "end_time": "2019-12-19T15:11:31.141765Z",
     "start_time": "2019-12-19T15:11:31.007141Z"
    }
   },
   "outputs": [
    {
     "data": {
      "text/plain": [
       "10110555"
      ]
     },
     "execution_count": 5,
     "metadata": {},
     "output_type": "execute_result"
    }
   ],
   "source": [
    "def ping(i, j):\n",
    "    inputs = [i, j]\n",
    "    outputs = []\n",
    "    vm = VM(data.copy(), inputs, outputs)\n",
    "    vm.step()\n",
    "    return outputs.pop()\n",
    "\n",
    "i1 = 900\n",
    "while True:\n",
    "    i2 = i1 + 99\n",
    "    j2 = (i2 + 1) // 2\n",
    "    \n",
    "    if ping(i1, j2 + 99) and ping(i2, j2 + 99):\n",
    "        break\n",
    "    \n",
    "    i1 += 1\n",
    "\n",
    "i1 * 10000 + j2\n"
   ]
  },
  {
   "cell_type": "code",
   "execution_count": null,
   "metadata": {},
   "outputs": [],
   "source": []
  }
 ],
 "metadata": {
  "kernelspec": {
   "display_name": "Python 3",
   "language": "python",
   "name": "python3"
  },
  "language_info": {
   "codemirror_mode": {
    "name": "ipython",
    "version": 3
   },
   "file_extension": ".py",
   "mimetype": "text/x-python",
   "name": "python",
   "nbconvert_exporter": "python",
   "pygments_lexer": "ipython3",
   "version": "3.8.0"
  }
 },
 "nbformat": 4,
 "nbformat_minor": 2
}
