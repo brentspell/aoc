{
 "cells": [
  {
   "cell_type": "code",
   "execution_count": 1,
   "metadata": {
    "ExecuteTime": {
     "end_time": "2019-12-12T20:08:52.491962Z",
     "start_time": "2019-12-12T20:08:52.489185Z"
    }
   },
   "outputs": [],
   "source": [
    "import numpy as np\n",
    "import re\n"
   ]
  },
  {
   "cell_type": "code",
   "execution_count": 2,
   "metadata": {
    "ExecuteTime": {
     "end_time": "2019-12-12T20:08:52.596852Z",
     "start_time": "2019-12-12T20:08:52.593005Z"
    }
   },
   "outputs": [],
   "source": [
    "with open('12.txt', 'r') as file:\n",
    "    data = np.array([[int(re.sub('[<xyz=>]', '', s)) for s in l.strip().split(',')]\n",
    "                     for l in file])\n"
   ]
  },
  {
   "cell_type": "code",
   "execution_count": 7,
   "metadata": {
    "ExecuteTime": {
     "end_time": "2019-12-12T20:11:53.948294Z",
     "start_time": "2019-12-12T20:11:53.941813Z"
    }
   },
   "outputs": [],
   "source": [
    "def gcd(a, *args):\n",
    "    if len(args) == 0:\n",
    "        return a\n",
    "    b, *args = args\n",
    "    if b == 0:\n",
    "        return gcd(a, *args)\n",
    "    return gcd(b, a % b, *args)\n",
    "\n",
    "def lcm(a, *args):\n",
    "    if len(args) == 0:\n",
    "        return a\n",
    "    b, *args = args\n",
    "    return lcm(a * b // gcd(a, b), *args)\n",
    "\n",
    "def update(pos, vel):\n",
    "    for i in range(len(pos)):\n",
    "        for j in range(i + 1, len(pos)):\n",
    "            delta = np.sign(pos[j] - pos[i])\n",
    "            vel[i] += delta\n",
    "            vel[j] -= delta\n",
    "    pos += vel\n"
   ]
  },
  {
   "cell_type": "code",
   "execution_count": 8,
   "metadata": {
    "ExecuteTime": {
     "end_time": "2019-12-12T20:11:54.384830Z",
     "start_time": "2019-12-12T20:11:54.347521Z"
    }
   },
   "outputs": [
    {
     "data": {
      "text/plain": [
       "6423"
      ]
     },
     "execution_count": 8,
     "metadata": {},
     "output_type": "execute_result"
    }
   ],
   "source": [
    "pos = data.copy()\n",
    "vel = np.zeros(pos.shape, dtype=pos.dtype)\n",
    "\n",
    "for step in range(1000):\n",
    "    update(pos, vel)\n",
    "\n",
    "(np.abs(pos).sum(-1) * np.abs(vel).sum(-1)).sum()\n"
   ]
  },
  {
   "cell_type": "code",
   "execution_count": 9,
   "metadata": {
    "ExecuteTime": {
     "end_time": "2019-12-12T20:12:02.487761Z",
     "start_time": "2019-12-12T20:11:55.093168Z"
    }
   },
   "outputs": [
    {
     "data": {
      "text/plain": [
       "327636285682704"
      ]
     },
     "execution_count": 9,
     "metadata": {},
     "output_type": "execute_result"
    }
   ],
   "source": [
    "pos = data.copy()\n",
    "vel = np.zeros(pos.shape, dtype=pos.dtype)\n",
    "\n",
    "period = [0, 0, 0]\n",
    "step = 1\n",
    "while not all(period):\n",
    "    update(pos, vel)\n",
    "    step += 1\n",
    "    period = np.where((period == 0) * np.all(pos == data, axis=0), step, period)\n",
    "\n",
    "lcm(*period)\n"
   ]
  },
  {
   "cell_type": "code",
   "execution_count": null,
   "metadata": {},
   "outputs": [],
   "source": []
  }
 ],
 "metadata": {
  "kernelspec": {
   "display_name": "Python 3",
   "language": "python",
   "name": "python3"
  },
  "language_info": {
   "codemirror_mode": {
    "name": "ipython",
    "version": 3
   },
   "file_extension": ".py",
   "mimetype": "text/x-python",
   "name": "python",
   "nbconvert_exporter": "python",
   "pygments_lexer": "ipython3",
   "version": "3.8.0"
  }
 },
 "nbformat": 4,
 "nbformat_minor": 2
}
