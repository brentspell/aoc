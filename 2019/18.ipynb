{
 "cells": [
  {
   "cell_type": "code",
   "execution_count": 1,
   "metadata": {
    "ExecuteTime": {
     "end_time": "2019-12-19T02:05:11.144464Z",
     "start_time": "2019-12-19T02:05:11.141911Z"
    }
   },
   "outputs": [],
   "source": [
    "import heapq\n"
   ]
  },
  {
   "cell_type": "code",
   "execution_count": 2,
   "metadata": {
    "ExecuteTime": {
     "end_time": "2019-12-19T02:05:11.257167Z",
     "start_time": "2019-12-19T02:05:11.253826Z"
    }
   },
   "outputs": [],
   "source": [
    "with open('18.txt', 'r') as file:\n",
    "    data = [list(l.strip()) for l in file.readlines()]\n"
   ]
  },
  {
   "cell_type": "code",
   "execution_count": 3,
   "metadata": {
    "ExecuteTime": {
     "end_time": "2019-12-19T02:05:11.471435Z",
     "start_time": "2019-12-19T02:05:11.461799Z"
    }
   },
   "outputs": [],
   "source": [
    "def fetch(pos):\n",
    "    return data[pos[0]][pos[1]]\n",
    "\n",
    "def lookup(ch):\n",
    "    return [(i, j) \n",
    "            for i, r in enumerate(data) \n",
    "            for j, c in enumerate(r)\n",
    "            if c == ch][0]\n",
    "\n",
    "def neighbors(pos):\n",
    "    i, j = pos\n",
    "    hood = [(i - 1, j), (i + 1, j), (i, j - 1), (i, j + 1)]\n",
    "    return [n for n in hood if fetch(n) != '#']\n",
    "\n",
    "def bfs(start):\n",
    "    paths = {}\n",
    "    queue = [(start, 0, '')]\n",
    "    done = {start}\n",
    "    while queue:\n",
    "        pos, cost, doors = queue.pop(0)\n",
    "        cost += 1\n",
    "        for neighbor in neighbors(pos):\n",
    "            if neighbor not in done:\n",
    "                done.add(neighbor)\n",
    "                ch = fetch(neighbor)\n",
    "                if ch.islower():\n",
    "                    paths[ch] = (cost, frozenset(''.join(doors).lower()))\n",
    "                queue.append((neighbor, cost, doors + ch if ch.isupper() else doors))\n",
    "    return paths\n"
   ]
  },
  {
   "cell_type": "markdown",
   "metadata": {},
   "source": [
    "## Part 1"
   ]
  },
  {
   "cell_type": "code",
   "execution_count": 4,
   "metadata": {
    "ExecuteTime": {
     "end_time": "2019-12-19T02:05:12.873335Z",
     "start_time": "2019-12-19T02:05:12.182015Z"
    }
   },
   "outputs": [
    {
     "data": {
      "text/plain": [
       "4868"
      ]
     },
     "execution_count": 4,
     "metadata": {},
     "output_type": "execute_result"
    }
   ],
   "source": [
    "center = lookup('@')\n",
    "paths = {k: bfs(lookup(k))\n",
    "         for k in set(c for r in data for c in r)\n",
    "         if k.islower() or k == '@'}\n",
    "\n",
    "queue = [(0, '@', frozenset())]\n",
    "done = set()\n",
    "while queue:\n",
    "    cost, ch, keys = heapq.heappop(queue)\n",
    "    if (ch, keys) not in done:\n",
    "        done.add((ch, keys))\n",
    "        if len(keys) == len(paths) - 1:\n",
    "            break\n",
    "        for cch, (ccost, doors) in paths[ch].items():\n",
    "            if cch not in keys and len(doors - keys) == 0:\n",
    "                heapq.heappush(queue, (cost + ccost, cch, keys | frozenset(cch)))\n",
    "\n",
    "cost\n"
   ]
  },
  {
   "cell_type": "markdown",
   "metadata": {},
   "source": [
    "## Part 2"
   ]
  },
  {
   "cell_type": "code",
   "execution_count": 5,
   "metadata": {
    "ExecuteTime": {
     "end_time": "2019-12-19T02:05:15.947184Z",
     "start_time": "2019-12-19T02:05:13.187519Z"
    }
   },
   "outputs": [
    {
     "data": {
      "text/plain": [
       "1984"
      ]
     },
     "execution_count": 5,
     "metadata": {},
     "output_type": "execute_result"
    }
   ],
   "source": [
    "ci, cj = center\n",
    "data[ci - 1][cj - 1:cj + 2] = list('0#1')\n",
    "data[ci + 0][cj - 1:cj + 2] = list('###')\n",
    "data[ci + 1][cj - 1:cj + 2] = list('2#3')\n",
    "\n",
    "paths = {k: bfs(lookup(k))\n",
    "         for k in set(c for r in data for c in r)\n",
    "         if k.islower() or k in '0123'}\n",
    "\n",
    "queue = [(0, ('0', '1', '2', '3'), frozenset())]\n",
    "done = set()\n",
    "while queue:\n",
    "    cost, chs, keys = heapq.heappop(queue)\n",
    "    if (chs, keys) not in done:\n",
    "        done.add((chs, keys))\n",
    "        if len(keys) == len(paths) - 4:\n",
    "            break\n",
    "        for i in range(4):\n",
    "            for cch, (ccost, doors) in paths[chs[i]].items():\n",
    "                if cch not in keys and len(doors - keys) == 0:\n",
    "                    heapq.heappush(queue, (cost + ccost, chs[:i] + (cch,) + chs[i + 1:], keys | frozenset(cch)))\n",
    "\n",
    "cost\n"
   ]
  },
  {
   "cell_type": "code",
   "execution_count": null,
   "metadata": {},
   "outputs": [],
   "source": []
  }
 ],
 "metadata": {
  "kernelspec": {
   "display_name": "Python 3",
   "language": "python",
   "name": "python3"
  },
  "language_info": {
   "codemirror_mode": {
    "name": "ipython",
    "version": 3
   },
   "file_extension": ".py",
   "mimetype": "text/x-python",
   "name": "python",
   "nbconvert_exporter": "python",
   "pygments_lexer": "ipython3",
   "version": "3.8.0"
  }
 },
 "nbformat": 4,
 "nbformat_minor": 2
}
