{
 "cells": [
  {
   "cell_type": "code",
   "execution_count": 1,
   "metadata": {
    "ExecuteTime": {
     "end_time": "2019-12-14T18:49:10.724786Z",
     "start_time": "2019-12-14T18:49:10.722037Z"
    }
   },
   "outputs": [],
   "source": [
    "import math\n",
    "from collections import defaultdict\n"
   ]
  },
  {
   "cell_type": "code",
   "execution_count": 2,
   "metadata": {
    "ExecuteTime": {
     "end_time": "2019-12-14T18:49:11.077425Z",
     "start_time": "2019-12-14T18:49:11.072209Z"
    }
   },
   "outputs": [],
   "source": [
    "def parse(expr):\n",
    "    q, e = expr.strip().split(' ')\n",
    "    return e, int(q)\n",
    "\n",
    "with open('14.txt', 'r') as file:\n",
    "    data = {re: (rq, {le: lq \n",
    "                      for e in l.split(',')\n",
    "                      for le, lq in [parse(e)]})\n",
    "            for l in file\n",
    "            for l, r in [l.split('=>')]\n",
    "            for re, rq in [parse(r)]}\n"
   ]
  },
  {
   "cell_type": "code",
   "execution_count": 3,
   "metadata": {
    "ExecuteTime": {
     "end_time": "2019-12-14T18:49:11.709698Z",
     "start_time": "2019-12-14T18:49:11.703722Z"
    }
   },
   "outputs": [],
   "source": [
    "def cost(fuel):\n",
    "    need = defaultdict(int)\n",
    "    has = defaultdict(int)\n",
    "\n",
    "    need['FUEL'] = fuel\n",
    "    ore = 0\n",
    "    while need:\n",
    "        chem, needed = need.popitem()\n",
    "        units, ingredients = data[chem]\n",
    "        multiple = math.ceil(needed / units)\n",
    "        has[chem] += multiple * units - needed\n",
    "\n",
    "        for chem, needed in ingredients.items():\n",
    "            needed *= multiple\n",
    "            surplus = min(needed, has[chem])\n",
    "            has[chem] -= surplus\n",
    "            need[chem] += needed - surplus\n",
    "\n",
    "        ore += need.pop('ORE', 0)\n",
    "\n",
    "    return ore\n"
   ]
  },
  {
   "cell_type": "code",
   "execution_count": 4,
   "metadata": {
    "ExecuteTime": {
     "end_time": "2019-12-14T18:49:12.249536Z",
     "start_time": "2019-12-14T18:49:12.240038Z"
    }
   },
   "outputs": [
    {
     "data": {
      "text/plain": [
       "483766"
      ]
     },
     "execution_count": 4,
     "metadata": {},
     "output_type": "execute_result"
    }
   ],
   "source": [
    "cost(1)"
   ]
  },
  {
   "cell_type": "code",
   "execution_count": 5,
   "metadata": {
    "ExecuteTime": {
     "end_time": "2019-12-14T18:49:12.868735Z",
     "start_time": "2019-12-14T18:49:12.841075Z"
    }
   },
   "outputs": [
    {
     "data": {
      "text/plain": [
       "3061522"
      ]
     },
     "execution_count": 5,
     "metadata": {},
     "output_type": "execute_result"
    }
   ],
   "source": [
    "ORE = 1000000000000\n",
    "\n",
    "fuel = 1\n",
    "while cost(fuel) < ORE:\n",
    "    fuel *= 10\n",
    "\n",
    "lo = fuel // 10\n",
    "hi = fuel\n",
    "while lo < hi - 1:\n",
    "    fuel = lo + (hi - lo) // 2\n",
    "    if cost(fuel) < ORE:\n",
    "        lo = fuel\n",
    "    else:\n",
    "        hi = fuel\n",
    "\n",
    "lo\n"
   ]
  },
  {
   "cell_type": "code",
   "execution_count": null,
   "metadata": {},
   "outputs": [],
   "source": []
  }
 ],
 "metadata": {
  "kernelspec": {
   "display_name": "Python 3",
   "language": "python",
   "name": "python3"
  },
  "language_info": {
   "codemirror_mode": {
    "name": "ipython",
    "version": 3
   },
   "file_extension": ".py",
   "mimetype": "text/x-python",
   "name": "python",
   "nbconvert_exporter": "python",
   "pygments_lexer": "ipython3",
   "version": "3.8.0"
  }
 },
 "nbformat": 4,
 "nbformat_minor": 2
}
