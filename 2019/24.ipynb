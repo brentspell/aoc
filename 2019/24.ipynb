{
 "cells": [
  {
   "cell_type": "code",
   "execution_count": 1,
   "metadata": {
    "ExecuteTime": {
     "end_time": "2019-12-24T15:00:11.427744Z",
     "start_time": "2019-12-24T15:00:11.424902Z"
    }
   },
   "outputs": [],
   "source": [
    "from collections import defaultdict"
   ]
  },
  {
   "cell_type": "code",
   "execution_count": 2,
   "metadata": {
    "ExecuteTime": {
     "end_time": "2019-12-24T15:00:18.135854Z",
     "start_time": "2019-12-24T15:00:18.131695Z"
    }
   },
   "outputs": [],
   "source": [
    "with open('24.txt', 'r') as file:\n",
    "    data = [list(l.strip()) for l in file.readlines()]\n",
    "\n",
    "R = len(data)\n",
    "C = len(data[0])\n"
   ]
  },
  {
   "cell_type": "code",
   "execution_count": 3,
   "metadata": {
    "ExecuteTime": {
     "end_time": "2019-12-24T15:00:19.001600Z",
     "start_time": "2019-12-24T15:00:18.980087Z"
    }
   },
   "outputs": [
    {
     "data": {
      "text/plain": [
       "32526865"
      ]
     },
     "execution_count": 3,
     "metadata": {},
     "output_type": "execute_result"
    }
   ],
   "source": [
    "def serialize(grid):\n",
    "    return ''.join(str(grid[i, j]) for i in range(R) for j in range(C))\n",
    "    \n",
    "def neighbors(grid, i, j):\n",
    "    v = 0\n",
    "    if i > 0:\n",
    "        v += grid[i - 1, j]\n",
    "    if i < R - 1:\n",
    "        v += grid[i + 1, j]\n",
    "    if j > 0:\n",
    "        v += grid[i, j - 1]\n",
    "    if j < C - 1:\n",
    "        v += grid[i, j + 1]\n",
    "    return v\n",
    "\n",
    "grid = defaultdict(int)\n",
    "for i in range(R):\n",
    "    for j in range(C):\n",
    "        grid[i, j] = 1 if data[i][j] == '#' else 0\n",
    "grids = set()\n",
    "\n",
    "while serialize(grid) not in grids:\n",
    "    grids.add(serialize(grid))\n",
    "    grid2 = grid.copy()\n",
    "    for i in range(R):\n",
    "        for j in range(C):\n",
    "            if grid[i, j] == 1 and neighbors(grid, i, j) != 1:\n",
    "                grid2[i, j] = 0\n",
    "            if grid[i, j] == 0 and neighbors(grid, i, j) in [1, 2]:\n",
    "                grid2[i, j] = 1\n",
    "    grid = grid2\n",
    "\n",
    "b = 0\n",
    "p = 1\n",
    "for i in range(R):\n",
    "    for j in range(C):\n",
    "        b += p * grid[i, j]\n",
    "        p *= 2\n",
    "\n",
    "b\n"
   ]
  },
  {
   "cell_type": "code",
   "execution_count": 4,
   "metadata": {
    "ExecuteTime": {
     "end_time": "2019-12-24T15:00:24.812523Z",
     "start_time": "2019-12-24T15:00:22.862317Z"
    }
   },
   "outputs": [
    {
     "data": {
      "text/plain": [
       "2009"
      ]
     },
     "execution_count": 4,
     "metadata": {},
     "output_type": "execute_result"
    }
   ],
   "source": [
    "def neighbors(grid, i, j, k):\n",
    "    v = 0\n",
    "    # deeper\n",
    "    if (i, j) == (1, 2):\n",
    "        v += sum(grid[0, j, k + 1] for j in range(C))\n",
    "    if (i, j) == (3, 2):\n",
    "        v += sum(grid[R - 1, j, k + 1] for j in range(C))\n",
    "    if (i, j) == (2, 1):\n",
    "        v += sum(grid[i, 0, k + 1] for i in range(R))\n",
    "    if (i, j) == (2, 3):\n",
    "        v += sum(grid[i, C - 1, k + 1] for i in range(R))\n",
    "    # shallower\n",
    "    if i == 0:\n",
    "        v += grid[1, 2, k - 1]\n",
    "    if i == R - 1:\n",
    "        v += grid[3, 2, k - 1]\n",
    "    if j == 0:\n",
    "        v += grid[2, 1, k - 1]\n",
    "    if j == C - 1:\n",
    "        v += grid[2, 3, k - 1]\n",
    "    # same level\n",
    "    if i > 0:\n",
    "        v += grid[i - 1, j, k]\n",
    "    if i < R - 1:\n",
    "        v += grid[i + 1, j, k]\n",
    "    if j > 0:\n",
    "        v += grid[i, j - 1, k]\n",
    "    if j < C - 1:\n",
    "        v += grid[i, j + 1, k]\n",
    "    return v\n",
    "\n",
    "grid = defaultdict(int)\n",
    "for i in range(R):\n",
    "    for j in range(C):\n",
    "        if (i, j) != (2, 2):\n",
    "            grid[i, j, 0] = 1 if data[i][j] == '#' else 0\n",
    "\n",
    "for K in range(1, 201):\n",
    "    grid2 = grid.copy()\n",
    "    for k in range(-K, K + 1):\n",
    "        for i in range(R):\n",
    "            for j in range(C):\n",
    "                if (i, j) != (2, 2):\n",
    "                    if grid[i, j, k] == 1 and neighbors(grid, i, j, k) != 1:\n",
    "                        grid2[i, j, k] = 0\n",
    "                    if grid[i, j, k] == 0 and neighbors(grid, i, j, k) in [1, 2]:\n",
    "                        grid2[i, j, k] = 1\n",
    "    grid = grid2\n",
    "\n",
    "sum(grid.values())\n"
   ]
  },
  {
   "cell_type": "code",
   "execution_count": null,
   "metadata": {},
   "outputs": [],
   "source": []
  }
 ],
 "metadata": {
  "kernelspec": {
   "display_name": "Python 3",
   "language": "python",
   "name": "python3"
  },
  "language_info": {
   "codemirror_mode": {
    "name": "ipython",
    "version": 3
   },
   "file_extension": ".py",
   "mimetype": "text/x-python",
   "name": "python",
   "nbconvert_exporter": "python",
   "pygments_lexer": "ipython3",
   "version": "3.8.0"
  }
 },
 "nbformat": 4,
 "nbformat_minor": 2
}
