{
 "cells": [
  {
   "cell_type": "code",
   "execution_count": 3,
   "metadata": {
    "ExecuteTime": {
     "end_time": "2019-12-23T13:06:37.911469Z",
     "start_time": "2019-12-23T13:06:37.907128Z"
    }
   },
   "outputs": [],
   "source": [
    "with open('23.txt', 'r') as file:\n",
    "    data = [int(s) for s in file.read().split(',')]\n"
   ]
  },
  {
   "cell_type": "code",
   "execution_count": 9,
   "metadata": {
    "ExecuteTime": {
     "end_time": "2019-12-23T13:12:35.110013Z",
     "start_time": "2019-12-23T13:12:35.090488Z"
    }
   },
   "outputs": [],
   "source": [
    "class Halt(Exception):\n",
    "    pass\n",
    "\n",
    "\n",
    "class VM:\n",
    "    def __init__(self, memory, inputs, outputs):\n",
    "        self.ops = {1: self.add, \n",
    "                    2: self.mul, \n",
    "                    3: self.input_, \n",
    "                    4: self.output, \n",
    "                    5: self.jnz,\n",
    "                    6: self.jz,\n",
    "                    7: self.lt,\n",
    "                    8: self.eq,\n",
    "                    9: self.rbo,\n",
    "                    99: self.hcf}\n",
    "        self.memory = memory\n",
    "        self.pointer = 0\n",
    "        self.base = 0\n",
    "        self.inputs = inputs\n",
    "        self.outputs = outputs\n",
    "\n",
    "    def run(self):\n",
    "        while self.step():\n",
    "            pass\n",
    "        \n",
    "    def step(self):\n",
    "        try:\n",
    "            self.ops[self.read(self.pointer) % 100]()\n",
    "        except Halt:\n",
    "            return False\n",
    "\n",
    "    def add(self):\n",
    "        a, b, c = self.decode(3)\n",
    "        self.write(c, self.read(a) + self.read(b))\n",
    "\n",
    "    def mul(self):\n",
    "        a, b, c = self.decode(3)\n",
    "        self.write(c, self.read(a) * self.read(b))\n",
    "\n",
    "    def input_(self):\n",
    "        a, = self.decode(1)\n",
    "        self.write(a, self.inputs.pop(0) if self.inputs else -1)\n",
    "\n",
    "    def output(self):\n",
    "        a, = self.decode(1)\n",
    "        self.outputs.append(self.read(a))\n",
    "\n",
    "    def jnz(self):\n",
    "        a, b = self.decode(2)\n",
    "        if self.read(a) != 0:\n",
    "            self.pointer = self.read(b)\n",
    "\n",
    "    def jz(self):\n",
    "        a, b = self.decode(2)\n",
    "        if self.read(a) == 0:\n",
    "            self.pointer = self.read(b)\n",
    "\n",
    "    def lt(self):\n",
    "        a, b, c = self.decode(3)\n",
    "        self.write(c, 1 if self.read(a) < self.read(b) else 0)\n",
    "\n",
    "    def eq(self):\n",
    "        a, b, c = self.decode(3)\n",
    "        self.write(c, 1 if self.read(a) == self.read(b) else 0)\n",
    "        \n",
    "    def rbo(self):\n",
    "        a, = self.decode(1)\n",
    "        self.base += self.read(a)\n",
    "\n",
    "    def hcf(self):\n",
    "        raise Halt()\n",
    "\n",
    "    def decode(self, count):\n",
    "        mode = self.read(self.pointer) // 100\n",
    "        self.pointer += 1\n",
    "\n",
    "        params = []\n",
    "        for i in range(count):\n",
    "            value = self.pointer\n",
    "            if mode % 10 == 0:\n",
    "                value = self.read(value)\n",
    "            elif mode % 10 == 2:\n",
    "                value = self.base + self.read(value)\n",
    "            params.append(value)\n",
    "            self.pointer += 1\n",
    "            mode //= 10\n",
    "        return params\n",
    "    \n",
    "    def read(self, offset):\n",
    "        self.extend(offset)\n",
    "        return self.memory[offset]\n",
    "    \n",
    "    def write(self, offset, value):\n",
    "        self.extend(offset)\n",
    "        self.memory[offset] = value\n",
    "    \n",
    "    def extend(self, offset):\n",
    "        if offset >= len(self.memory):\n",
    "            self.memory.extend([0] * (offset - len(self.memory) + 1))\n"
   ]
  },
  {
   "cell_type": "markdown",
   "metadata": {},
   "source": [
    "## Part 1"
   ]
  },
  {
   "cell_type": "code",
   "execution_count": 10,
   "metadata": {
    "ExecuteTime": {
     "end_time": "2019-12-23T13:12:35.477883Z",
     "start_time": "2019-12-23T13:12:35.209193Z"
    }
   },
   "outputs": [
    {
     "data": {
      "text/plain": [
       "26744"
      ]
     },
     "execution_count": 10,
     "metadata": {},
     "output_type": "execute_result"
    }
   ],
   "source": [
    "vms = [VM(data.copy(), inputs=[i], outputs=[]) for i in range(50)]\n",
    "\n",
    "result = None\n",
    "while result is None:\n",
    "    for vm in vms:\n",
    "        vm.step()\n",
    "        while len(vm.outputs) >= 3:\n",
    "            addr, x, y = [vm.outputs.pop(0) for _ in range(3)]\n",
    "            if addr == 255:\n",
    "                result = y\n",
    "            if addr < len(vms):\n",
    "                vms[addr].inputs.append(x)\n",
    "                vms[addr].inputs.append(y)\n",
    "\n",
    "result\n"
   ]
  },
  {
   "cell_type": "markdown",
   "metadata": {},
   "source": [
    "## Part 2"
   ]
  },
  {
   "cell_type": "code",
   "execution_count": 21,
   "metadata": {
    "ExecuteTime": {
     "end_time": "2019-12-23T13:23:35.630438Z",
     "start_time": "2019-12-23T13:23:17.895105Z"
    }
   },
   "outputs": [
    {
     "data": {
      "text/plain": [
       "19498"
      ]
     },
     "execution_count": 21,
     "metadata": {},
     "output_type": "execute_result"
    }
   ],
   "source": [
    "vms = [VM(data.copy(), inputs=[i], outputs=[]) for i in range(50)]\n",
    "\n",
    "old = (0, 0)\n",
    "nat = (None, None)\n",
    "none = 0\n",
    "while True:\n",
    "    none += 1\n",
    "    for vm in vms:\n",
    "        vm.step()\n",
    "        while len(vm.outputs) >= 3:\n",
    "            none = 0\n",
    "            addr, x, y = [vm.outputs.pop(0) for _ in range(3)]\n",
    "            if addr == 255:\n",
    "                nat = (x, y)\n",
    "            if addr < len(vms):\n",
    "                vms[addr].inputs.append(x)\n",
    "                vms[addr].inputs.append(y)\n",
    "    if none == 1000:\n",
    "        vms[0].inputs.append(nat[0])\n",
    "        vms[0].inputs.append(nat[1])\n",
    "        if nat == old:\n",
    "            break\n",
    "        old = nat\n",
    "\n",
    "nat[1]\n"
   ]
  },
  {
   "cell_type": "code",
   "execution_count": null,
   "metadata": {},
   "outputs": [],
   "source": []
  }
 ],
 "metadata": {
  "kernelspec": {
   "display_name": "Python 3",
   "language": "python",
   "name": "python3"
  },
  "language_info": {
   "codemirror_mode": {
    "name": "ipython",
    "version": 3
   },
   "file_extension": ".py",
   "mimetype": "text/x-python",
   "name": "python",
   "nbconvert_exporter": "python",
   "pygments_lexer": "ipython3",
   "version": "3.8.0"
  }
 },
 "nbformat": 4,
 "nbformat_minor": 2
}
