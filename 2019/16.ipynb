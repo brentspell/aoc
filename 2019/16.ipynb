{
 "cells": [
  {
   "cell_type": "code",
   "execution_count": 2,
   "metadata": {
    "ExecuteTime": {
     "end_time": "2019-12-17T04:22:24.257170Z",
     "start_time": "2019-12-17T04:22:24.253712Z"
    }
   },
   "outputs": [],
   "source": [
    "with open('16.txt', 'r') as file:\n",
    "    data = [int(x) for x in file.read()]\n"
   ]
  },
  {
   "cell_type": "markdown",
   "metadata": {},
   "source": [
    "## Part 1"
   ]
  },
  {
   "cell_type": "code",
   "execution_count": 3,
   "metadata": {
    "ExecuteTime": {
     "end_time": "2019-12-17T04:22:42.684239Z",
     "start_time": "2019-12-17T04:22:25.223480Z"
    }
   },
   "outputs": [
    {
     "data": {
      "application/vnd.jupyter.widget-view+json": {
       "model_id": "c9b694a2a0744f07a5b7acd6808b6170",
       "version_major": 2,
       "version_minor": 0
      },
      "text/plain": [
       "HBox(children=(FloatProgress(value=0.0), HTML(value='')))"
      ]
     },
     "metadata": {},
     "output_type": "display_data"
    },
    {
     "name": "stdout",
     "output_type": "stream",
     "text": [
      "\n"
     ]
    },
    {
     "data": {
      "text/plain": [
       "[8, 9, 5, 7, 6, 8, 2, 8]"
      ]
     },
     "execution_count": 3,
     "metadata": {},
     "output_type": "execute_result"
    }
   ],
   "source": [
    "input_ = data.copy()\n",
    "pattern = [0, 1, 0, -1] * len(input_)\n",
    "patterns = [[p for p in pattern for _ in range(j + 1)][1:][:len(input_)]\n",
    "            for j in range(len(input_))]\n",
    "\n",
    "for _ in tqdm(range(100)):\n",
    "    output = [0] * len(input_)\n",
    "    for j in range(len(input_)):\n",
    "        output[j] = abs(sum(i * p for i, p in zip(input_, patterns[j]))) % 10\n",
    "    input_ = output\n",
    "\n",
    "output[:8]\n"
   ]
  },
  {
   "cell_type": "markdown",
   "metadata": {
    "ExecuteTime": {
     "end_time": "2019-12-17T03:53:02.473612Z",
     "start_time": "2019-12-17T03:53:01.198487Z"
    }
   },
   "source": [
    "## Part 2"
   ]
  },
  {
   "cell_type": "code",
   "execution_count": 4,
   "metadata": {
    "ExecuteTime": {
     "end_time": "2019-12-17T04:23:47.450736Z",
     "start_time": "2019-12-17T04:23:20.488632Z"
    }
   },
   "outputs": [
    {
     "data": {
      "text/plain": [
       "[2, 3, 7, 5, 2, 5, 7, 9]"
      ]
     },
     "execution_count": 4,
     "metadata": {},
     "output_type": "execute_result"
    }
   ],
   "source": [
    "input_ = data.copy()\n",
    "\n",
    "pos = int(''.join(str(d) for d in input_[:7]))\n",
    "\n",
    "output = input_[pos % len(input_):]\n",
    "output += input_ * ((len(input_) * 10000  - pos) // len(input_))\n",
    "\n",
    "for _ in range(100):\n",
    "    for j in range(len(output) - 1):\n",
    "        output[len(output) - 2 - j] += output[len(output) - 1 - j]\n",
    "    for i in range(len(output)):\n",
    "        output[i] = abs(output[i]) % 10\n",
    "\n",
    "output[:8]\n"
   ]
  },
  {
   "cell_type": "code",
   "execution_count": null,
   "metadata": {},
   "outputs": [],
   "source": []
  }
 ],
 "metadata": {
  "kernelspec": {
   "display_name": "Python 3",
   "language": "python",
   "name": "python3"
  },
  "language_info": {
   "codemirror_mode": {
    "name": "ipython",
    "version": 3
   },
   "file_extension": ".py",
   "mimetype": "text/x-python",
   "name": "python",
   "nbconvert_exporter": "python",
   "pygments_lexer": "ipython3",
   "version": "3.8.0"
  }
 },
 "nbformat": 4,
 "nbformat_minor": 2
}
