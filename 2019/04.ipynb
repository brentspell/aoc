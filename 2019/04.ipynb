{
 "cells": [
  {
   "cell_type": "markdown",
   "metadata": {},
   "source": [
    "## Part 1\n"
   ]
  },
  {
   "cell_type": "code",
   "execution_count": 26,
   "metadata": {
    "ExecuteTime": {
     "end_time": "2019-12-04T13:40:17.836938Z",
     "start_time": "2019-12-04T13:40:17.512666Z"
    }
   },
   "outputs": [
    {
     "data": {
      "text/plain": [
       "1154"
      ]
     },
     "execution_count": 26,
     "metadata": {},
     "output_type": "execute_result"
    }
   ],
   "source": [
    "count = 0\n",
    "for i in range(240920, 789857):\n",
    "    a = '0'\n",
    "    m = True\n",
    "    p = False\n",
    "    for b in str(i):\n",
    "        if b < a:\n",
    "            m = False\n",
    "            break\n",
    "        if b == a:\n",
    "            p = True\n",
    "        a = b\n",
    "    if m and p:\n",
    "        count += 1\n",
    "\n",
    "count\n"
   ]
  },
  {
   "cell_type": "markdown",
   "metadata": {},
   "source": [
    "## Part 2"
   ]
  },
  {
   "cell_type": "code",
   "execution_count": 51,
   "metadata": {
    "ExecuteTime": {
     "end_time": "2019-12-04T14:17:39.559949Z",
     "start_time": "2019-12-04T14:17:39.076670Z"
    }
   },
   "outputs": [
    {
     "data": {
      "text/plain": [
       "750"
      ]
     },
     "execution_count": 51,
     "metadata": {},
     "output_type": "execute_result"
    }
   ],
   "source": [
    "count = 0\n",
    "for i in range(240920, 789857):\n",
    "    a = '0'\n",
    "    b = '1'\n",
    "    m = True\n",
    "    p = False\n",
    "    q = False\n",
    "    for c in str(i):\n",
    "        if c < b:\n",
    "            m = False\n",
    "            break\n",
    "        if a != b and b == c:\n",
    "            p = True\n",
    "        if a == b and b == c:\n",
    "            p = False\n",
    "        if a == b and b != c and p:\n",
    "            q = True\n",
    "        a = b\n",
    "        b = c\n",
    "    if m and (p or q):\n",
    "        count += 1\n",
    "\n",
    "count\n"
   ]
  },
  {
   "cell_type": "code",
   "execution_count": null,
   "metadata": {},
   "outputs": [],
   "source": []
  }
 ],
 "metadata": {
  "kernelspec": {
   "display_name": "Python 3",
   "language": "python",
   "name": "python3"
  },
  "language_info": {
   "codemirror_mode": {
    "name": "ipython",
    "version": 3
   },
   "file_extension": ".py",
   "mimetype": "text/x-python",
   "name": "python",
   "nbconvert_exporter": "python",
   "pygments_lexer": "ipython3",
   "version": "3.8.0"
  }
 },
 "nbformat": 4,
 "nbformat_minor": 2
}
