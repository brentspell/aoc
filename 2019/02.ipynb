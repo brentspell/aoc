{
 "cells": [
  {
   "cell_type": "code",
   "execution_count": 29,
   "metadata": {
    "ExecuteTime": {
     "end_time": "2019-12-02T15:24:00.256602Z",
     "start_time": "2019-12-02T15:24:00.249563Z"
    }
   },
   "outputs": [],
   "source": [
    "import jax, jax.numpy as np\n",
    "from tqdm.notebook import tqdm"
   ]
  },
  {
   "cell_type": "code",
   "execution_count": 2,
   "metadata": {
    "ExecuteTime": {
     "end_time": "2019-12-02T15:15:05.218203Z",
     "start_time": "2019-12-02T15:15:05.214233Z"
    }
   },
   "outputs": [],
   "source": [
    "with open('02.txt', 'r') as file:\n",
    "    data = [int(s) for s in file.read().split(',')]\n"
   ]
  },
  {
   "cell_type": "code",
   "execution_count": 25,
   "metadata": {
    "ExecuteTime": {
     "end_time": "2019-12-02T15:23:01.658696Z",
     "start_time": "2019-12-02T15:23:01.653650Z"
    }
   },
   "outputs": [],
   "source": [
    "class Halt(Exception):\n",
    "    pass\n",
    "\n",
    "def add(m, ip):\n",
    "    i, j, k = m[ip + 1:][:3]\n",
    "    m[k] = m[i] + m[j]\n",
    "\n",
    "def mul(m, ip):\n",
    "    i, j, k = m[ip + 1:][:3]\n",
    "    m[k] = m[i] * m[j]\n",
    "\n",
    "def hcf(m, ip):\n",
    "    raise Halt\n",
    "\n",
    "OPS = {1: add, 2: mul, 99: hcf}\n",
    "\n",
    "def run(mem):\n",
    "    try:\n",
    "        ip = 0\n",
    "        while True:\n",
    "            op = OPS[mem[ip]]\n",
    "            op(mem, ip)\n",
    "            ip += 4\n",
    "    except Halt:\n",
    "        return mem[0]\n"
   ]
  },
  {
   "cell_type": "markdown",
   "metadata": {},
   "source": [
    "## Part 1\n"
   ]
  },
  {
   "cell_type": "code",
   "execution_count": 26,
   "metadata": {
    "ExecuteTime": {
     "end_time": "2019-12-02T15:23:02.724140Z",
     "start_time": "2019-12-02T15:23:02.719718Z"
    }
   },
   "outputs": [
    {
     "data": {
      "text/plain": [
       "6730673"
      ]
     },
     "execution_count": 26,
     "metadata": {},
     "output_type": "execute_result"
    }
   ],
   "source": [
    "mem = data.copy()\n",
    "mem[1] = 12\n",
    "mem[2] = 2\n",
    "run(mem)\n"
   ]
  },
  {
   "cell_type": "markdown",
   "metadata": {},
   "source": [
    "## Part 2"
   ]
  },
  {
   "cell_type": "code",
   "execution_count": 34,
   "metadata": {
    "ExecuteTime": {
     "end_time": "2019-12-02T15:24:46.123979Z",
     "start_time": "2019-12-02T15:24:46.036209Z"
    }
   },
   "outputs": [
    {
     "data": {
      "text/plain": [
       "3749"
      ]
     },
     "execution_count": 34,
     "metadata": {},
     "output_type": "execute_result"
    }
   ],
   "source": [
    "for a, b in ((a, b) for a in range(100) for b in range(100)):\n",
    "    mem = data.copy()\n",
    "    mem[1] = a\n",
    "    mem[2] = b\n",
    "    if run(mem) == 19690720:\n",
    "        break\n",
    "\n",
    "100 * a + b\n"
   ]
  }
 ],
 "metadata": {
  "kernelspec": {
   "display_name": "Python 3",
   "language": "python",
   "name": "python3"
  },
  "language_info": {
   "codemirror_mode": {
    "name": "ipython",
    "version": 3
   },
   "file_extension": ".py",
   "mimetype": "text/x-python",
   "name": "python",
   "nbconvert_exporter": "python",
   "pygments_lexer": "ipython3",
   "version": "3.8.0"
  }
 },
 "nbformat": 4,
 "nbformat_minor": 2
}
