{
 "cells": [
  {
   "cell_type": "code",
   "execution_count": 1,
   "metadata": {
    "ExecuteTime": {
     "end_time": "2019-12-17T13:31:47.668607Z",
     "start_time": "2019-12-17T13:31:47.664953Z"
    }
   },
   "outputs": [],
   "source": [
    "with open('17.txt', 'r') as file:\n",
    "    data = [int(s) for s in file.read().split(',')]\n"
   ]
  },
  {
   "cell_type": "code",
   "execution_count": 2,
   "metadata": {
    "ExecuteTime": {
     "end_time": "2019-12-17T13:31:47.818154Z",
     "start_time": "2019-12-17T13:31:47.798792Z"
    }
   },
   "outputs": [],
   "source": [
    "class Halt(Exception):\n",
    "    pass\n",
    "\n",
    "\n",
    "class Yield(Exception):\n",
    "    pass\n",
    "\n",
    "\n",
    "class VM:\n",
    "    def __init__(self, memory, inputs, outputs):\n",
    "        self.ops = {1: self.add, \n",
    "                    2: self.mul, \n",
    "                    3: self.input_, \n",
    "                    4: self.output, \n",
    "                    5: self.jnz,\n",
    "                    6: self.jz,\n",
    "                    7: self.lt,\n",
    "                    8: self.eq,\n",
    "                    9: self.rbo,\n",
    "                    99: self.hcf}\n",
    "        self.memory = memory\n",
    "        self.pointer = 0\n",
    "        self.base = 0\n",
    "        self.inputs = inputs\n",
    "        self.outputs = outputs\n",
    "\n",
    "    def run(self):\n",
    "        while self.step():\n",
    "            pass\n",
    "        \n",
    "    def step(self):\n",
    "        try:\n",
    "            while True:\n",
    "                self.ops[self.read(self.pointer) % 100]()\n",
    "        except Yield:\n",
    "            return True\n",
    "        except Halt:\n",
    "            return False\n",
    "\n",
    "    def add(self):\n",
    "        a, b, c = self.decode(3)\n",
    "        self.write(c, self.read(a) + self.read(b))\n",
    "\n",
    "    def mul(self):\n",
    "        a, b, c = self.decode(3)\n",
    "        self.write(c, self.read(a) * self.read(b))\n",
    "\n",
    "    def input_(self):\n",
    "        a, = self.decode(1)\n",
    "        self.write(a, self.inputs.pop(0))\n",
    "\n",
    "    def output(self):\n",
    "        a, = self.decode(1)\n",
    "        self.outputs.append(self.read(a))\n",
    "        raise Yield()\n",
    "\n",
    "    def jnz(self):\n",
    "        a, b = self.decode(2)\n",
    "        if self.read(a) != 0:\n",
    "            self.pointer = self.read(b)\n",
    "\n",
    "    def jz(self):\n",
    "        a, b = self.decode(2)\n",
    "        if self.read(a) == 0:\n",
    "            self.pointer = self.read(b)\n",
    "\n",
    "    def lt(self):\n",
    "        a, b, c = self.decode(3)\n",
    "        self.write(c, 1 if self.read(a) < self.read(b) else 0)\n",
    "\n",
    "    def eq(self):\n",
    "        a, b, c = self.decode(3)\n",
    "        self.write(c, 1 if self.read(a) == self.read(b) else 0)\n",
    "        \n",
    "    def rbo(self):\n",
    "        a, = self.decode(1)\n",
    "        self.base += self.read(a)\n",
    "\n",
    "    def hcf(self):\n",
    "        raise Halt()\n",
    "\n",
    "    def decode(self, count):\n",
    "        mode = self.read(self.pointer) // 100\n",
    "        self.pointer += 1\n",
    "\n",
    "        params = []\n",
    "        for i in range(count):\n",
    "            value = self.pointer\n",
    "            if mode % 10 == 0:\n",
    "                value = self.read(value)\n",
    "            elif mode % 10 == 2:\n",
    "                value = self.base + self.read(value)\n",
    "            params.append(value)\n",
    "            self.pointer += 1\n",
    "            mode //= 10\n",
    "        return params\n",
    "    \n",
    "    def read(self, offset):\n",
    "        self.extend(offset)\n",
    "        return self.memory[offset]\n",
    "    \n",
    "    def write(self, offset, value):\n",
    "        self.extend(offset)\n",
    "        self.memory[offset] = value\n",
    "    \n",
    "    def extend(self, offset):\n",
    "        if offset >= len(self.memory):\n",
    "            self.memory.extend([0] * (offset - len(self.memory) + 1))\n"
   ]
  },
  {
   "cell_type": "code",
   "execution_count": 40,
   "metadata": {
    "ExecuteTime": {
     "end_time": "2019-12-17T14:04:28.711400Z",
     "start_time": "2019-12-17T14:04:28.699431Z"
    }
   },
   "outputs": [
    {
     "data": {
      "text/plain": [
       "8520"
      ]
     },
     "execution_count": 40,
     "metadata": {},
     "output_type": "execute_result"
    }
   ],
   "source": [
    "ORIENT = {('^', '>'): '>',\n",
    "          ('v', '<'): '>',\n",
    "          ('v', '>'): '<',\n",
    "          ('^', '<'): '<',\n",
    "          ('<', '>'): '^',\n",
    "          ('>', '<'): '^',\n",
    "          ('>', '>'): 'v', \n",
    "          ('<', '<'): 'v'}\n",
    "MOVE: {'^': lambda pos: (pos[0] - 1, pos[1]),\n",
    "       'v': lambda pos: (pos[0] + 1, pos[1]),\n",
    "       '<': lambda pos: (pos[0], pos[1] - 1),\n",
    "       '>': lambda pos: (pos[0], pos[1] + 1)}\n",
    "\n",
    "scaf = set()\n",
    "i, j = start\n",
    "prev = None\n",
    "align = 0\n",
    "while pos != prev:\n",
    "    prev = i, j\n",
    "    if (i - 1, j) not in scaf:\n",
    "        while i - 1 >= 0 and map_[i - 1][j] == '#':\n",
    "            i -= 1\n",
    "            if (i, j) in scaf: align += i * j\n",
    "            scaf.add((i, j))\n",
    "    if (i + 1, j) not in scaf:\n",
    "        while i + 1 < len(map_) and map_[i + 1][j] == '#':\n",
    "            i += 1\n",
    "            if (i, j) in scaf: align += i * j\n",
    "            scaf.add((i, j))\n",
    "    if (i, j - 1) not in scaf:\n",
    "        while j - 1 >= 0 and map_[i][j - 1] == '#':\n",
    "            j -= 1\n",
    "            if (i, j) in scaf: align += i * j\n",
    "            scaf.add((i, j))\n",
    "    if (i, j + 1) not in scaf:\n",
    "        while j + 1 < len(map_[i]) and map_[i][j + 1] == '#':\n",
    "            j += 1\n",
    "            if (i, j) in scaf: align += i * j\n",
    "            scaf.add((i, j))\n",
    "\n",
    "align\n"
   ]
  },
  {
   "cell_type": "code",
   "execution_count": 77,
   "metadata": {
    "ExecuteTime": {
     "end_time": "2019-12-17T15:13:33.367669Z",
     "start_time": "2019-12-17T15:13:33.355368Z"
    }
   },
   "outputs": [
    {
     "name": "stdout",
     "output_type": "stream",
     "text": [
      "R6L8R8R6L8R8R4R6R6R4R4L8R6L10L10R4R6R6R4R4L8R6L10L10R4R6R6R4R4L8R6L10L10R6L8R8L8R6L10L10\n",
      "8520\n"
     ]
    }
   ],
   "source": [
    "ORIENT = {('^', '>'): '>',\n",
    "          ('v', '<'): '>',\n",
    "          ('v', '>'): '<',\n",
    "          ('^', '<'): '<',\n",
    "          ('<', '>'): '^',\n",
    "          ('>', '<'): '^',\n",
    "          ('>', '>'): 'v', \n",
    "          ('<', '<'): 'v'}\n",
    "MOVE = {'^': lambda pos: (pos[0] - 1, pos[1]),\n",
    "        'v': lambda pos: (pos[0] + 1, pos[1]),\n",
    "        '<': lambda pos: (pos[0], pos[1] - 1),\n",
    "        '>': lambda pos: (pos[0], pos[1] + 1)}\n",
    "TURN = {'<': 'L', '>': 'R'}\n",
    "\n",
    "def read(pos):\n",
    "    i, j = pos\n",
    "    if i >= 0 and i < len(map_):\n",
    "        if j >= 0 and j < len(map_[i]):\n",
    "            return map_[i][j]\n",
    "    return '.'\n",
    "    \n",
    "    \n",
    "scaf = set()\n",
    "pos = start\n",
    "orient = read(start)\n",
    "prev = None\n",
    "align = 0\n",
    "program = ''\n",
    "while pos != prev:\n",
    "    prev = pos\n",
    "    for turn in '<>':\n",
    "        reorient = ORIENT[(orient, turn)]\n",
    "        move = MOVE[reorient](pos)\n",
    "        if move not in scaf:\n",
    "            c = 0\n",
    "            while read(move) == '#':\n",
    "                c += 1\n",
    "                orient = reorient\n",
    "                pos = move\n",
    "                if pos in scaf: align += pos[0] * pos[1]\n",
    "                scaf.add(pos)\n",
    "                move = MOVE[orient](pos)\n",
    "            if c > 0:\n",
    "                program += f'{TURN[turn]}{c}'\n",
    "\n",
    "print(program)\n",
    "print(align)\n"
   ]
  },
  {
   "cell_type": "code",
   "execution_count": 76,
   "metadata": {
    "ExecuteTime": {
     "end_time": "2019-12-17T15:13:19.112396Z",
     "start_time": "2019-12-17T15:13:18.762901Z"
    }
   },
   "outputs": [
    {
     "data": {
      "text/plain": [
       "926819"
      ]
     },
     "execution_count": 76,
     "metadata": {},
     "output_type": "execute_result"
    }
   ],
   "source": [
    "inputs = []\n",
    "outputs = []\n",
    "vm = VM(data.copy(), inputs, outputs)\n",
    "vm.memory[0] = 2\n",
    "\n",
    "program = \"\"\"A,A,B,C,B,C,B,C,A,C\n",
    "R,6,L,8,R,8\n",
    "R,4,R,6,R,6,R,4,R,4\n",
    "L,8,R,6,L,10,L,10\n",
    "n\n",
    "\"\"\"\n",
    "inputs += [ord(c) for c in program]\n",
    "\n",
    "vm.run()\n",
    "\n",
    "outputs[-1]\n"
   ]
  },
  {
   "cell_type": "code",
   "execution_count": null,
   "metadata": {},
   "outputs": [],
   "source": []
  }
 ],
 "metadata": {
  "kernelspec": {
   "display_name": "Python 3",
   "language": "python",
   "name": "python3"
  },
  "language_info": {
   "codemirror_mode": {
    "name": "ipython",
    "version": 3
   },
   "file_extension": ".py",
   "mimetype": "text/x-python",
   "name": "python",
   "nbconvert_exporter": "python",
   "pygments_lexer": "ipython3",
   "version": "3.8.0"
  }
 },
 "nbformat": 4,
 "nbformat_minor": 2
}
