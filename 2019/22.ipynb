{
 "cells": [
  {
   "cell_type": "code",
   "execution_count": 4,
   "metadata": {
    "ExecuteTime": {
     "end_time": "2019-12-22T22:10:43.594669Z",
     "start_time": "2019-12-22T22:10:43.592327Z"
    }
   },
   "outputs": [],
   "source": [
    "import re"
   ]
  },
  {
   "cell_type": "code",
   "execution_count": 5,
   "metadata": {
    "ExecuteTime": {
     "end_time": "2019-12-22T22:10:43.713217Z",
     "start_time": "2019-12-22T22:10:43.710239Z"
    }
   },
   "outputs": [],
   "source": [
    "with open('22.txt', 'r') as file:\n",
    "    data = [s.strip() for s in file]\n"
   ]
  },
  {
   "cell_type": "markdown",
   "metadata": {},
   "source": [
    "## Part 1"
   ]
  },
  {
   "cell_type": "code",
   "execution_count": 6,
   "metadata": {
    "ExecuteTime": {
     "end_time": "2019-12-22T22:10:44.620180Z",
     "start_time": "2019-12-22T22:10:44.527382Z"
    }
   },
   "outputs": [
    {
     "data": {
      "text/plain": [
       "3939"
      ]
     },
     "execution_count": 6,
     "metadata": {},
     "output_type": "execute_result"
    }
   ],
   "source": [
    "def reverse(d):\n",
    "    return d[::-1]\n",
    "\n",
    "def cut(d, n):\n",
    "    n = int(n)\n",
    "    return d[n:] + d[:n]\n",
    "\n",
    "def deal(d, n):\n",
    "    n = int(n)\n",
    "    o = [None] * len(d)\n",
    "    for i in range(len(d)):\n",
    "        o[i * n % len(d)] = d[i]\n",
    "    return o\n",
    "\n",
    "SHUFFLES = {r'^deal into new stack$': reverse,\n",
    "            r'^cut (-?[0-9]+)$': cut,\n",
    "            r'^deal with increment ([0-9]+)$': deal}\n",
    "\n",
    "c = 10007\n",
    "d = list(range(c))\n",
    "for l in data:\n",
    "    for r, s in SHUFFLES.items():\n",
    "        if (m := re.match(r, l)):\n",
    "            d = s(d, *m.groups())\n",
    "            break\n",
    "\n",
    "d.index(2019)\n"
   ]
  },
  {
   "cell_type": "markdown",
   "metadata": {},
   "source": [
    "## Part 2"
   ]
  },
  {
   "cell_type": "code",
   "execution_count": 12,
   "metadata": {
    "ExecuteTime": {
     "end_time": "2019-12-22T22:12:55.712246Z",
     "start_time": "2019-12-22T22:12:55.697158Z"
    }
   },
   "outputs": [
    {
     "data": {
      "text/plain": [
       "55574110161534"
      ]
     },
     "execution_count": 12,
     "metadata": {},
     "output_type": "execute_result"
    }
   ],
   "source": [
    "modulus = 119315717514047\n",
    "exponent = 101741582076661\n",
    "\n",
    "def egcd(a, b):\n",
    "    if a == 0:\n",
    "        return (b, 0, 1)\n",
    "    else:\n",
    "        g, y, x = egcd(b % a, a)\n",
    "        return (g, x - (b // a) * y, y)\n",
    "\n",
    "def modinv(a, m):\n",
    "    g, x, y = egcd(a, m)\n",
    "    if g != 1:\n",
    "        raise Exception('modular inverse does not exist')\n",
    "    else:\n",
    "        return x % m\n",
    "\n",
    "def start():\n",
    "    return 1, 0\n",
    "\n",
    "def reverse():\n",
    "    return modulus - 1, modulus - 1\n",
    "\n",
    "def cut(n):\n",
    "    n = int(n) % modulus\n",
    "    return 1, n\n",
    "\n",
    "def deal(n):\n",
    "    n = int(n)\n",
    "    return modinv(n, modulus), 0\n",
    "\n",
    "def compose(e1, e2):\n",
    "    m1, a1 = e1\n",
    "    m2, a2 = e2\n",
    "    return m1 * m2 % modulus, (a1 * m2 + a2) % modulus\n",
    "\n",
    "SHUFFLES = {r'^deal into new stack$': reverse,\n",
    "            r'^cut (-?[0-9]+)$': cut,\n",
    "            r'^deal with increment ([0-9]+)$': deal}\n",
    "\n",
    "# invert the shuffle to work backward\n",
    "# reduce the operations to a single modular linear expression ax + b\n",
    "expr = start()\n",
    "for l in data[::-1]:\n",
    "    for r, s in SHUFFLES.items():\n",
    "        if (m := re.match(r, l)):\n",
    "            expr = compose(expr, s(*m.groups()))\n",
    "            break\n",
    "\n",
    "# exponentiate the expression to the desired number of iterations\n",
    "result = (1, 0)\n",
    "power = expr\n",
    "while exponent:\n",
    "    if exponent % 2:\n",
    "        result = compose(result, power)\n",
    "    power = compose(power, power)    \n",
    "    exponent //= 2\n",
    "\n",
    "# apply the modular linear transformation to the input position\n",
    "mul, add = result\n",
    "(2020 * mul + add) % modulus\n"
   ]
  },
  {
   "cell_type": "code",
   "execution_count": null,
   "metadata": {},
   "outputs": [],
   "source": []
  }
 ],
 "metadata": {
  "kernelspec": {
   "display_name": "Python 3",
   "language": "python",
   "name": "python3"
  },
  "language_info": {
   "codemirror_mode": {
    "name": "ipython",
    "version": 3
   },
   "file_extension": ".py",
   "mimetype": "text/x-python",
   "name": "python",
   "nbconvert_exporter": "python",
   "pygments_lexer": "ipython3",
   "version": "3.8.0"
  }
 },
 "nbformat": 4,
 "nbformat_minor": 2
}
