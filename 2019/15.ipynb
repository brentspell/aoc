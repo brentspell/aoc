{
 "cells": [
  {
   "cell_type": "code",
   "execution_count": 36,
   "metadata": {
    "ExecuteTime": {
     "end_time": "2019-12-15T14:35:46.377314Z",
     "start_time": "2019-12-15T14:35:46.372643Z"
    }
   },
   "outputs": [
    {
     "data": {
      "text/plain": [
       "<Figure size 432x288 with 0 Axes>"
      ]
     },
     "metadata": {},
     "output_type": "display_data"
    }
   ],
   "source": [
    "from collections import defaultdict\n",
    "\n",
    "import numpy as np\n",
    "from matplotlib import pyplot as plt\n",
    "\n",
    "plt.set_cmap('hot')\n"
   ]
  },
  {
   "cell_type": "code",
   "execution_count": 2,
   "metadata": {
    "ExecuteTime": {
     "end_time": "2019-12-15T14:27:44.142822Z",
     "start_time": "2019-12-15T14:27:44.139764Z"
    }
   },
   "outputs": [],
   "source": [
    "with open('15.txt', 'r') as file:\n",
    "    data = [int(s) for s in file.read().split(',')]\n"
   ]
  },
  {
   "cell_type": "code",
   "execution_count": 3,
   "metadata": {
    "ExecuteTime": {
     "end_time": "2019-12-15T14:27:44.522537Z",
     "start_time": "2019-12-15T14:27:44.502707Z"
    }
   },
   "outputs": [],
   "source": [
    "class Halt(Exception):\n",
    "    pass\n",
    "\n",
    "\n",
    "class Yield(Exception):\n",
    "    pass\n",
    "\n",
    "\n",
    "class VM:\n",
    "    def __init__(self, memory, inputs, outputs):\n",
    "        self.ops = {1: self.add, \n",
    "                    2: self.mul, \n",
    "                    3: self.input_, \n",
    "                    4: self.output, \n",
    "                    5: self.jnz,\n",
    "                    6: self.jz,\n",
    "                    7: self.lt,\n",
    "                    8: self.eq,\n",
    "                    9: self.rbo,\n",
    "                    99: self.hcf}\n",
    "        self.memory = memory\n",
    "        self.pointer = 0\n",
    "        self.base = 0\n",
    "        self.inputs = inputs\n",
    "        self.outputs = outputs\n",
    "\n",
    "    def run(self):\n",
    "        while self.step():\n",
    "            pass\n",
    "        \n",
    "    def step(self):\n",
    "        try:\n",
    "            while True:\n",
    "                self.ops[self.read(self.pointer) % 100]()\n",
    "        except Yield:\n",
    "            return True\n",
    "        except Halt:\n",
    "            return False\n",
    "\n",
    "    def add(self):\n",
    "        a, b, c = self.decode(3)\n",
    "        self.write(c, self.read(a) + self.read(b))\n",
    "\n",
    "    def mul(self):\n",
    "        a, b, c = self.decode(3)\n",
    "        self.write(c, self.read(a) * self.read(b))\n",
    "\n",
    "    def input_(self):\n",
    "        a, = self.decode(1)\n",
    "        self.write(a, self.inputs.pop(0))\n",
    "\n",
    "    def output(self):\n",
    "        a, = self.decode(1)\n",
    "        self.outputs.append(self.read(a))\n",
    "        raise Yield()\n",
    "\n",
    "    def jnz(self):\n",
    "        a, b = self.decode(2)\n",
    "        if self.read(a) != 0:\n",
    "            self.pointer = self.read(b)\n",
    "\n",
    "    def jz(self):\n",
    "        a, b = self.decode(2)\n",
    "        if self.read(a) == 0:\n",
    "            self.pointer = self.read(b)\n",
    "\n",
    "    def lt(self):\n",
    "        a, b, c = self.decode(3)\n",
    "        self.write(c, 1 if self.read(a) < self.read(b) else 0)\n",
    "\n",
    "    def eq(self):\n",
    "        a, b, c = self.decode(3)\n",
    "        self.write(c, 1 if self.read(a) == self.read(b) else 0)\n",
    "        \n",
    "    def rbo(self):\n",
    "        a, = self.decode(1)\n",
    "        self.base += self.read(a)\n",
    "\n",
    "    def hcf(self):\n",
    "        raise Halt()\n",
    "\n",
    "    def decode(self, count):\n",
    "        mode = self.read(self.pointer) // 100\n",
    "        self.pointer += 1\n",
    "\n",
    "        params = []\n",
    "        for i in range(count):\n",
    "            value = self.pointer\n",
    "            if mode % 10 == 0:\n",
    "                value = self.read(value)\n",
    "            elif mode % 10 == 2:\n",
    "                value = self.base + self.read(value)\n",
    "            params.append(value)\n",
    "            self.pointer += 1\n",
    "            mode //= 10\n",
    "        return params\n",
    "    \n",
    "    def read(self, offset):\n",
    "        self.extend(offset)\n",
    "        return self.memory[offset]\n",
    "    \n",
    "    def write(self, offset, value):\n",
    "        self.extend(offset)\n",
    "        self.memory[offset] = value\n",
    "    \n",
    "    def extend(self, offset):\n",
    "        if offset >= len(self.memory):\n",
    "            self.memory.extend([0] * (offset - len(self.memory) + 1))\n"
   ]
  },
  {
   "cell_type": "markdown",
   "metadata": {},
   "source": [
    "## Part 1"
   ]
  },
  {
   "cell_type": "code",
   "execution_count": 31,
   "metadata": {
    "ExecuteTime": {
     "end_time": "2019-12-15T14:35:36.291889Z",
     "start_time": "2019-12-15T14:35:35.915980Z"
    }
   },
   "outputs": [
    {
     "data": {
      "image/png": "[encoded data removed]",
      "text/plain": [
       "<Figure size 432x288 with 1 Axes>"
      ]
     },
     "metadata": {
      "needs_background": "light"
     },
     "output_type": "display_data"
    },
    {
     "data": {
      "text/plain": [
       "308"
      ]
     },
     "execution_count": 31,
     "metadata": {},
     "output_type": "execute_result"
    }
   ],
   "source": [
    "grid = defaultdict(int)\n",
    "\n",
    "inputs = []\n",
    "outputs = []\n",
    "vm = VM(data.copy(), inputs, outputs)\n",
    "\n",
    "pos = (0, 0)\n",
    "grid[pos] = 1\n",
    "trail = []\n",
    "move = 1\n",
    "while True:\n",
    "    backtrack = False\n",
    "    if grid[(newpos := (pos[0], pos[1] - 1))] == 0:\n",
    "        move = 1\n",
    "    elif grid[(newpos := (pos[0], pos[1] + 1))] == 0:\n",
    "        move = 2\n",
    "    elif grid[(newpos := (pos[0] - 1, pos[1]))] == 0:\n",
    "        move = 3\n",
    "    elif grid[(newpos := (pos[0] + 1, pos[1]))] == 0:\n",
    "        move = 4\n",
    "    elif trail == []:\n",
    "        break\n",
    "    else:\n",
    "        move, newpos = trail.pop()\n",
    "        move = {1: 2, 2: 1, 3: 4, 4:3}[move]\n",
    "        backtrack = True\n",
    "\n",
    "    inputs.append(move)\n",
    "    vm.step()\n",
    "    status = outputs.pop()\n",
    "    if status == 0:\n",
    "        grid[newpos] = 2\n",
    "    elif status == 1:\n",
    "        if not backtrack:\n",
    "            trail.append((move, pos))\n",
    "        grid[newpos] = 1\n",
    "        pos = newpos\n",
    "    elif status == 2:\n",
    "        trail.append((move, newpos))\n",
    "        oxypos = pos = newpos\n",
    "        steps = len(trail)\n",
    "\n",
    "image = np.zeros([41, 41])\n",
    "origin = (image.shape[0] // 2 + 1, image.shape[1] // 2 + 1)\n",
    "for k, v in grid.items():\n",
    "    image[k[0] + origin[0], k[1] + origin[1]] = v\n",
    "image[image == 2] = 0\n",
    "image[origin] = 2\n",
    "image[oxypos[0] + origin[0], oxypos[1] + origin[1]] = 3\n",
    "plt.imshow(image.T)\n",
    "plt.show()\n",
    "\n",
    "map_ = grid.copy()\n",
    "steps\n"
   ]
  },
  {
   "cell_type": "markdown",
   "metadata": {},
   "source": [
    "## Part 2"
   ]
  },
  {
   "cell_type": "code",
   "execution_count": 35,
   "metadata": {
    "ExecuteTime": {
     "end_time": "2019-12-15T14:35:43.279196Z",
     "start_time": "2019-12-15T14:35:43.269452Z"
    }
   },
   "outputs": [
    {
     "data": {
      "text/plain": [
       "328"
      ]
     },
     "execution_count": 35,
     "metadata": {},
     "output_type": "execute_result"
    }
   ],
   "source": [
    "grid = map_.copy()\n",
    "queue = [oxypos]\n",
    "steps = 0\n",
    "while queue:\n",
    "    moves = []\n",
    "    while queue:\n",
    "        pos = queue.pop(0)\n",
    "        grid[pos] = 2\n",
    "        if grid[(newpos := (pos[0], pos[1] - 1))] == 1:\n",
    "            moves.append(newpos)\n",
    "        if grid[(newpos := (pos[0], pos[1] + 1))] == 1:\n",
    "            moves.append(newpos)\n",
    "        if grid[(newpos := (pos[0] - 1, pos[1]))] == 1:\n",
    "            moves.append(newpos)\n",
    "        if grid[(newpos := (pos[0] + 1, pos[1]))] == 1:\n",
    "            moves.append(newpos)\n",
    "    steps += 1\n",
    "    queue += moves\n",
    "\n",
    "steps - 1\n"
   ]
  },
  {
   "cell_type": "code",
   "execution_count": null,
   "metadata": {},
   "outputs": [],
   "source": []
  }
 ],
 "metadata": {
  "kernelspec": {
   "display_name": "Python 3",
   "language": "python",
   "name": "python3"
  },
  "language_info": {
   "codemirror_mode": {
    "name": "ipython",
    "version": 3
   },
   "file_extension": ".py",
   "mimetype": "text/x-python",
   "name": "python",
   "nbconvert_exporter": "python",
   "pygments_lexer": "ipython3",
   "version": "3.8.0"
  }
 },
 "nbformat": 4,
 "nbformat_minor": 2
}
