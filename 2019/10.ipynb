{
 "cells": [
  {
   "cell_type": "code",
   "execution_count": 1,
   "metadata": {
    "ExecuteTime": {
     "end_time": "2019-12-10T14:17:00.637684Z",
     "start_time": "2019-12-10T14:17:00.635597Z"
    }
   },
   "outputs": [],
   "source": [
    "from collections import defaultdict\n",
    "import numpy as np\n"
   ]
  },
  {
   "cell_type": "code",
   "execution_count": 2,
   "metadata": {
    "ExecuteTime": {
     "end_time": "2019-12-10T14:17:00.641520Z",
     "start_time": "2019-12-10T14:17:00.639085Z"
    }
   },
   "outputs": [],
   "source": [
    "with open('10.txt', 'r') as file:\n",
    "    data = [l.strip() for l in file]\n"
   ]
  },
  {
   "cell_type": "code",
   "execution_count": 3,
   "metadata": {
    "ExecuteTime": {
     "end_time": "2019-12-10T14:17:00.647252Z",
     "start_time": "2019-12-10T14:17:00.643547Z"
    }
   },
   "outputs": [],
   "source": [
    "def equals(p, q):\n",
    "    return np.all(p == q)\n",
    "\n",
    "def angle(p, q):\n",
    "    return np.arctan2(*(q - p))\n",
    "\n",
    "def distance(p, q):\n",
    "    return np.linalg.norm(q - p, 2)\n"
   ]
  },
  {
   "cell_type": "code",
   "execution_count": 4,
   "metadata": {
    "ExecuteTime": {
     "end_time": "2019-12-10T14:17:00.727929Z",
     "start_time": "2019-12-10T14:17:00.723814Z"
    }
   },
   "outputs": [],
   "source": [
    "points = [np.array([x, y]) \n",
    "          for y in range(len(data))\n",
    "          for x in range(len(data[0])) \n",
    "          if data[y][x] == '#']\n"
   ]
  },
  {
   "cell_type": "code",
   "execution_count": 11,
   "metadata": {
    "ExecuteTime": {
     "end_time": "2019-12-10T14:21:27.404611Z",
     "start_time": "2019-12-10T14:21:26.176062Z"
    }
   },
   "outputs": [
    {
     "data": {
      "text/plain": [
       "344"
      ]
     },
     "execution_count": 11,
     "metadata": {},
     "output_type": "execute_result"
    }
   ],
   "source": [
    "# find the distinct number of angles from each source point\n",
    "visibles = {tuple(p): len({angle(p, q)\n",
    "                           for q in points \n",
    "                           if not equals(p, q)})\n",
    "            for p in points}\n",
    "\n",
    "# find the asteroid with the most visible asteroids\n",
    "station = max(visibles.keys(), key=lambda k: visibles[k])\n",
    "visibles[station]\n"
   ]
  },
  {
   "cell_type": "code",
   "execution_count": 8,
   "metadata": {
    "ExecuteTime": {
     "end_time": "2019-12-10T14:17:46.396018Z",
     "start_time": "2019-12-10T14:17:46.373260Z"
    }
   },
   "outputs": [
    {
     "data": {
      "text/plain": [
       "2732"
      ]
     },
     "execution_count": 8,
     "metadata": {},
     "output_type": "execute_result"
    }
   ],
   "source": [
    "# find the lists of points at each angle from the origin\n",
    "zapped = defaultdict(list)\n",
    "for p in points:\n",
    "    if not equals(p, station):\n",
    "        zapped[angle(station, p)].append(p)\n",
    "        \n",
    "# sort the angle list clockwise\n",
    "zapped = [zapped[k] for k in sorted(zapped.keys(), reverse=True)]\n",
    "\n",
    "# sort the point lists by euclidean distance\n",
    "zapped = [sorted(v, key=lambda p: distance(station, p))\n",
    "          for v in zapped]\n",
    "\n",
    "# find the 200th asteroid to zap\n",
    "j = 0\n",
    "for i in range(200):\n",
    "    point = zapped[j].pop(0)\n",
    "    while not zapped[(j := (j + 1) % len(zapped))]:\n",
    "        pass\n",
    "\n",
    "point[0] * 100 + point[1]\n"
   ]
  },
  {
   "cell_type": "code",
   "execution_count": null,
   "metadata": {},
   "outputs": [],
   "source": []
  }
 ],
 "metadata": {
  "kernelspec": {
   "display_name": "Python 3",
   "language": "python",
   "name": "python3"
  },
  "language_info": {
   "codemirror_mode": {
    "name": "ipython",
    "version": 3
   },
   "file_extension": ".py",
   "mimetype": "text/x-python",
   "name": "python",
   "nbconvert_exporter": "python",
   "pygments_lexer": "ipython3",
   "version": "3.8.0"
  }
 },
 "nbformat": 4,
 "nbformat_minor": 2
}
